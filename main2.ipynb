{
 "cells": [
  {
   "cell_type": "code",
   "execution_count": 1,
   "metadata": {},
   "outputs": [
    {
     "name": "stderr",
     "output_type": "stream",
     "text": [
      "2023-10-11 22:36:29.166428: I tensorflow/core/platform/cpu_feature_guard.cc:182] This TensorFlow binary is optimized to use available CPU instructions in performance-critical operations.\n",
      "To enable the following instructions: SSE4.1 SSE4.2 AVX FMA, in other operations, rebuild TensorFlow with the appropriate compiler flags.\n"
     ]
    }
   ],
   "source": [
    "import gc\n",
    "\n",
    "import duckdb\n",
    "from transformers import BigBirdModel, BigBirdTokenizerFast\n",
    "from textsum.summarize import Summarizer"
   ]
  },
  {
   "cell_type": "code",
   "execution_count": 2,
   "metadata": {},
   "outputs": [],
   "source": [
    "# Conectar (ou criar) um banco de dados\n",
    "con = duckdb.connect(database='jus.duckdb', read_only=False)"
   ]
  },
  {
   "cell_type": "code",
   "execution_count": null,
   "metadata": {},
   "outputs": [],
   "source": [
    "con.execute(\"CREATE TABLE metadadosPublicacao202202 AS SELECT * FROM read_json_auto('./data/202202-stj/metadadosPublicacao202202.json');\")"
   ]
  },
  {
   "cell_type": "code",
   "execution_count": null,
   "metadata": {},
   "outputs": [],
   "source": [
    "con.execute(\"DELETE FROM metadadosPublicacao202202 WHERE teor NOT IN ('Concedendo', 'Negando') or teor IS NULL;\")"
   ]
  },
  {
   "cell_type": "code",
   "execution_count": 3,
   "metadata": {},
   "outputs": [
    {
     "data": {
      "text/html": [
       "<div>\n",
       "<style scoped>\n",
       "    .dataframe tbody tr th:only-of-type {\n",
       "        vertical-align: middle;\n",
       "    }\n",
       "\n",
       "    .dataframe tbody tr th {\n",
       "        vertical-align: top;\n",
       "    }\n",
       "\n",
       "    .dataframe thead th {\n",
       "        text-align: right;\n",
       "    }\n",
       "</style>\n",
       "<table border=\"1\" class=\"dataframe\">\n",
       "  <thead>\n",
       "    <tr style=\"text-align: right;\">\n",
       "      <th></th>\n",
       "      <th>seqDocumento</th>\n",
       "      <th>dataPublicacao</th>\n",
       "      <th>tipoDocumento</th>\n",
       "      <th>numeroRegistro</th>\n",
       "      <th>processo</th>\n",
       "      <th>dataRecebimento</th>\n",
       "      <th>dataDistribuicao</th>\n",
       "      <th>ministro</th>\n",
       "      <th>recurso</th>\n",
       "      <th>teor</th>\n",
       "      <th>descricaoMonocratica</th>\n",
       "      <th>assuntos</th>\n",
       "    </tr>\n",
       "  </thead>\n",
       "  <tbody>\n",
       "    <tr>\n",
       "      <th>0</th>\n",
       "      <td>144948780</td>\n",
       "      <td>1644458400000</td>\n",
       "      <td>ACÓRDÃO</td>\n",
       "      <td>202002151590</td>\n",
       "      <td>REsp 1890871</td>\n",
       "      <td>1598238000000</td>\n",
       "      <td>1598929200000</td>\n",
       "      <td>ASSUSETE MAGALHÃES</td>\n",
       "      <td>None</td>\n",
       "      <td>Concedendo</td>\n",
       "      <td>None</td>\n",
       "      <td>10254;10225;10254;10225</td>\n",
       "    </tr>\n",
       "    <tr>\n",
       "      <th>1</th>\n",
       "      <td>145620297</td>\n",
       "      <td>1645412400000</td>\n",
       "      <td>ACÓRDÃO</td>\n",
       "      <td>202103074377</td>\n",
       "      <td>HC 695900</td>\n",
       "      <td>1632279600000</td>\n",
       "      <td>1632279600000</td>\n",
       "      <td>SEBASTIÃO REIS JÚNIOR</td>\n",
       "      <td>None</td>\n",
       "      <td>Concedendo</td>\n",
       "      <td>None</td>\n",
       "      <td>3372;3372</td>\n",
       "    </tr>\n",
       "    <tr>\n",
       "      <th>2</th>\n",
       "      <td>139579332</td>\n",
       "      <td>1644890400000</td>\n",
       "      <td>ACÓRDÃO</td>\n",
       "      <td>202103073420</td>\n",
       "      <td>HC 695866</td>\n",
       "      <td>1632279600000</td>\n",
       "      <td>1632279600000</td>\n",
       "      <td>ANTONIO SALDANHA PALHEIRO</td>\n",
       "      <td>None</td>\n",
       "      <td>Concedendo</td>\n",
       "      <td>None</td>\n",
       "      <td>4355;4355;3608</td>\n",
       "    </tr>\n",
       "    <tr>\n",
       "      <th>3</th>\n",
       "      <td>141816757</td>\n",
       "      <td>1645758000000</td>\n",
       "      <td>ACÓRDÃO</td>\n",
       "      <td>202103076854</td>\n",
       "      <td>Rcl 42334</td>\n",
       "      <td>1632279600000</td>\n",
       "      <td>1632452400000</td>\n",
       "      <td>REYNALDO SOARES DA FONSECA</td>\n",
       "      <td>None</td>\n",
       "      <td>Concedendo</td>\n",
       "      <td>None</td>\n",
       "      <td>3608;3608</td>\n",
       "    </tr>\n",
       "    <tr>\n",
       "      <th>4</th>\n",
       "      <td>144148942</td>\n",
       "      <td>1645412400000</td>\n",
       "      <td>ACÓRDÃO</td>\n",
       "      <td>202103167750</td>\n",
       "      <td>HC 697730</td>\n",
       "      <td>1632884400000</td>\n",
       "      <td>1633057200000</td>\n",
       "      <td>OLINDO MENEZES (DESEMBARGADOR CONVOCADO DO TRF...</td>\n",
       "      <td>None</td>\n",
       "      <td>Concedendo</td>\n",
       "      <td>None</td>\n",
       "      <td>3608;3608</td>\n",
       "    </tr>\n",
       "    <tr>\n",
       "      <th>...</th>\n",
       "      <td>...</td>\n",
       "      <td>...</td>\n",
       "      <td>...</td>\n",
       "      <td>...</td>\n",
       "      <td>...</td>\n",
       "      <td>...</td>\n",
       "      <td>...</td>\n",
       "      <td>...</td>\n",
       "      <td>...</td>\n",
       "      <td>...</td>\n",
       "      <td>...</td>\n",
       "      <td>...</td>\n",
       "    </tr>\n",
       "    <tr>\n",
       "      <th>35399</th>\n",
       "      <td>144531393</td>\n",
       "      <td>1643940000000</td>\n",
       "      <td>DECISÃO</td>\n",
       "      <td>201100020306</td>\n",
       "      <td>REsp 1228590</td>\n",
       "      <td>1294192800000</td>\n",
       "      <td>1296007200000</td>\n",
       "      <td>OG FERNANDES</td>\n",
       "      <td>EMBARGOS DE DECLARAÇÃO</td>\n",
       "      <td>Concedendo</td>\n",
       "      <td>Embargos de Declaração Acolhidos</td>\n",
       "      <td>10318</td>\n",
       "    </tr>\n",
       "    <tr>\n",
       "      <th>35400</th>\n",
       "      <td>143092827</td>\n",
       "      <td>1645758000000</td>\n",
       "      <td>DECISÃO</td>\n",
       "      <td>201001614248</td>\n",
       "      <td>REsp 1210458</td>\n",
       "      <td>1285642800000</td>\n",
       "      <td>1288058400000</td>\n",
       "      <td>OG FERNANDES</td>\n",
       "      <td>None</td>\n",
       "      <td>Concedendo</td>\n",
       "      <td>Conhecido em parte o recurso e provido em parte</td>\n",
       "      <td>7760</td>\n",
       "    </tr>\n",
       "    <tr>\n",
       "      <th>35401</th>\n",
       "      <td>142924179</td>\n",
       "      <td>1643767200000</td>\n",
       "      <td>DECISÃO</td>\n",
       "      <td>200902062079</td>\n",
       "      <td>EREsp 1163268</td>\n",
       "      <td>1256004000000</td>\n",
       "      <td>1256608800000</td>\n",
       "      <td>FRANCISCO FALCÃO</td>\n",
       "      <td>None</td>\n",
       "      <td>Concedendo</td>\n",
       "      <td>Conhecido o recurso e provido</td>\n",
       "      <td>10028;10028;1000238</td>\n",
       "    </tr>\n",
       "    <tr>\n",
       "      <th>35402</th>\n",
       "      <td>145440916</td>\n",
       "      <td>1644976800000</td>\n",
       "      <td>DECISÃO</td>\n",
       "      <td>200801470759</td>\n",
       "      <td>AR 3998</td>\n",
       "      <td>1214794800000</td>\n",
       "      <td>1214794800000</td>\n",
       "      <td>BENEDITO GONÇALVES</td>\n",
       "      <td>EMBARGOS DE DECLARAÇÃO</td>\n",
       "      <td>Concedendo</td>\n",
       "      <td>Embargos de Declaração Acolhidos</td>\n",
       "      <td>8826</td>\n",
       "    </tr>\n",
       "    <tr>\n",
       "      <th>35403</th>\n",
       "      <td>144826578</td>\n",
       "      <td>1645063200000</td>\n",
       "      <td>DECISÃO</td>\n",
       "      <td>200800582891</td>\n",
       "      <td>REsp 1042009</td>\n",
       "      <td>1205290800000</td>\n",
       "      <td>1206500400000</td>\n",
       "      <td>MARIA ISABEL GALLOTTI</td>\n",
       "      <td>EMBARGOS DE DECLARAÇÃO</td>\n",
       "      <td>Concedendo</td>\n",
       "      <td>Embargos de Declaração Acolhidos em Parte</td>\n",
       "      <td>9587;9587</td>\n",
       "    </tr>\n",
       "  </tbody>\n",
       "</table>\n",
       "<p>35404 rows × 12 columns</p>\n",
       "</div>"
      ],
      "text/plain": [
       "       seqDocumento  dataPublicacao tipoDocumento  numeroRegistro  \\\n",
       "0         144948780   1644458400000       ACÓRDÃO    202002151590   \n",
       "1         145620297   1645412400000       ACÓRDÃO    202103074377   \n",
       "2         139579332   1644890400000       ACÓRDÃO    202103073420   \n",
       "3         141816757   1645758000000       ACÓRDÃO    202103076854   \n",
       "4         144148942   1645412400000       ACÓRDÃO    202103167750   \n",
       "...             ...             ...           ...             ...   \n",
       "35399     144531393   1643940000000       DECISÃO    201100020306   \n",
       "35400     143092827   1645758000000       DECISÃO    201001614248   \n",
       "35401     142924179   1643767200000       DECISÃO    200902062079   \n",
       "35402     145440916   1644976800000       DECISÃO    200801470759   \n",
       "35403     144826578   1645063200000       DECISÃO    200800582891   \n",
       "\n",
       "                processo  dataRecebimento  dataDistribuicao  \\\n",
       "0       REsp 1890871        1598238000000     1598929200000   \n",
       "1         HC 695900         1632279600000     1632279600000   \n",
       "2         HC 695866         1632279600000     1632279600000   \n",
       "3        Rcl 42334          1632279600000     1632452400000   \n",
       "4         HC 697730         1632884400000     1633057200000   \n",
       "...                  ...              ...               ...   \n",
       "35399   REsp 1228590        1294192800000     1296007200000   \n",
       "35400   REsp 1210458        1285642800000     1288058400000   \n",
       "35401  EREsp 1163268        1256004000000     1256608800000   \n",
       "35402     AR 3998           1214794800000     1214794800000   \n",
       "35403   REsp 1042009        1205290800000     1206500400000   \n",
       "\n",
       "                                                ministro  \\\n",
       "0                                     ASSUSETE MAGALHÃES   \n",
       "1                                  SEBASTIÃO REIS JÚNIOR   \n",
       "2                              ANTONIO SALDANHA PALHEIRO   \n",
       "3                             REYNALDO SOARES DA FONSECA   \n",
       "4      OLINDO MENEZES (DESEMBARGADOR CONVOCADO DO TRF...   \n",
       "...                                                  ...   \n",
       "35399                                       OG FERNANDES   \n",
       "35400                                       OG FERNANDES   \n",
       "35401                                   FRANCISCO FALCÃO   \n",
       "35402                                 BENEDITO GONÇALVES   \n",
       "35403                              MARIA ISABEL GALLOTTI   \n",
       "\n",
       "                      recurso        teor  \\\n",
       "0                        None  Concedendo   \n",
       "1                        None  Concedendo   \n",
       "2                        None  Concedendo   \n",
       "3                        None  Concedendo   \n",
       "4                        None  Concedendo   \n",
       "...                       ...         ...   \n",
       "35399  EMBARGOS DE DECLARAÇÃO  Concedendo   \n",
       "35400                    None  Concedendo   \n",
       "35401                    None  Concedendo   \n",
       "35402  EMBARGOS DE DECLARAÇÃO  Concedendo   \n",
       "35403  EMBARGOS DE DECLARAÇÃO  Concedendo   \n",
       "\n",
       "                                  descricaoMonocratica  \\\n",
       "0                                                 None   \n",
       "1                                                 None   \n",
       "2                                                 None   \n",
       "3                                                 None   \n",
       "4                                                 None   \n",
       "...                                                ...   \n",
       "35399                 Embargos de Declaração Acolhidos   \n",
       "35400  Conhecido em parte o recurso e provido em parte   \n",
       "35401                    Conhecido o recurso e provido   \n",
       "35402                 Embargos de Declaração Acolhidos   \n",
       "35403        Embargos de Declaração Acolhidos em Parte   \n",
       "\n",
       "                      assuntos  \n",
       "0      10254;10225;10254;10225  \n",
       "1                    3372;3372  \n",
       "2               4355;4355;3608  \n",
       "3                    3608;3608  \n",
       "4                    3608;3608  \n",
       "...                        ...  \n",
       "35399                    10318  \n",
       "35400                     7760  \n",
       "35401      10028;10028;1000238  \n",
       "35402                     8826  \n",
       "35403                9587;9587  \n",
       "\n",
       "[35404 rows x 12 columns]"
      ]
     },
     "execution_count": 3,
     "metadata": {},
     "output_type": "execute_result"
    }
   ],
   "source": [
    "con.execute(\"select * from metadadosPublicacao202202\").df()"
   ]
  },
  {
   "cell_type": "code",
   "execution_count": null,
   "metadata": {},
   "outputs": [],
   "source": [
    "# tabela de texto dos juiz\n",
    "con.execute(\"\"\"\n",
    "  CREATE TABLE decisions_description (\n",
    "    ID INT PRIMARY KEY,\n",
    "    content TEXT,\n",
    "    summarize TEXT\n",
    "  );\n",
    "\"\"\")"
   ]
  },
  {
   "cell_type": "code",
   "execution_count": null,
   "metadata": {},
   "outputs": [],
   "source": [
    "con.execute(\"COPY decisions_description FROM './decisions_description_202310102238.csv' DELIMITER ',' HEADER;\")"
   ]
  },
  {
   "cell_type": "code",
   "execution_count": 3,
   "metadata": {},
   "outputs": [
    {
     "data": {
      "text/html": [
       "<div>\n",
       "<style scoped>\n",
       "    .dataframe tbody tr th:only-of-type {\n",
       "        vertical-align: middle;\n",
       "    }\n",
       "\n",
       "    .dataframe tbody tr th {\n",
       "        vertical-align: top;\n",
       "    }\n",
       "\n",
       "    .dataframe thead th {\n",
       "        text-align: right;\n",
       "    }\n",
       "</style>\n",
       "<table border=\"1\" class=\"dataframe\">\n",
       "  <thead>\n",
       "    <tr style=\"text-align: right;\">\n",
       "      <th></th>\n",
       "      <th>ID</th>\n",
       "      <th>content</th>\n",
       "      <th>summarize</th>\n",
       "    </tr>\n",
       "  </thead>\n",
       "  <tbody>\n",
       "    <tr>\n",
       "      <th>0</th>\n",
       "      <td>121184492</td>\n",
       "      <td>DECISION &gt; It is treated of habeas corpus impe...</td>\n",
       "      <td>Gulliver argues that the prison system is inhe...</td>\n",
       "    </tr>\n",
       "    <tr>\n",
       "      <th>1</th>\n",
       "      <td>122027196</td>\n",
       "      <td>DECISION&lt;br&gt; It is considered a special appeal...</td>\n",
       "      <td>In this special appeal, a citizen appeals agai...</td>\n",
       "    </tr>\n",
       "    <tr>\n",
       "      <th>2</th>\n",
       "      <td>123312824</td>\n",
       "      <td>DECISION&lt;br&gt; It is considered an ordinary appe...</td>\n",
       "      <td>the author defends an ordinary appeal brought ...</td>\n",
       "    </tr>\n",
       "    <tr>\n",
       "      <th>3</th>\n",
       "      <td>123447928</td>\n",
       "      <td>DECISION&lt;br&gt; It is treated of habeas corpus im...</td>\n",
       "      <td>Gulliver appeals to the court for a partial re...</td>\n",
       "    </tr>\n",
       "    <tr>\n",
       "      <th>4</th>\n",
       "      <td>123917739</td>\n",
       "      <td>DECISION&lt;br&gt; It is considered a special appeal...</td>\n",
       "      <td>In this special appeal, the plaintiff, Nichole...</td>\n",
       "    </tr>\n",
       "    <tr>\n",
       "      <th>...</th>\n",
       "      <td>...</td>\n",
       "      <td>...</td>\n",
       "      <td>...</td>\n",
       "    </tr>\n",
       "    <tr>\n",
       "      <th>5800</th>\n",
       "      <td>146076514</td>\n",
       "      <td>DECISION&lt;br&gt; By understanding that better exam...</td>\n",
       "      <td>None</td>\n",
       "    </tr>\n",
       "    <tr>\n",
       "      <th>5801</th>\n",
       "      <td>144454767</td>\n",
       "      <td>DECISION&lt;br&gt; By understanding that better exam...</td>\n",
       "      <td>None</td>\n",
       "    </tr>\n",
       "    <tr>\n",
       "      <th>5802</th>\n",
       "      <td>145089835</td>\n",
       "      <td>DECISION&lt;br&gt; By understanding that better exam...</td>\n",
       "      <td>None</td>\n",
       "    </tr>\n",
       "    <tr>\n",
       "      <th>5803</th>\n",
       "      <td>145511648</td>\n",
       "      <td>DECISION&lt;br&gt; By understanding that better exam...</td>\n",
       "      <td>None</td>\n",
       "    </tr>\n",
       "    <tr>\n",
       "      <th>5804</th>\n",
       "      <td>145508379</td>\n",
       "      <td>The Court of Justice of the Court of Justice o...</td>\n",
       "      <td>None</td>\n",
       "    </tr>\n",
       "  </tbody>\n",
       "</table>\n",
       "<p>5805 rows × 3 columns</p>\n",
       "</div>"
      ],
      "text/plain": [
       "             ID                                            content  \\\n",
       "0     121184492  DECISION > It is treated of habeas corpus impe...   \n",
       "1     122027196  DECISION<br> It is considered a special appeal...   \n",
       "2     123312824  DECISION<br> It is considered an ordinary appe...   \n",
       "3     123447928  DECISION<br> It is treated of habeas corpus im...   \n",
       "4     123917739  DECISION<br> It is considered a special appeal...   \n",
       "...         ...                                                ...   \n",
       "5800  146076514  DECISION<br> By understanding that better exam...   \n",
       "5801  144454767  DECISION<br> By understanding that better exam...   \n",
       "5802  145089835  DECISION<br> By understanding that better exam...   \n",
       "5803  145511648  DECISION<br> By understanding that better exam...   \n",
       "5804  145508379  The Court of Justice of the Court of Justice o...   \n",
       "\n",
       "                                              summarize  \n",
       "0     Gulliver argues that the prison system is inhe...  \n",
       "1     In this special appeal, a citizen appeals agai...  \n",
       "2     the author defends an ordinary appeal brought ...  \n",
       "3     Gulliver appeals to the court for a partial re...  \n",
       "4     In this special appeal, the plaintiff, Nichole...  \n",
       "...                                                 ...  \n",
       "5800                                               None  \n",
       "5801                                               None  \n",
       "5802                                               None  \n",
       "5803                                               None  \n",
       "5804                                               None  \n",
       "\n",
       "[5805 rows x 3 columns]"
      ]
     },
     "execution_count": 3,
     "metadata": {},
     "output_type": "execute_result"
    }
   ],
   "source": [
    "con.execute(\"select * from decisions_description\").df()"
   ]
  },
  {
   "cell_type": "code",
   "execution_count": 9,
   "metadata": {},
   "outputs": [
    {
     "data": {
      "text/plain": [
       "<duckdb.duckdb.DuckDBPyConnection at 0x7f4ca037eff0>"
      ]
     },
     "execution_count": 9,
     "metadata": {},
     "output_type": "execute_result"
    }
   ],
   "source": [
    "con.execute(\"CREATE TABLE BigBird(id INT PRIMARY KEY, data FLOAT8[]);\")"
   ]
  },
  {
   "cell_type": "code",
   "execution_count": 8,
   "metadata": {},
   "outputs": [
    {
     "data": {
      "text/plain": [
       "<duckdb.duckdb.DuckDBPyConnection at 0x7f4ca037eff0>"
      ]
     },
     "execution_count": 8,
     "metadata": {},
     "output_type": "execute_result"
    }
   ],
   "source": [
    "con.execute(\"drop table BigBird\")"
   ]
  },
  {
   "cell_type": "code",
   "execution_count": 10,
   "metadata": {},
   "outputs": [
    {
     "data": {
      "text/plain": [
       "<duckdb.duckdb.DuckDBPyConnection at 0x7f4ca037eff0>"
      ]
     },
     "execution_count": 10,
     "metadata": {},
     "output_type": "execute_result"
    }
   ],
   "source": [
    "con.execute(\"CREATE TABLE BigBird_norm(id INT UNIQUE REFERENCES BigBird(id), norm FLOAT8);\")"
   ]
  },
  {
   "cell_type": "code",
   "execution_count": 7,
   "metadata": {},
   "outputs": [
    {
     "data": {
      "text/plain": [
       "<duckdb.duckdb.DuckDBPyConnection at 0x7f4ca037eff0>"
      ]
     },
     "execution_count": 7,
     "metadata": {},
     "output_type": "execute_result"
    }
   ],
   "source": [
    "con.execute(\"drop table BigBird_norm\")"
   ]
  },
  {
   "cell_type": "code",
   "execution_count": 11,
   "metadata": {},
   "outputs": [
    {
     "name": "stderr",
     "output_type": "stream",
     "text": [
      "10/10/2023 11:12:28 INFO Compiling model\n",
      "10/10/2023 11:12:30 INFO Loaded model pszemraj/long-t5-tglobal-base-16384-book-summary to cpu\n",
      "10/10/2023 11:12:30 INFO Forcing use_cache to True\n"
     ]
    }
   ],
   "source": [
    "summarizer = Summarizer(\n",
    "    model_name_or_path=\"pszemraj/long-t5-tglobal-base-16384-book-summary\",\n",
    "    num_beams=4,\n",
    "    force_cache=True,\n",
    "    #optimum_onnx=True,\n",
    "    compile_model=True\n",
    ")"
   ]
  },
  {
   "cell_type": "code",
   "execution_count": 12,
   "metadata": {},
   "outputs": [],
   "source": [
    "tokenizer = BigBirdTokenizerFast.from_pretrained(\n",
    "    \"google/bigbird-roberta-base\")  # large\n",
    "model = BigBirdModel.from_pretrained(\"google/bigbird-roberta-base\",\n",
    "                                     attention_type=\"original_full\"\n",
    "                                     # attention_type=\"block_sparse\"\n",
    "                                     )"
   ]
  },
  {
   "cell_type": "code",
   "execution_count": 13,
   "metadata": {},
   "outputs": [
    {
     "data": {
      "text/html": [
       "<div>\n",
       "<style scoped>\n",
       "    .dataframe tbody tr th:only-of-type {\n",
       "        vertical-align: middle;\n",
       "    }\n",
       "\n",
       "    .dataframe tbody tr th {\n",
       "        vertical-align: top;\n",
       "    }\n",
       "\n",
       "    .dataframe thead th {\n",
       "        text-align: right;\n",
       "    }\n",
       "</style>\n",
       "<table border=\"1\" class=\"dataframe\">\n",
       "  <thead>\n",
       "    <tr style=\"text-align: right;\">\n",
       "      <th></th>\n",
       "      <th>ID</th>\n",
       "      <th>content</th>\n",
       "    </tr>\n",
       "  </thead>\n",
       "  <tbody>\n",
       "    <tr>\n",
       "      <th>0</th>\n",
       "      <td>121184492</td>\n",
       "      <td>DECISION &gt; It is treated of habeas corpus impe...</td>\n",
       "    </tr>\n",
       "    <tr>\n",
       "      <th>1</th>\n",
       "      <td>122027196</td>\n",
       "      <td>DECISION&lt;br&gt; It is considered a special appeal...</td>\n",
       "    </tr>\n",
       "    <tr>\n",
       "      <th>2</th>\n",
       "      <td>123312824</td>\n",
       "      <td>DECISION&lt;br&gt; It is considered an ordinary appe...</td>\n",
       "    </tr>\n",
       "    <tr>\n",
       "      <th>3</th>\n",
       "      <td>123447928</td>\n",
       "      <td>DECISION&lt;br&gt; It is treated of habeas corpus im...</td>\n",
       "    </tr>\n",
       "    <tr>\n",
       "      <th>4</th>\n",
       "      <td>123917739</td>\n",
       "      <td>DECISION&lt;br&gt; It is considered a special appeal...</td>\n",
       "    </tr>\n",
       "    <tr>\n",
       "      <th>...</th>\n",
       "      <td>...</td>\n",
       "      <td>...</td>\n",
       "    </tr>\n",
       "    <tr>\n",
       "      <th>5800</th>\n",
       "      <td>146076514</td>\n",
       "      <td>DECISION&lt;br&gt; By understanding that better exam...</td>\n",
       "    </tr>\n",
       "    <tr>\n",
       "      <th>5801</th>\n",
       "      <td>144454767</td>\n",
       "      <td>DECISION&lt;br&gt; By understanding that better exam...</td>\n",
       "    </tr>\n",
       "    <tr>\n",
       "      <th>5802</th>\n",
       "      <td>145089835</td>\n",
       "      <td>DECISION&lt;br&gt; By understanding that better exam...</td>\n",
       "    </tr>\n",
       "    <tr>\n",
       "      <th>5803</th>\n",
       "      <td>145511648</td>\n",
       "      <td>DECISION&lt;br&gt; By understanding that better exam...</td>\n",
       "    </tr>\n",
       "    <tr>\n",
       "      <th>5804</th>\n",
       "      <td>145508379</td>\n",
       "      <td>The Court of Justice of the Court of Justice o...</td>\n",
       "    </tr>\n",
       "  </tbody>\n",
       "</table>\n",
       "<p>5805 rows × 2 columns</p>\n",
       "</div>"
      ],
      "text/plain": [
       "             ID                                            content\n",
       "0     121184492  DECISION > It is treated of habeas corpus impe...\n",
       "1     122027196  DECISION<br> It is considered a special appeal...\n",
       "2     123312824  DECISION<br> It is considered an ordinary appe...\n",
       "3     123447928  DECISION<br> It is treated of habeas corpus im...\n",
       "4     123917739  DECISION<br> It is considered a special appeal...\n",
       "...         ...                                                ...\n",
       "5800  146076514  DECISION<br> By understanding that better exam...\n",
       "5801  144454767  DECISION<br> By understanding that better exam...\n",
       "5802  145089835  DECISION<br> By understanding that better exam...\n",
       "5803  145511648  DECISION<br> By understanding that better exam...\n",
       "5804  145508379  The Court of Justice of the Court of Justice o...\n",
       "\n",
       "[5805 rows x 2 columns]"
      ]
     },
     "execution_count": 13,
     "metadata": {},
     "output_type": "execute_result"
    }
   ],
   "source": [
    "decisions_description = con.execute(\"SELECT ID,content FROM decisions_description\").df()\n",
    "decisions_description"
   ]
  },
  {
   "cell_type": "code",
   "execution_count": 14,
   "metadata": {},
   "outputs": [
    {
     "data": {
      "application/vnd.jupyter.widget-view+json": {
       "model_id": "dafccc90b61346dc8e0bd880cef11f03",
       "version_major": 2,
       "version_minor": 0
      },
      "text/plain": [
       "Generating Summaries:   0%|          | 0/2 [00:00<?, ?it/s]"
      ]
     },
     "metadata": {},
     "output_type": "display_data"
    },
    {
     "name": "stderr",
     "output_type": "stream",
     "text": [
      "/home/jadson/anaconda3/envs/py/lib/python3.10/site-packages/transformers/modeling_utils.py:835: FutureWarning: The `device` argument is deprecated and will be removed in v5 of Transformers.\n",
      "  warnings.warn(\n"
     ]
    },
    {
     "name": "stdout",
     "output_type": "stream",
     "text": [
      "0 121184492 1102\n",
      "0 121184492 1102 torch.Size([211, 768])\n"
     ]
    },
    {
     "data": {
      "application/vnd.jupyter.widget-view+json": {
       "model_id": "c1ff7a6b1552436a86eb3a11dc939e41",
       "version_major": 2,
       "version_minor": 0
      },
      "text/plain": [
       "Generating Summaries:   0%|          | 0/2 [00:00<?, ?it/s]"
      ]
     },
     "metadata": {},
     "output_type": "display_data"
    },
    {
     "name": "stdout",
     "output_type": "stream",
     "text": [
      "1 122027196 1050\n",
      "1 122027196 1050 torch.Size([219, 768])\n"
     ]
    },
    {
     "data": {
      "application/vnd.jupyter.widget-view+json": {
       "model_id": "cde92884691246448426ae6baf58a05c",
       "version_major": 2,
       "version_minor": 0
      },
      "text/plain": [
       "Generating Summaries:   0%|          | 0/3 [00:00<?, ?it/s]"
      ]
     },
     "metadata": {},
     "output_type": "display_data"
    },
    {
     "name": "stdout",
     "output_type": "stream",
     "text": [
      "2 123312824 1730\n",
      "2 123312824 1730 torch.Size([322, 768])\n"
     ]
    },
    {
     "data": {
      "application/vnd.jupyter.widget-view+json": {
       "model_id": "dd363c889f1647daac89467a8f155d48",
       "version_major": 2,
       "version_minor": 0
      },
      "text/plain": [
       "Generating Summaries:   0%|          | 0/2 [00:00<?, ?it/s]"
      ]
     },
     "metadata": {},
     "output_type": "display_data"
    },
    {
     "name": "stdout",
     "output_type": "stream",
     "text": [
      "3 123447928 1093\n",
      "3 123447928 1093 torch.Size([213, 768])\n"
     ]
    },
    {
     "data": {
      "application/vnd.jupyter.widget-view+json": {
       "model_id": "a0c50abe160347a08ecb4df136f83629",
       "version_major": 2,
       "version_minor": 0
      },
      "text/plain": [
       "Generating Summaries:   0%|          | 0/4 [00:00<?, ?it/s]"
      ]
     },
     "metadata": {},
     "output_type": "display_data"
    },
    {
     "name": "stdout",
     "output_type": "stream",
     "text": [
      "4 123917739 2304\n",
      "4 123917739 2304 torch.Size([465, 768])\n"
     ]
    },
    {
     "data": {
      "application/vnd.jupyter.widget-view+json": {
       "model_id": "5a3a220140a64c7082bcbfd81497e5ca",
       "version_major": 2,
       "version_minor": 0
      },
      "text/plain": [
       "Generating Summaries:   0%|          | 0/3 [00:00<?, ?it/s]"
      ]
     },
     "metadata": {},
     "output_type": "display_data"
    },
    {
     "name": "stdout",
     "output_type": "stream",
     "text": [
      "5 124072953 800\n",
      "5 124072953 800 torch.Size([170, 768])\n"
     ]
    },
    {
     "data": {
      "application/vnd.jupyter.widget-view+json": {
       "model_id": "3deefef34c8142e49efce9054aff51a1",
       "version_major": 2,
       "version_minor": 0
      },
      "text/plain": [
       "Generating Summaries:   0%|          | 0/1 [00:00<?, ?it/s]"
      ]
     },
     "metadata": {},
     "output_type": "display_data"
    },
    {
     "name": "stdout",
     "output_type": "stream",
     "text": [
      "6 125636167 648\n",
      "6 125636167 648 torch.Size([137, 768])\n"
     ]
    },
    {
     "data": {
      "application/vnd.jupyter.widget-view+json": {
       "model_id": "57d82ee3b3fa4615bd4652912b64ce8c",
       "version_major": 2,
       "version_minor": 0
      },
      "text/plain": [
       "Generating Summaries:   0%|          | 0/3 [00:00<?, ?it/s]"
      ]
     },
     "metadata": {},
     "output_type": "display_data"
    },
    {
     "name": "stdout",
     "output_type": "stream",
     "text": [
      "7 127181699 2916\n",
      "7 127181699 2916 torch.Size([589, 768])\n"
     ]
    },
    {
     "data": {
      "application/vnd.jupyter.widget-view+json": {
       "model_id": "7bf5af958e0f415e9bd1bdb3030bb1f3",
       "version_major": 2,
       "version_minor": 0
      },
      "text/plain": [
       "Generating Summaries:   0%|          | 0/10 [00:00<?, ?it/s]"
      ]
     },
     "metadata": {},
     "output_type": "display_data"
    },
    {
     "name": "stdout",
     "output_type": "stream",
     "text": [
      "8 127506614 6130\n",
      "8 127506614 6130 torch.Size([1179, 768])\n"
     ]
    },
    {
     "data": {
      "application/vnd.jupyter.widget-view+json": {
       "model_id": "5310b33041ce47038fddd7b293d0e25d",
       "version_major": 2,
       "version_minor": 0
      },
      "text/plain": [
       "Generating Summaries:   0%|          | 0/3 [00:00<?, ?it/s]"
      ]
     },
     "metadata": {},
     "output_type": "display_data"
    },
    {
     "name": "stdout",
     "output_type": "stream",
     "text": [
      "9 127549781 2805\n",
      "9 127549781 2805 torch.Size([538, 768])\n"
     ]
    },
    {
     "data": {
      "application/vnd.jupyter.widget-view+json": {
       "model_id": "5e73b0e0bdc04997848371f2cbc419ba",
       "version_major": 2,
       "version_minor": 0
      },
      "text/plain": [
       "Generating Summaries:   0%|          | 0/3 [00:00<?, ?it/s]"
      ]
     },
     "metadata": {},
     "output_type": "display_data"
    },
    {
     "name": "stdout",
     "output_type": "stream",
     "text": [
      "10 127550136 1710\n",
      "10 127550136 1710 torch.Size([335, 768])\n"
     ]
    },
    {
     "data": {
      "application/vnd.jupyter.widget-view+json": {
       "model_id": "06d1910c10d9408f8fd08bc41d4c3a63",
       "version_major": 2,
       "version_minor": 0
      },
      "text/plain": [
       "Generating Summaries:   0%|          | 0/1 [00:00<?, ?it/s]"
      ]
     },
     "metadata": {},
     "output_type": "display_data"
    },
    {
     "name": "stdout",
     "output_type": "stream",
     "text": [
      "11 128070511 383\n",
      "11 128070511 383 torch.Size([80, 768])\n"
     ]
    },
    {
     "data": {
      "application/vnd.jupyter.widget-view+json": {
       "model_id": "83c525cc044c41409a74cc882893e4e2",
       "version_major": 2,
       "version_minor": 0
      },
      "text/plain": [
       "Generating Summaries:   0%|          | 0/1 [00:00<?, ?it/s]"
      ]
     },
     "metadata": {},
     "output_type": "display_data"
    },
    {
     "name": "stdout",
     "output_type": "stream",
     "text": [
      "12 128814277 413\n",
      "12 128814277 413 torch.Size([85, 768])\n"
     ]
    },
    {
     "data": {
      "application/vnd.jupyter.widget-view+json": {
       "model_id": "bfb8119d9d5740e19a0c513adaa319a1",
       "version_major": 2,
       "version_minor": 0
      },
      "text/plain": [
       "Generating Summaries:   0%|          | 0/16 [00:00<?, ?it/s]"
      ]
     },
     "metadata": {},
     "output_type": "display_data"
    },
    {
     "name": "stdout",
     "output_type": "stream",
     "text": [
      "13 129636667 15922\n",
      "13 129636667 15922 torch.Size([3125, 768])\n"
     ]
    },
    {
     "data": {
      "application/vnd.jupyter.widget-view+json": {
       "model_id": "d66be15c6daa4266819f79607f914a32",
       "version_major": 2,
       "version_minor": 0
      },
      "text/plain": [
       "Generating Summaries:   0%|          | 0/1 [00:00<?, ?it/s]"
      ]
     },
     "metadata": {},
     "output_type": "display_data"
    },
    {
     "name": "stdout",
     "output_type": "stream",
     "text": [
      "14 129874810 543\n",
      "14 129874810 543 torch.Size([111, 768])\n"
     ]
    },
    {
     "data": {
      "application/vnd.jupyter.widget-view+json": {
       "model_id": "826815d89e7e403d9b5d29d68987c23f",
       "version_major": 2,
       "version_minor": 0
      },
      "text/plain": [
       "Generating Summaries:   0%|          | 0/3 [00:00<?, ?it/s]"
      ]
     },
     "metadata": {},
     "output_type": "display_data"
    },
    {
     "name": "stdout",
     "output_type": "stream",
     "text": [
      "15 129980126 1392\n",
      "15 129980126 1392 torch.Size([278, 768])\n"
     ]
    },
    {
     "data": {
      "application/vnd.jupyter.widget-view+json": {
       "model_id": "fc2f416216254579a5190e1514084c51",
       "version_major": 2,
       "version_minor": 0
      },
      "text/plain": [
       "Generating Summaries:   0%|          | 0/2 [00:00<?, ?it/s]"
      ]
     },
     "metadata": {},
     "output_type": "display_data"
    },
    {
     "name": "stdout",
     "output_type": "stream",
     "text": [
      "16 130056982 1244\n",
      "16 130056982 1244 torch.Size([231, 768])\n"
     ]
    },
    {
     "data": {
      "application/vnd.jupyter.widget-view+json": {
       "model_id": "58358dae9552452d95465295baeb2503",
       "version_major": 2,
       "version_minor": 0
      },
      "text/plain": [
       "Generating Summaries:   0%|          | 0/3 [00:00<?, ?it/s]"
      ]
     },
     "metadata": {},
     "output_type": "display_data"
    },
    {
     "name": "stdout",
     "output_type": "stream",
     "text": [
      "17 130072596 2125\n",
      "17 130072596 2125 torch.Size([415, 768])\n"
     ]
    },
    {
     "data": {
      "application/vnd.jupyter.widget-view+json": {
       "model_id": "1b52aa1a7b124b8d80fdc3aedad3327d",
       "version_major": 2,
       "version_minor": 0
      },
      "text/plain": [
       "Generating Summaries:   0%|          | 0/1 [00:00<?, ?it/s]"
      ]
     },
     "metadata": {},
     "output_type": "display_data"
    },
    {
     "name": "stdout",
     "output_type": "stream",
     "text": [
      "18 130148392 686\n",
      "18 130148392 686 torch.Size([142, 768])\n"
     ]
    },
    {
     "data": {
      "application/vnd.jupyter.widget-view+json": {
       "model_id": "99e43ea8e60e4297bd96d8c4b30f0f48",
       "version_major": 2,
       "version_minor": 0
      },
      "text/plain": [
       "Generating Summaries:   0%|          | 0/1 [00:00<?, ?it/s]"
      ]
     },
     "metadata": {},
     "output_type": "display_data"
    },
    {
     "name": "stdout",
     "output_type": "stream",
     "text": [
      "19 130223439 1443\n",
      "19 130223439 1443 torch.Size([298, 768])\n"
     ]
    },
    {
     "data": {
      "application/vnd.jupyter.widget-view+json": {
       "model_id": "1991dced926c465aacfaf37fd0421a97",
       "version_major": 2,
       "version_minor": 0
      },
      "text/plain": [
       "Generating Summaries:   0%|          | 0/2 [00:00<?, ?it/s]"
      ]
     },
     "metadata": {},
     "output_type": "display_data"
    },
    {
     "name": "stdout",
     "output_type": "stream",
     "text": [
      "20 130527099 555\n",
      "20 130527099 555 torch.Size([114, 768])\n"
     ]
    },
    {
     "data": {
      "application/vnd.jupyter.widget-view+json": {
       "model_id": "56cbe95f1d444b5c80b574a40a34cac2",
       "version_major": 2,
       "version_minor": 0
      },
      "text/plain": [
       "Generating Summaries:   0%|          | 0/1 [00:00<?, ?it/s]"
      ]
     },
     "metadata": {},
     "output_type": "display_data"
    },
    {
     "name": "stdout",
     "output_type": "stream",
     "text": [
      "21 130933413 341\n",
      "21 130933413 341 torch.Size([73, 768])\n"
     ]
    },
    {
     "data": {
      "application/vnd.jupyter.widget-view+json": {
       "model_id": "e934ba42bc38482cb0f15567e49eab68",
       "version_major": 2,
       "version_minor": 0
      },
      "text/plain": [
       "Generating Summaries:   0%|          | 0/2 [00:00<?, ?it/s]"
      ]
     },
     "metadata": {},
     "output_type": "display_data"
    },
    {
     "name": "stdout",
     "output_type": "stream",
     "text": [
      "22 131106904 2342\n",
      "22 131106904 2342 torch.Size([492, 768])\n"
     ]
    },
    {
     "data": {
      "application/vnd.jupyter.widget-view+json": {
       "model_id": "c00939bae60c4f689cb7632c89b273bc",
       "version_major": 2,
       "version_minor": 0
      },
      "text/plain": [
       "Generating Summaries:   0%|          | 0/3 [00:00<?, ?it/s]"
      ]
     },
     "metadata": {},
     "output_type": "display_data"
    },
    {
     "name": "stdout",
     "output_type": "stream",
     "text": [
      "23 131114240 1439\n",
      "23 131114240 1439 torch.Size([288, 768])\n"
     ]
    },
    {
     "data": {
      "application/vnd.jupyter.widget-view+json": {
       "model_id": "caad3d5cf2fb446ca167dcbe2eb774a6",
       "version_major": 2,
       "version_minor": 0
      },
      "text/plain": [
       "Generating Summaries:   0%|          | 0/4 [00:00<?, ?it/s]"
      ]
     },
     "metadata": {},
     "output_type": "display_data"
    },
    {
     "name": "stdout",
     "output_type": "stream",
     "text": [
      "24 131460066 2492\n",
      "24 131460066 2492 torch.Size([486, 768])\n"
     ]
    },
    {
     "data": {
      "application/vnd.jupyter.widget-view+json": {
       "model_id": "78e55b39b8c14d5e9aae7bc9a6a80b0d",
       "version_major": 2,
       "version_minor": 0
      },
      "text/plain": [
       "Generating Summaries:   0%|          | 0/1 [00:00<?, ?it/s]"
      ]
     },
     "metadata": {},
     "output_type": "display_data"
    },
    {
     "name": "stdout",
     "output_type": "stream",
     "text": [
      "25 132206882 392\n",
      "25 132206882 392 torch.Size([76, 768])\n"
     ]
    },
    {
     "data": {
      "application/vnd.jupyter.widget-view+json": {
       "model_id": "d68e8675ed3040579f293a50818d2cd4",
       "version_major": 2,
       "version_minor": 0
      },
      "text/plain": [
       "Generating Summaries:   0%|          | 0/2 [00:00<?, ?it/s]"
      ]
     },
     "metadata": {},
     "output_type": "display_data"
    },
    {
     "name": "stdout",
     "output_type": "stream",
     "text": [
      "26 132398032 1625\n",
      "26 132398032 1625 torch.Size([321, 768])\n"
     ]
    },
    {
     "data": {
      "application/vnd.jupyter.widget-view+json": {
       "model_id": "ab13c0b60aef40349df2cf021b1e3245",
       "version_major": 2,
       "version_minor": 0
      },
      "text/plain": [
       "Generating Summaries:   0%|          | 0/2 [00:00<?, ?it/s]"
      ]
     },
     "metadata": {},
     "output_type": "display_data"
    },
    {
     "name": "stdout",
     "output_type": "stream",
     "text": [
      "27 133166046 1013\n",
      "27 133166046 1013 torch.Size([186, 768])\n"
     ]
    },
    {
     "data": {
      "application/vnd.jupyter.widget-view+json": {
       "model_id": "ecfaa85037994cdea3a26a625c97fbbe",
       "version_major": 2,
       "version_minor": 0
      },
      "text/plain": [
       "Generating Summaries:   0%|          | 0/1 [00:00<?, ?it/s]"
      ]
     },
     "metadata": {},
     "output_type": "display_data"
    },
    {
     "name": "stdout",
     "output_type": "stream",
     "text": [
      "28 133275190 724\n",
      "28 133275190 724 torch.Size([139, 768])\n"
     ]
    },
    {
     "data": {
      "application/vnd.jupyter.widget-view+json": {
       "model_id": "662c06af991548c399e8fc89824e85f0",
       "version_major": 2,
       "version_minor": 0
      },
      "text/plain": [
       "Generating Summaries:   0%|          | 0/2 [00:00<?, ?it/s]"
      ]
     },
     "metadata": {},
     "output_type": "display_data"
    },
    {
     "name": "stdout",
     "output_type": "stream",
     "text": [
      "29 133344745 699\n",
      "29 133344745 699 torch.Size([140, 768])\n"
     ]
    },
    {
     "data": {
      "application/vnd.jupyter.widget-view+json": {
       "model_id": "0d98ca4debef4037b11067d08af15dac",
       "version_major": 2,
       "version_minor": 0
      },
      "text/plain": [
       "Generating Summaries:   0%|          | 0/1 [00:00<?, ?it/s]"
      ]
     },
     "metadata": {},
     "output_type": "display_data"
    },
    {
     "name": "stdout",
     "output_type": "stream",
     "text": [
      "30 134122233 263\n",
      "30 134122233 263 torch.Size([55, 768])\n"
     ]
    },
    {
     "data": {
      "text/plain": [
       "<duckdb.duckdb.DuckDBPyConnection at 0x7f4ca037eff0>"
      ]
     },
     "execution_count": 14,
     "metadata": {},
     "output_type": "execute_result"
    }
   ],
   "source": [
    "for index, content in enumerate(decisions_description[\"content\"]):\n",
    "  if index >= 0 and index <= 30:\n",
    "    out_str = summarizer.summarize_string(content)\n",
    "    seqDocumento = int(decisions_description[\"ID\"][index])\n",
    "\n",
    "    con.execute(\"\"\"\n",
    "      UPDATE decisions_description\n",
    "      SET summarize = $out_str\n",
    "      WHERE ID = $id;\n",
    "      \"\"\",{\n",
    "        'out_str': out_str,\n",
    "        'id': seqDocumento,\n",
    "      })\n",
    "    \n",
    "    inputs = tokenizer(out_str, return_tensors=\"pt\")\n",
    "    outputs = model(**inputs)\n",
    "\n",
    "    print(index,seqDocumento,len(content),len(out_str),outputs.last_hidden_state[0].shape)\n",
    "\n",
    "    vetor = outputs.last_hidden_state[0].flatten().detach().numpy()\n",
    "    con.execute('INSERT INTO BigBird (id,data) VALUES (?,?)', (seqDocumento,vetor))\n",
    "\n",
    "con.commit()"
   ]
  },
  {
   "cell_type": "code",
   "execution_count": 7,
   "metadata": {},
   "outputs": [
    {
     "data": {
      "text/plain": [
       "<duckdb.duckdb.DuckDBPyConnection at 0x7f109f34a2f0>"
      ]
     },
     "execution_count": 7,
     "metadata": {},
     "output_type": "execute_result"
    }
   ],
   "source": [
    "con.execute(\"\"\"\n",
    "WITH norms AS (\n",
    "    SELECT \n",
    "        id,\n",
    "        SQRT(SUM(POWER(val, 2))) AS norm\n",
    "    FROM \n",
    "    (\n",
    "        SELECT\n",
    "            id,\n",
    "            UNNEST(data) AS val\n",
    "        FROM \n",
    "            BigBird\n",
    "    ) AS subquery\n",
    "    GROUP BY id\n",
    ")\n",
    "\n",
    "INSERT INTO BigBird_norm (id, norm)\n",
    "SELECT id, norm\n",
    "FROM norms\n",
    "ON CONFLICT (id) \n",
    "DO UPDATE SET norm = EXCLUDED.norm;\n",
    "\n",
    "\"\"\")"
   ]
  },
  {
   "cell_type": "code",
   "execution_count": 8,
   "metadata": {},
   "outputs": [
    {
     "data": {
      "text/html": [
       "<div>\n",
       "<style scoped>\n",
       "    .dataframe tbody tr th:only-of-type {\n",
       "        vertical-align: middle;\n",
       "    }\n",
       "\n",
       "    .dataframe tbody tr th {\n",
       "        vertical-align: top;\n",
       "    }\n",
       "\n",
       "    .dataframe thead th {\n",
       "        text-align: right;\n",
       "    }\n",
       "</style>\n",
       "<table border=\"1\" class=\"dataframe\">\n",
       "  <thead>\n",
       "    <tr style=\"text-align: right;\">\n",
       "      <th></th>\n",
       "      <th>id</th>\n",
       "      <th>norm</th>\n",
       "    </tr>\n",
       "  </thead>\n",
       "  <tbody>\n",
       "    <tr>\n",
       "      <th>0</th>\n",
       "      <td>127506614</td>\n",
       "      <td>344.751405</td>\n",
       "    </tr>\n",
       "    <tr>\n",
       "      <th>1</th>\n",
       "      <td>128070511</td>\n",
       "      <td>104.631807</td>\n",
       "    </tr>\n",
       "    <tr>\n",
       "      <th>2</th>\n",
       "      <td>130072596</td>\n",
       "      <td>212.710395</td>\n",
       "    </tr>\n",
       "    <tr>\n",
       "      <th>3</th>\n",
       "      <td>130527099</td>\n",
       "      <td>125.903486</td>\n",
       "    </tr>\n",
       "    <tr>\n",
       "      <th>4</th>\n",
       "      <td>131460066</td>\n",
       "      <td>236.974861</td>\n",
       "    </tr>\n",
       "    <tr>\n",
       "      <th>5</th>\n",
       "      <td>129636667</td>\n",
       "      <td>547.138103</td>\n",
       "    </tr>\n",
       "    <tr>\n",
       "      <th>6</th>\n",
       "      <td>130223439</td>\n",
       "      <td>192.474233</td>\n",
       "    </tr>\n",
       "    <tr>\n",
       "      <th>7</th>\n",
       "      <td>121184492</td>\n",
       "      <td>168.704783</td>\n",
       "    </tr>\n",
       "    <tr>\n",
       "      <th>8</th>\n",
       "      <td>124072953</td>\n",
       "      <td>144.833634</td>\n",
       "    </tr>\n",
       "    <tr>\n",
       "      <th>9</th>\n",
       "      <td>129980126</td>\n",
       "      <td>181.511283</td>\n",
       "    </tr>\n",
       "    <tr>\n",
       "      <th>10</th>\n",
       "      <td>130148392</td>\n",
       "      <td>132.543096</td>\n",
       "    </tr>\n",
       "    <tr>\n",
       "      <th>11</th>\n",
       "      <td>134122233</td>\n",
       "      <td>85.431588</td>\n",
       "    </tr>\n",
       "    <tr>\n",
       "      <th>12</th>\n",
       "      <td>123447928</td>\n",
       "      <td>163.537986</td>\n",
       "    </tr>\n",
       "    <tr>\n",
       "      <th>13</th>\n",
       "      <td>127549781</td>\n",
       "      <td>245.231723</td>\n",
       "    </tr>\n",
       "    <tr>\n",
       "      <th>14</th>\n",
       "      <td>133166046</td>\n",
       "      <td>160.365765</td>\n",
       "    </tr>\n",
       "    <tr>\n",
       "      <th>15</th>\n",
       "      <td>123917739</td>\n",
       "      <td>218.952587</td>\n",
       "    </tr>\n",
       "    <tr>\n",
       "      <th>16</th>\n",
       "      <td>127550136</td>\n",
       "      <td>202.678076</td>\n",
       "    </tr>\n",
       "    <tr>\n",
       "      <th>17</th>\n",
       "      <td>122027196</td>\n",
       "      <td>171.267925</td>\n",
       "    </tr>\n",
       "    <tr>\n",
       "      <th>18</th>\n",
       "      <td>125636167</td>\n",
       "      <td>129.814124</td>\n",
       "    </tr>\n",
       "    <tr>\n",
       "      <th>19</th>\n",
       "      <td>127181699</td>\n",
       "      <td>252.167375</td>\n",
       "    </tr>\n",
       "    <tr>\n",
       "      <th>20</th>\n",
       "      <td>128814277</td>\n",
       "      <td>100.174331</td>\n",
       "    </tr>\n",
       "    <tr>\n",
       "      <th>21</th>\n",
       "      <td>130933413</td>\n",
       "      <td>100.219671</td>\n",
       "    </tr>\n",
       "    <tr>\n",
       "      <th>22</th>\n",
       "      <td>132398032</td>\n",
       "      <td>202.522685</td>\n",
       "    </tr>\n",
       "    <tr>\n",
       "      <th>23</th>\n",
       "      <td>123312824</td>\n",
       "      <td>196.774132</td>\n",
       "    </tr>\n",
       "    <tr>\n",
       "      <th>24</th>\n",
       "      <td>130056982</td>\n",
       "      <td>169.306668</td>\n",
       "    </tr>\n",
       "    <tr>\n",
       "      <th>25</th>\n",
       "      <td>131106904</td>\n",
       "      <td>233.815508</td>\n",
       "    </tr>\n",
       "    <tr>\n",
       "      <th>26</th>\n",
       "      <td>129874810</td>\n",
       "      <td>127.671749</td>\n",
       "    </tr>\n",
       "    <tr>\n",
       "      <th>27</th>\n",
       "      <td>131114240</td>\n",
       "      <td>183.590450</td>\n",
       "    </tr>\n",
       "    <tr>\n",
       "      <th>28</th>\n",
       "      <td>132206882</td>\n",
       "      <td>105.429175</td>\n",
       "    </tr>\n",
       "    <tr>\n",
       "      <th>29</th>\n",
       "      <td>133275190</td>\n",
       "      <td>142.993722</td>\n",
       "    </tr>\n",
       "    <tr>\n",
       "      <th>30</th>\n",
       "      <td>133344745</td>\n",
       "      <td>135.752808</td>\n",
       "    </tr>\n",
       "  </tbody>\n",
       "</table>\n",
       "</div>"
      ],
      "text/plain": [
       "           id        norm\n",
       "0   127506614  344.751405\n",
       "1   128070511  104.631807\n",
       "2   130072596  212.710395\n",
       "3   130527099  125.903486\n",
       "4   131460066  236.974861\n",
       "5   129636667  547.138103\n",
       "6   130223439  192.474233\n",
       "7   121184492  168.704783\n",
       "8   124072953  144.833634\n",
       "9   129980126  181.511283\n",
       "10  130148392  132.543096\n",
       "11  134122233   85.431588\n",
       "12  123447928  163.537986\n",
       "13  127549781  245.231723\n",
       "14  133166046  160.365765\n",
       "15  123917739  218.952587\n",
       "16  127550136  202.678076\n",
       "17  122027196  171.267925\n",
       "18  125636167  129.814124\n",
       "19  127181699  252.167375\n",
       "20  128814277  100.174331\n",
       "21  130933413  100.219671\n",
       "22  132398032  202.522685\n",
       "23  123312824  196.774132\n",
       "24  130056982  169.306668\n",
       "25  131106904  233.815508\n",
       "26  129874810  127.671749\n",
       "27  131114240  183.590450\n",
       "28  132206882  105.429175\n",
       "29  133275190  142.993722\n",
       "30  133344745  135.752808"
      ]
     },
     "execution_count": 8,
     "metadata": {},
     "output_type": "execute_result"
    }
   ],
   "source": [
    "con.execute(\"SELECT * FROM BigBird_norm\").df()"
   ]
  },
  {
   "cell_type": "code",
   "execution_count": 9,
   "metadata": {},
   "outputs": [
    {
     "data": {
      "application/vnd.jupyter.widget-view+json": {
       "model_id": "39fa97e4f70c443f94769d6f9245b0ea",
       "version_major": 2,
       "version_minor": 0
      },
      "text/plain": [
       "FloatProgress(value=0.0, layout=Layout(width='auto'), style=ProgressStyle(bar_color='black'))"
      ]
     },
     "metadata": {},
     "output_type": "display_data"
    },
    {
     "data": {
      "text/html": [
       "<div>\n",
       "<style scoped>\n",
       "    .dataframe tbody tr th:only-of-type {\n",
       "        vertical-align: middle;\n",
       "    }\n",
       "\n",
       "    .dataframe tbody tr th {\n",
       "        vertical-align: top;\n",
       "    }\n",
       "\n",
       "    .dataframe thead th {\n",
       "        text-align: right;\n",
       "    }\n",
       "</style>\n",
       "<table border=\"1\" class=\"dataframe\">\n",
       "  <thead>\n",
       "    <tr style=\"text-align: right;\">\n",
       "      <th></th>\n",
       "      <th>idA</th>\n",
       "      <th>idB</th>\n",
       "      <th>cosine_similarity</th>\n",
       "    </tr>\n",
       "  </thead>\n",
       "  <tbody>\n",
       "    <tr>\n",
       "      <th>0</th>\n",
       "      <td>121184492</td>\n",
       "      <td>132206882</td>\n",
       "      <td>0.306445</td>\n",
       "    </tr>\n",
       "    <tr>\n",
       "      <th>1</th>\n",
       "      <td>121184492</td>\n",
       "      <td>133275190</td>\n",
       "      <td>0.404959</td>\n",
       "    </tr>\n",
       "    <tr>\n",
       "      <th>2</th>\n",
       "      <td>121184492</td>\n",
       "      <td>133344745</td>\n",
       "      <td>0.397468</td>\n",
       "    </tr>\n",
       "    <tr>\n",
       "      <th>3</th>\n",
       "      <td>122027196</td>\n",
       "      <td>128070511</td>\n",
       "      <td>0.297996</td>\n",
       "    </tr>\n",
       "    <tr>\n",
       "      <th>4</th>\n",
       "      <td>123312824</td>\n",
       "      <td>127506614</td>\n",
       "      <td>0.229289</td>\n",
       "    </tr>\n",
       "    <tr>\n",
       "      <th>...</th>\n",
       "      <td>...</td>\n",
       "      <td>...</td>\n",
       "      <td>...</td>\n",
       "    </tr>\n",
       "    <tr>\n",
       "      <th>460</th>\n",
       "      <td>131460066</td>\n",
       "      <td>133344745</td>\n",
       "      <td>0.252563</td>\n",
       "    </tr>\n",
       "    <tr>\n",
       "      <th>461</th>\n",
       "      <td>127181699</td>\n",
       "      <td>130933413</td>\n",
       "      <td>0.175628</td>\n",
       "    </tr>\n",
       "    <tr>\n",
       "      <th>462</th>\n",
       "      <td>127550136</td>\n",
       "      <td>130933413</td>\n",
       "      <td>0.238654</td>\n",
       "    </tr>\n",
       "    <tr>\n",
       "      <th>463</th>\n",
       "      <td>130148392</td>\n",
       "      <td>130933413</td>\n",
       "      <td>0.343294</td>\n",
       "    </tr>\n",
       "    <tr>\n",
       "      <th>464</th>\n",
       "      <td>130933413</td>\n",
       "      <td>131106904</td>\n",
       "      <td>0.187004</td>\n",
       "    </tr>\n",
       "  </tbody>\n",
       "</table>\n",
       "<p>465 rows × 3 columns</p>\n",
       "</div>"
      ],
      "text/plain": [
       "           idA        idB  cosine_similarity\n",
       "0    121184492  132206882           0.306445\n",
       "1    121184492  133275190           0.404959\n",
       "2    121184492  133344745           0.397468\n",
       "3    122027196  128070511           0.297996\n",
       "4    123312824  127506614           0.229289\n",
       "..         ...        ...                ...\n",
       "460  131460066  133344745           0.252563\n",
       "461  127181699  130933413           0.175628\n",
       "462  127550136  130933413           0.238654\n",
       "463  130148392  130933413           0.343294\n",
       "464  130933413  131106904           0.187004\n",
       "\n",
       "[465 rows x 3 columns]"
      ]
     },
     "execution_count": 9,
     "metadata": {},
     "output_type": "execute_result"
    }
   ],
   "source": [
    "con.execute(\"\"\"\n",
    "WITH DotProducts AS (\n",
    "    WITH expanded AS (\n",
    "        SELECT\n",
    "            a.id AS idA,\n",
    "            b.id AS idB,\n",
    "            unnest(a.data) AS a_data,\n",
    "            unnest(b.data) AS b_data,\n",
    "            row_number() OVER(PARTITION BY a.id, b.id ORDER BY a.id) as rn\n",
    "        FROM\n",
    "            BigBird a\n",
    "        CROSS JOIN\n",
    "            BigBird b\n",
    "        WHERE\n",
    "            a.id < b.id\n",
    "    )\n",
    "\n",
    "    SELECT\n",
    "        idA,\n",
    "        idB,\n",
    "        sum(a_data * b_data) AS dot_product\n",
    "    FROM\n",
    "        expanded\n",
    "    GROUP BY\n",
    "        idA, idB\n",
    "                \n",
    "    )\n",
    "SELECT \n",
    "    d.idA,\n",
    "    d.idB,\n",
    "    CASE \n",
    "        WHEN n1.norm = 0 OR n2.norm = 0 THEN 0\n",
    "        ELSE d.dot_product / (n1.norm * n2.norm)\n",
    "    END AS cosine_similarity\n",
    "FROM \n",
    "    DotProducts d\n",
    "JOIN \n",
    "    BigBird_norm n1 ON d.idA = n1.id\n",
    "JOIN \n",
    "    BigBird_norm n2 ON d.idB = n2.id;\n",
    "\"\"\").df()"
   ]
  },
  {
   "cell_type": "code",
   "execution_count": 10,
   "metadata": {},
   "outputs": [
    {
     "data": {
      "text/plain": [
       "1054"
      ]
     },
     "execution_count": 10,
     "metadata": {},
     "output_type": "execute_result"
    }
   ],
   "source": [
    "gc.collect()"
   ]
  },
  {
   "cell_type": "code",
   "execution_count": 11,
   "metadata": {},
   "outputs": [
    {
     "data": {
      "text/plain": [
       "<duckdb.duckdb.DuckDBPyConnection at 0x7f6dd0560370>"
      ]
     },
     "execution_count": 11,
     "metadata": {},
     "output_type": "execute_result"
    }
   ],
   "source": [
    "con.commit()"
   ]
  },
  {
   "cell_type": "code",
   "execution_count": 11,
   "metadata": {},
   "outputs": [],
   "source": [
    "con.commit()\n",
    "con.close()"
   ]
  }
 ],
 "metadata": {
  "kernelspec": {
   "display_name": "py",
   "language": "python",
   "name": "python3"
  },
  "language_info": {
   "codemirror_mode": {
    "name": "ipython",
    "version": 3
   },
   "file_extension": ".py",
   "mimetype": "text/x-python",
   "name": "python",
   "nbconvert_exporter": "python",
   "pygments_lexer": "ipython3",
   "version": "3.10.9"
  },
  "orig_nbformat": 4
 },
 "nbformat": 4,
 "nbformat_minor": 2
}

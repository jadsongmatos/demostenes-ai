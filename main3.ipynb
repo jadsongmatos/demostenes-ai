{
 "cells": [
  {
   "cell_type": "code",
   "execution_count": 2,
   "metadata": {},
   "outputs": [],
   "source": [
    "import gc\n",
    "\n",
    "import duckdb\n",
    "from transformers import BigBirdModel, BigBirdTokenizerFast"
   ]
  },
  {
   "cell_type": "code",
   "execution_count": 3,
   "metadata": {},
   "outputs": [],
   "source": [
    "# Conectar (ou criar) um banco de dados\n",
    "con = duckdb.connect(database='jus3.duckdb', read_only=False)"
   ]
  },
  {
   "cell_type": "code",
   "execution_count": 3,
   "metadata": {},
   "outputs": [
    {
     "ename": "CatalogException",
     "evalue": "Catalog Error: Table with name \"metadadosPublicacao202202\" already exists!",
     "output_type": "error",
     "traceback": [
      "\u001b[0;31m---------------------------------------------------------------------------\u001b[0m",
      "\u001b[0;31mCatalogException\u001b[0m                          Traceback (most recent call last)",
      "\u001b[1;32m/home/jadson/Documentos/jus-ai/main3.ipynb Cell 3\u001b[0m line \u001b[0;36m1\n\u001b[0;32m----> <a href='vscode-notebook-cell:/home/jadson/Documentos/jus-ai/main3.ipynb#W2sZmlsZQ%3D%3D?line=0'>1</a>\u001b[0m con\u001b[39m.\u001b[39;49mexecute(\u001b[39m\"\u001b[39;49m\u001b[39mCREATE TABLE metadadosPublicacao202202 AS SELECT * FROM read_json_auto(\u001b[39;49m\u001b[39m'\u001b[39;49m\u001b[39m./data/202202-stj/metadadosPublicacao202202.json\u001b[39;49m\u001b[39m'\u001b[39;49m\u001b[39m);\u001b[39;49m\u001b[39m\"\u001b[39;49m)\n",
      "\u001b[0;31mCatalogException\u001b[0m: Catalog Error: Table with name \"metadadosPublicacao202202\" already exists!"
     ]
    }
   ],
   "source": [
    "con.execute(\"CREATE TABLE metadadosPublicacao202202 AS SELECT * FROM read_json_auto('./data/202202-stj/metadadosPublicacao202202.json');\")"
   ]
  },
  {
   "cell_type": "code",
   "execution_count": null,
   "metadata": {},
   "outputs": [
    {
     "data": {
      "text/plain": [
       "<duckdb.duckdb.DuckDBPyConnection at 0x7f4e3b75f1b0>"
      ]
     },
     "execution_count": 5,
     "metadata": {},
     "output_type": "execute_result"
    }
   ],
   "source": [
    "con.execute(\"DELETE FROM metadadosPublicacao202202 WHERE teor NOT IN ('Concedendo', 'Negando') or teor IS NULL;\")"
   ]
  },
  {
   "cell_type": "code",
   "execution_count": 4,
   "metadata": {},
   "outputs": [
    {
     "data": {
      "text/html": [
       "<div>\n",
       "<style scoped>\n",
       "    .dataframe tbody tr th:only-of-type {\n",
       "        vertical-align: middle;\n",
       "    }\n",
       "\n",
       "    .dataframe tbody tr th {\n",
       "        vertical-align: top;\n",
       "    }\n",
       "\n",
       "    .dataframe thead th {\n",
       "        text-align: right;\n",
       "    }\n",
       "</style>\n",
       "<table border=\"1\" class=\"dataframe\">\n",
       "  <thead>\n",
       "    <tr style=\"text-align: right;\">\n",
       "      <th></th>\n",
       "      <th>seqDocumento</th>\n",
       "      <th>dataPublicacao</th>\n",
       "      <th>tipoDocumento</th>\n",
       "      <th>numeroRegistro</th>\n",
       "      <th>processo</th>\n",
       "      <th>dataRecebimento</th>\n",
       "      <th>dataDistribuicao</th>\n",
       "      <th>ministro</th>\n",
       "      <th>recurso</th>\n",
       "      <th>teor</th>\n",
       "      <th>descricaoMonocratica</th>\n",
       "      <th>assuntos</th>\n",
       "    </tr>\n",
       "  </thead>\n",
       "  <tbody>\n",
       "    <tr>\n",
       "      <th>0</th>\n",
       "      <td>144948780</td>\n",
       "      <td>1644458400000</td>\n",
       "      <td>ACÓRDÃO</td>\n",
       "      <td>202002151590</td>\n",
       "      <td>REsp 1890871</td>\n",
       "      <td>1598238000000</td>\n",
       "      <td>1598929200000</td>\n",
       "      <td>ASSUSETE MAGALHÃES</td>\n",
       "      <td>None</td>\n",
       "      <td>Concedendo</td>\n",
       "      <td>None</td>\n",
       "      <td>10254;10225;10254;10225</td>\n",
       "    </tr>\n",
       "    <tr>\n",
       "      <th>1</th>\n",
       "      <td>145620297</td>\n",
       "      <td>1645412400000</td>\n",
       "      <td>ACÓRDÃO</td>\n",
       "      <td>202103074377</td>\n",
       "      <td>HC 695900</td>\n",
       "      <td>1632279600000</td>\n",
       "      <td>1632279600000</td>\n",
       "      <td>SEBASTIÃO REIS JÚNIOR</td>\n",
       "      <td>None</td>\n",
       "      <td>Concedendo</td>\n",
       "      <td>None</td>\n",
       "      <td>3372;3372</td>\n",
       "    </tr>\n",
       "    <tr>\n",
       "      <th>2</th>\n",
       "      <td>139579332</td>\n",
       "      <td>1644890400000</td>\n",
       "      <td>ACÓRDÃO</td>\n",
       "      <td>202103073420</td>\n",
       "      <td>HC 695866</td>\n",
       "      <td>1632279600000</td>\n",
       "      <td>1632279600000</td>\n",
       "      <td>ANTONIO SALDANHA PALHEIRO</td>\n",
       "      <td>None</td>\n",
       "      <td>Concedendo</td>\n",
       "      <td>None</td>\n",
       "      <td>4355;4355;3608</td>\n",
       "    </tr>\n",
       "    <tr>\n",
       "      <th>3</th>\n",
       "      <td>141816757</td>\n",
       "      <td>1645758000000</td>\n",
       "      <td>ACÓRDÃO</td>\n",
       "      <td>202103076854</td>\n",
       "      <td>Rcl 42334</td>\n",
       "      <td>1632279600000</td>\n",
       "      <td>1632452400000</td>\n",
       "      <td>REYNALDO SOARES DA FONSECA</td>\n",
       "      <td>None</td>\n",
       "      <td>Concedendo</td>\n",
       "      <td>None</td>\n",
       "      <td>3608;3608</td>\n",
       "    </tr>\n",
       "    <tr>\n",
       "      <th>4</th>\n",
       "      <td>144148942</td>\n",
       "      <td>1645412400000</td>\n",
       "      <td>ACÓRDÃO</td>\n",
       "      <td>202103167750</td>\n",
       "      <td>HC 697730</td>\n",
       "      <td>1632884400000</td>\n",
       "      <td>1633057200000</td>\n",
       "      <td>OLINDO MENEZES (DESEMBARGADOR CONVOCADO DO TRF...</td>\n",
       "      <td>None</td>\n",
       "      <td>Concedendo</td>\n",
       "      <td>None</td>\n",
       "      <td>3608;3608</td>\n",
       "    </tr>\n",
       "    <tr>\n",
       "      <th>...</th>\n",
       "      <td>...</td>\n",
       "      <td>...</td>\n",
       "      <td>...</td>\n",
       "      <td>...</td>\n",
       "      <td>...</td>\n",
       "      <td>...</td>\n",
       "      <td>...</td>\n",
       "      <td>...</td>\n",
       "      <td>...</td>\n",
       "      <td>...</td>\n",
       "      <td>...</td>\n",
       "      <td>...</td>\n",
       "    </tr>\n",
       "    <tr>\n",
       "      <th>35399</th>\n",
       "      <td>144531393</td>\n",
       "      <td>1643940000000</td>\n",
       "      <td>DECISÃO</td>\n",
       "      <td>201100020306</td>\n",
       "      <td>REsp 1228590</td>\n",
       "      <td>1294192800000</td>\n",
       "      <td>1296007200000</td>\n",
       "      <td>OG FERNANDES</td>\n",
       "      <td>EMBARGOS DE DECLARAÇÃO</td>\n",
       "      <td>Concedendo</td>\n",
       "      <td>Embargos de Declaração Acolhidos</td>\n",
       "      <td>10318</td>\n",
       "    </tr>\n",
       "    <tr>\n",
       "      <th>35400</th>\n",
       "      <td>143092827</td>\n",
       "      <td>1645758000000</td>\n",
       "      <td>DECISÃO</td>\n",
       "      <td>201001614248</td>\n",
       "      <td>REsp 1210458</td>\n",
       "      <td>1285642800000</td>\n",
       "      <td>1288058400000</td>\n",
       "      <td>OG FERNANDES</td>\n",
       "      <td>None</td>\n",
       "      <td>Concedendo</td>\n",
       "      <td>Conhecido em parte o recurso e provido em parte</td>\n",
       "      <td>7760</td>\n",
       "    </tr>\n",
       "    <tr>\n",
       "      <th>35401</th>\n",
       "      <td>142924179</td>\n",
       "      <td>1643767200000</td>\n",
       "      <td>DECISÃO</td>\n",
       "      <td>200902062079</td>\n",
       "      <td>EREsp 1163268</td>\n",
       "      <td>1256004000000</td>\n",
       "      <td>1256608800000</td>\n",
       "      <td>FRANCISCO FALCÃO</td>\n",
       "      <td>None</td>\n",
       "      <td>Concedendo</td>\n",
       "      <td>Conhecido o recurso e provido</td>\n",
       "      <td>10028;10028;1000238</td>\n",
       "    </tr>\n",
       "    <tr>\n",
       "      <th>35402</th>\n",
       "      <td>145440916</td>\n",
       "      <td>1644976800000</td>\n",
       "      <td>DECISÃO</td>\n",
       "      <td>200801470759</td>\n",
       "      <td>AR 3998</td>\n",
       "      <td>1214794800000</td>\n",
       "      <td>1214794800000</td>\n",
       "      <td>BENEDITO GONÇALVES</td>\n",
       "      <td>EMBARGOS DE DECLARAÇÃO</td>\n",
       "      <td>Concedendo</td>\n",
       "      <td>Embargos de Declaração Acolhidos</td>\n",
       "      <td>8826</td>\n",
       "    </tr>\n",
       "    <tr>\n",
       "      <th>35403</th>\n",
       "      <td>144826578</td>\n",
       "      <td>1645063200000</td>\n",
       "      <td>DECISÃO</td>\n",
       "      <td>200800582891</td>\n",
       "      <td>REsp 1042009</td>\n",
       "      <td>1205290800000</td>\n",
       "      <td>1206500400000</td>\n",
       "      <td>MARIA ISABEL GALLOTTI</td>\n",
       "      <td>EMBARGOS DE DECLARAÇÃO</td>\n",
       "      <td>Concedendo</td>\n",
       "      <td>Embargos de Declaração Acolhidos em Parte</td>\n",
       "      <td>9587;9587</td>\n",
       "    </tr>\n",
       "  </tbody>\n",
       "</table>\n",
       "<p>35404 rows × 12 columns</p>\n",
       "</div>"
      ],
      "text/plain": [
       "       seqDocumento  dataPublicacao tipoDocumento  numeroRegistro  \\\n",
       "0         144948780   1644458400000       ACÓRDÃO    202002151590   \n",
       "1         145620297   1645412400000       ACÓRDÃO    202103074377   \n",
       "2         139579332   1644890400000       ACÓRDÃO    202103073420   \n",
       "3         141816757   1645758000000       ACÓRDÃO    202103076854   \n",
       "4         144148942   1645412400000       ACÓRDÃO    202103167750   \n",
       "...             ...             ...           ...             ...   \n",
       "35399     144531393   1643940000000       DECISÃO    201100020306   \n",
       "35400     143092827   1645758000000       DECISÃO    201001614248   \n",
       "35401     142924179   1643767200000       DECISÃO    200902062079   \n",
       "35402     145440916   1644976800000       DECISÃO    200801470759   \n",
       "35403     144826578   1645063200000       DECISÃO    200800582891   \n",
       "\n",
       "                processo  dataRecebimento  dataDistribuicao  \\\n",
       "0       REsp 1890871        1598238000000     1598929200000   \n",
       "1         HC 695900         1632279600000     1632279600000   \n",
       "2         HC 695866         1632279600000     1632279600000   \n",
       "3        Rcl 42334          1632279600000     1632452400000   \n",
       "4         HC 697730         1632884400000     1633057200000   \n",
       "...                  ...              ...               ...   \n",
       "35399   REsp 1228590        1294192800000     1296007200000   \n",
       "35400   REsp 1210458        1285642800000     1288058400000   \n",
       "35401  EREsp 1163268        1256004000000     1256608800000   \n",
       "35402     AR 3998           1214794800000     1214794800000   \n",
       "35403   REsp 1042009        1205290800000     1206500400000   \n",
       "\n",
       "                                                ministro  \\\n",
       "0                                     ASSUSETE MAGALHÃES   \n",
       "1                                  SEBASTIÃO REIS JÚNIOR   \n",
       "2                              ANTONIO SALDANHA PALHEIRO   \n",
       "3                             REYNALDO SOARES DA FONSECA   \n",
       "4      OLINDO MENEZES (DESEMBARGADOR CONVOCADO DO TRF...   \n",
       "...                                                  ...   \n",
       "35399                                       OG FERNANDES   \n",
       "35400                                       OG FERNANDES   \n",
       "35401                                   FRANCISCO FALCÃO   \n",
       "35402                                 BENEDITO GONÇALVES   \n",
       "35403                              MARIA ISABEL GALLOTTI   \n",
       "\n",
       "                      recurso        teor  \\\n",
       "0                        None  Concedendo   \n",
       "1                        None  Concedendo   \n",
       "2                        None  Concedendo   \n",
       "3                        None  Concedendo   \n",
       "4                        None  Concedendo   \n",
       "...                       ...         ...   \n",
       "35399  EMBARGOS DE DECLARAÇÃO  Concedendo   \n",
       "35400                    None  Concedendo   \n",
       "35401                    None  Concedendo   \n",
       "35402  EMBARGOS DE DECLARAÇÃO  Concedendo   \n",
       "35403  EMBARGOS DE DECLARAÇÃO  Concedendo   \n",
       "\n",
       "                                  descricaoMonocratica  \\\n",
       "0                                                 None   \n",
       "1                                                 None   \n",
       "2                                                 None   \n",
       "3                                                 None   \n",
       "4                                                 None   \n",
       "...                                                ...   \n",
       "35399                 Embargos de Declaração Acolhidos   \n",
       "35400  Conhecido em parte o recurso e provido em parte   \n",
       "35401                    Conhecido o recurso e provido   \n",
       "35402                 Embargos de Declaração Acolhidos   \n",
       "35403        Embargos de Declaração Acolhidos em Parte   \n",
       "\n",
       "                      assuntos  \n",
       "0      10254;10225;10254;10225  \n",
       "1                    3372;3372  \n",
       "2               4355;4355;3608  \n",
       "3                    3608;3608  \n",
       "4                    3608;3608  \n",
       "...                        ...  \n",
       "35399                    10318  \n",
       "35400                     7760  \n",
       "35401      10028;10028;1000238  \n",
       "35402                     8826  \n",
       "35403                9587;9587  \n",
       "\n",
       "[35404 rows x 12 columns]"
      ]
     },
     "execution_count": 4,
     "metadata": {},
     "output_type": "execute_result"
    }
   ],
   "source": [
    "con.execute(\"select * from metadadosPublicacao202202\").df()"
   ]
  },
  {
   "cell_type": "code",
   "execution_count": 4,
   "metadata": {},
   "outputs": [
    {
     "ename": "CatalogException",
     "evalue": "Catalog Error: Table with name \"decisions_description\" already exists!",
     "output_type": "error",
     "traceback": [
      "\u001b[0;31m---------------------------------------------------------------------------\u001b[0m",
      "\u001b[0;31mCatalogException\u001b[0m                          Traceback (most recent call last)",
      "\u001b[1;32m/home/jadson/Documentos/jus-ai/main3.ipynb Cell 6\u001b[0m line \u001b[0;36m2\n\u001b[1;32m      <a href='vscode-notebook-cell:/home/jadson/Documentos/jus-ai/main3.ipynb#W5sZmlsZQ%3D%3D?line=0'>1</a>\u001b[0m \u001b[39m# tabela de texto dos juiz\u001b[39;00m\n\u001b[0;32m----> <a href='vscode-notebook-cell:/home/jadson/Documentos/jus-ai/main3.ipynb#W5sZmlsZQ%3D%3D?line=1'>2</a>\u001b[0m con\u001b[39m.\u001b[39;49mexecute(\u001b[39m\"\"\"\u001b[39;49m\n\u001b[1;32m      <a href='vscode-notebook-cell:/home/jadson/Documentos/jus-ai/main3.ipynb#W5sZmlsZQ%3D%3D?line=2'>3</a>\u001b[0m \u001b[39m  CREATE TABLE decisions_description (\u001b[39;49m\n\u001b[1;32m      <a href='vscode-notebook-cell:/home/jadson/Documentos/jus-ai/main3.ipynb#W5sZmlsZQ%3D%3D?line=3'>4</a>\u001b[0m \u001b[39m    ID INT PRIMARY KEY,\u001b[39;49m\n\u001b[1;32m      <a href='vscode-notebook-cell:/home/jadson/Documentos/jus-ai/main3.ipynb#W5sZmlsZQ%3D%3D?line=4'>5</a>\u001b[0m \u001b[39m    content TEXT,\u001b[39;49m\n\u001b[1;32m      <a href='vscode-notebook-cell:/home/jadson/Documentos/jus-ai/main3.ipynb#W5sZmlsZQ%3D%3D?line=5'>6</a>\u001b[0m \u001b[39m    summarize TEXT\u001b[39;49m\n\u001b[1;32m      <a href='vscode-notebook-cell:/home/jadson/Documentos/jus-ai/main3.ipynb#W5sZmlsZQ%3D%3D?line=6'>7</a>\u001b[0m \u001b[39m  );\u001b[39;49m\n\u001b[1;32m      <a href='vscode-notebook-cell:/home/jadson/Documentos/jus-ai/main3.ipynb#W5sZmlsZQ%3D%3D?line=7'>8</a>\u001b[0m \u001b[39m\"\"\"\u001b[39;49m)\n",
      "\u001b[0;31mCatalogException\u001b[0m: Catalog Error: Table with name \"decisions_description\" already exists!"
     ]
    }
   ],
   "source": [
    "# tabela de texto dos juiz\n",
    "con.execute(\"\"\"\n",
    "  CREATE TABLE decisions_description (\n",
    "    ID INT PRIMARY KEY,\n",
    "    content TEXT,\n",
    "    summarize TEXT\n",
    "  );\n",
    "\"\"\")"
   ]
  },
  {
   "cell_type": "code",
   "execution_count": 8,
   "metadata": {},
   "outputs": [
    {
     "data": {
      "text/plain": [
       "<duckdb.duckdb.DuckDBPyConnection at 0x7f4e3b75f1b0>"
      ]
     },
     "execution_count": 8,
     "metadata": {},
     "output_type": "execute_result"
    }
   ],
   "source": [
    "con.execute(\"COPY decisions_description FROM './decisions_description_202310102238.csv' DELIMITER ',' HEADER;\")"
   ]
  },
  {
   "cell_type": "code",
   "execution_count": 6,
   "metadata": {},
   "outputs": [
    {
     "data": {
      "text/plain": [
       "<duckdb.duckdb.DuckDBPyConnection at 0x7f11abfd4130>"
      ]
     },
     "execution_count": 6,
     "metadata": {},
     "output_type": "execute_result"
    }
   ],
   "source": [
    "con.execute(\"ALTER TABLE decisions_description DROP COLUMN summarize;\")"
   ]
  },
  {
   "cell_type": "code",
   "execution_count": 5,
   "metadata": {},
   "outputs": [
    {
     "data": {
      "text/html": [
       "<div>\n",
       "<style scoped>\n",
       "    .dataframe tbody tr th:only-of-type {\n",
       "        vertical-align: middle;\n",
       "    }\n",
       "\n",
       "    .dataframe tbody tr th {\n",
       "        vertical-align: top;\n",
       "    }\n",
       "\n",
       "    .dataframe thead th {\n",
       "        text-align: right;\n",
       "    }\n",
       "</style>\n",
       "<table border=\"1\" class=\"dataframe\">\n",
       "  <thead>\n",
       "    <tr style=\"text-align: right;\">\n",
       "      <th></th>\n",
       "      <th>id</th>\n",
       "      <th>data</th>\n",
       "    </tr>\n",
       "  </thead>\n",
       "  <tbody>\n",
       "    <tr>\n",
       "      <th>0</th>\n",
       "      <td>121184492</td>\n",
       "      <td>[0.19962230324745178, 0.2647660970687866, -0.3...</td>\n",
       "    </tr>\n",
       "    <tr>\n",
       "      <th>1</th>\n",
       "      <td>122027196</td>\n",
       "      <td>[0.10591266304254532, 0.2007523626089096, -0.3...</td>\n",
       "    </tr>\n",
       "    <tr>\n",
       "      <th>2</th>\n",
       "      <td>123312824</td>\n",
       "      <td>[0.15172050893306732, 0.16319796442985535, -0....</td>\n",
       "    </tr>\n",
       "    <tr>\n",
       "      <th>3</th>\n",
       "      <td>123447928</td>\n",
       "      <td>[0.15098059177398682, 0.37319862842559814, -0....</td>\n",
       "    </tr>\n",
       "  </tbody>\n",
       "</table>\n",
       "</div>"
      ],
      "text/plain": [
       "          id                                               data\n",
       "0  121184492  [0.19962230324745178, 0.2647660970687866, -0.3...\n",
       "1  122027196  [0.10591266304254532, 0.2007523626089096, -0.3...\n",
       "2  123312824  [0.15172050893306732, 0.16319796442985535, -0....\n",
       "3  123447928  [0.15098059177398682, 0.37319862842559814, -0...."
      ]
     },
     "execution_count": 5,
     "metadata": {},
     "output_type": "execute_result"
    }
   ],
   "source": [
    "con.execute(\"select * from embedding\").df()"
   ]
  },
  {
   "cell_type": "code",
   "execution_count": 11,
   "metadata": {},
   "outputs": [
    {
     "ename": "CatalogException",
     "evalue": "Catalog Error: Table with name \"embedding\" already exists!",
     "output_type": "error",
     "traceback": [
      "\u001b[0;31m---------------------------------------------------------------------------\u001b[0m",
      "\u001b[0;31mCatalogException\u001b[0m                          Traceback (most recent call last)",
      "\u001b[1;32m/home/jadson/Documentos/jus-ai/main3.ipynb Cell 10\u001b[0m line \u001b[0;36m1\n\u001b[0;32m----> <a href='vscode-notebook-cell:/home/jadson/Documentos/jus-ai/main3.ipynb#X11sZmlsZQ%3D%3D?line=0'>1</a>\u001b[0m con\u001b[39m.\u001b[39;49mexecute(\u001b[39m\"\u001b[39;49m\u001b[39mCREATE TABLE embedding(id INT UNIQUE PRIMARY KEY, data FLOAT8[]);\u001b[39;49m\u001b[39m\"\u001b[39;49m)\n",
      "\u001b[0;31mCatalogException\u001b[0m: Catalog Error: Table with name \"embedding\" already exists!"
     ]
    }
   ],
   "source": [
    "con.execute(\"CREATE TABLE embedding(id INT UNIQUE PRIMARY KEY, data FLOAT8[]);\")"
   ]
  },
  {
   "cell_type": "code",
   "execution_count": 45,
   "metadata": {},
   "outputs": [
    {
     "data": {
      "application/vnd.jupyter.widget-view+json": {
       "model_id": "85e1eba376fe47899d29be394385a02e",
       "version_major": 2,
       "version_minor": 0
      },
      "text/plain": [
       "FloatProgress(value=0.0, layout=Layout(width='auto'), style=ProgressStyle(bar_color='black'))"
      ]
     },
     "metadata": {},
     "output_type": "display_data"
    },
    {
     "data": {
      "text/plain": [
       "<duckdb.duckdb.DuckDBPyConnection at 0x7f83028c9030>"
      ]
     },
     "execution_count": 45,
     "metadata": {},
     "output_type": "execute_result"
    }
   ],
   "source": [
    "jus2_embedding = con.execute(\"select * from BigBird\").df()\n",
    "\n",
    "con.register('df_temp', jus2_embedding)\n",
    "con.execute(\"INSERT INTO embedding SELECT * FROM df_temp\")"
   ]
  },
  {
   "cell_type": "code",
   "execution_count": 8,
   "metadata": {},
   "outputs": [
    {
     "data": {
      "text/plain": [
       "<duckdb.duckdb.DuckDBPyConnection at 0x7f4ca037eff0>"
      ]
     },
     "execution_count": 8,
     "metadata": {},
     "output_type": "execute_result"
    }
   ],
   "source": [
    "con.execute(\"drop table embedding\")"
   ]
  },
  {
   "cell_type": "code",
   "execution_count": 13,
   "metadata": {},
   "outputs": [
    {
     "data": {
      "text/plain": [
       "<duckdb.duckdb.DuckDBPyConnection at 0x7f11abfd4130>"
      ]
     },
     "execution_count": 13,
     "metadata": {},
     "output_type": "execute_result"
    }
   ],
   "source": [
    "con.execute(\"\"\"\n",
    "CREATE TABLE embedding_norm(\n",
    "    id INT UNIQUE REFERENCES embedding(id),\n",
    "    norm FLOAT8\n",
    ");\n",
    "\"\"\")"
   ]
  },
  {
   "cell_type": "code",
   "execution_count": 12,
   "metadata": {},
   "outputs": [
    {
     "data": {
      "text/plain": [
       "<duckdb.duckdb.DuckDBPyConnection at 0x7f7f4c09ff70>"
      ]
     },
     "execution_count": 12,
     "metadata": {},
     "output_type": "execute_result"
    }
   ],
   "source": [
    "con.execute(\"CREATE INDEX embedding_norm_index ON embedding_norm (norm);\")"
   ]
  },
  {
   "cell_type": "code",
   "execution_count": 14,
   "metadata": {},
   "outputs": [
    {
     "data": {
      "text/plain": [
       "<duckdb.duckdb.DuckDBPyConnection at 0x7f7f4c09ff70>"
      ]
     },
     "execution_count": 14,
     "metadata": {},
     "output_type": "execute_result"
    }
   ],
   "source": [
    "con.execute(\"drop table embedding_norm\")"
   ]
  },
  {
   "cell_type": "code",
   "execution_count": 4,
   "metadata": {},
   "outputs": [],
   "source": [
    "tokenizer = BigBirdTokenizerFast.from_pretrained(\n",
    "    \"google/bigbird-roberta-base\")  # large\n",
    "model = BigBirdModel.from_pretrained(\"google/bigbird-roberta-base\",\n",
    "                                     attention_type=\"original_full\"\n",
    "                                     #attention_type=\"block_sparse\"\n",
    "                                     )"
   ]
  },
  {
   "cell_type": "code",
   "execution_count": 5,
   "metadata": {},
   "outputs": [
    {
     "data": {
      "text/html": [
       "<div>\n",
       "<style scoped>\n",
       "    .dataframe tbody tr th:only-of-type {\n",
       "        vertical-align: middle;\n",
       "    }\n",
       "\n",
       "    .dataframe tbody tr th {\n",
       "        vertical-align: top;\n",
       "    }\n",
       "\n",
       "    .dataframe thead th {\n",
       "        text-align: right;\n",
       "    }\n",
       "</style>\n",
       "<table border=\"1\" class=\"dataframe\">\n",
       "  <thead>\n",
       "    <tr style=\"text-align: right;\">\n",
       "      <th></th>\n",
       "      <th>ID</th>\n",
       "      <th>content</th>\n",
       "    </tr>\n",
       "  </thead>\n",
       "  <tbody>\n",
       "    <tr>\n",
       "      <th>0</th>\n",
       "      <td>121184492</td>\n",
       "      <td>DECISION &gt; It is treated of habeas corpus impe...</td>\n",
       "    </tr>\n",
       "    <tr>\n",
       "      <th>1</th>\n",
       "      <td>122027196</td>\n",
       "      <td>DECISION&lt;br&gt; It is considered a special appeal...</td>\n",
       "    </tr>\n",
       "    <tr>\n",
       "      <th>2</th>\n",
       "      <td>123312824</td>\n",
       "      <td>DECISION&lt;br&gt; It is considered an ordinary appe...</td>\n",
       "    </tr>\n",
       "    <tr>\n",
       "      <th>3</th>\n",
       "      <td>123447928</td>\n",
       "      <td>DECISION&lt;br&gt; It is treated of habeas corpus im...</td>\n",
       "    </tr>\n",
       "    <tr>\n",
       "      <th>4</th>\n",
       "      <td>123917739</td>\n",
       "      <td>DECISION&lt;br&gt; It is considered a special appeal...</td>\n",
       "    </tr>\n",
       "    <tr>\n",
       "      <th>...</th>\n",
       "      <td>...</td>\n",
       "      <td>...</td>\n",
       "    </tr>\n",
       "    <tr>\n",
       "      <th>5800</th>\n",
       "      <td>146076514</td>\n",
       "      <td>DECISION&lt;br&gt; By understanding that better exam...</td>\n",
       "    </tr>\n",
       "    <tr>\n",
       "      <th>5801</th>\n",
       "      <td>144454767</td>\n",
       "      <td>DECISION&lt;br&gt; By understanding that better exam...</td>\n",
       "    </tr>\n",
       "    <tr>\n",
       "      <th>5802</th>\n",
       "      <td>145089835</td>\n",
       "      <td>DECISION&lt;br&gt; By understanding that better exam...</td>\n",
       "    </tr>\n",
       "    <tr>\n",
       "      <th>5803</th>\n",
       "      <td>145511648</td>\n",
       "      <td>DECISION&lt;br&gt; By understanding that better exam...</td>\n",
       "    </tr>\n",
       "    <tr>\n",
       "      <th>5804</th>\n",
       "      <td>145508379</td>\n",
       "      <td>The Court of Justice of the Court of Justice o...</td>\n",
       "    </tr>\n",
       "  </tbody>\n",
       "</table>\n",
       "<p>5805 rows × 2 columns</p>\n",
       "</div>"
      ],
      "text/plain": [
       "             ID                                            content\n",
       "0     121184492  DECISION > It is treated of habeas corpus impe...\n",
       "1     122027196  DECISION<br> It is considered a special appeal...\n",
       "2     123312824  DECISION<br> It is considered an ordinary appe...\n",
       "3     123447928  DECISION<br> It is treated of habeas corpus im...\n",
       "4     123917739  DECISION<br> It is considered a special appeal...\n",
       "...         ...                                                ...\n",
       "5800  146076514  DECISION<br> By understanding that better exam...\n",
       "5801  144454767  DECISION<br> By understanding that better exam...\n",
       "5802  145089835  DECISION<br> By understanding that better exam...\n",
       "5803  145511648  DECISION<br> By understanding that better exam...\n",
       "5804  145508379  The Court of Justice of the Court of Justice o...\n",
       "\n",
       "[5805 rows x 2 columns]"
      ]
     },
     "execution_count": 5,
     "metadata": {},
     "output_type": "execute_result"
    }
   ],
   "source": [
    "decisions_description = con.execute(\"SELECT ID,content FROM decisions_description\").df()\n",
    "decisions_description"
   ]
  },
  {
   "cell_type": "code",
   "execution_count": null,
   "metadata": {},
   "outputs": [],
   "source": [
    "import spacy\n",
    "nlp = spacy.load('pt_core_news_lg')"
   ]
  },
  {
   "cell_type": "code",
   "execution_count": 7,
   "metadata": {},
   "outputs": [
    {
     "name": "stderr",
     "output_type": "stream",
     "text": [
      "0it [00:00, ?it/s]Token indices sequence length is longer than the specified maximum sequence length for this model (5724 > 4096). Running this sequence through the model will result in indexing errors\n",
      "4it [00:00, 46.44it/s]\n"
     ]
    },
    {
     "ename": "RuntimeError",
     "evalue": "The expanded size of the tensor (5724) must match the existing size (4096) at non-singleton dimension 1.  Target sizes: [1, 5724].  Tensor sizes: [1, 4096]",
     "output_type": "error",
     "traceback": [
      "\u001b[0;31m---------------------------------------------------------------------------\u001b[0m",
      "\u001b[0;31mRuntimeError\u001b[0m                              Traceback (most recent call last)",
      "\u001b[1;32m/home/jadson/Documentos/jus-ai/main3.ipynb Cell 19\u001b[0m line \u001b[0;36m9\n\u001b[1;32m      <a href='vscode-notebook-cell:/home/jadson/Documentos/jus-ai/main3.ipynb#X23sZmlsZQ%3D%3D?line=5'>6</a>\u001b[0m seqDocumento \u001b[39m=\u001b[39m \u001b[39mint\u001b[39m(decisions_description[\u001b[39m\"\u001b[39m\u001b[39mID\u001b[39m\u001b[39m\"\u001b[39m][index])\n\u001b[1;32m      <a href='vscode-notebook-cell:/home/jadson/Documentos/jus-ai/main3.ipynb#X23sZmlsZQ%3D%3D?line=7'>8</a>\u001b[0m inputs \u001b[39m=\u001b[39m tokenizer(out_str, return_tensors\u001b[39m=\u001b[39m\u001b[39m\"\u001b[39m\u001b[39mpt\u001b[39m\u001b[39m\"\u001b[39m)\n\u001b[0;32m----> <a href='vscode-notebook-cell:/home/jadson/Documentos/jus-ai/main3.ipynb#X23sZmlsZQ%3D%3D?line=8'>9</a>\u001b[0m outputs \u001b[39m=\u001b[39m model(\u001b[39m*\u001b[39;49m\u001b[39m*\u001b[39;49minputs)\n\u001b[1;32m     <a href='vscode-notebook-cell:/home/jadson/Documentos/jus-ai/main3.ipynb#X23sZmlsZQ%3D%3D?line=10'>11</a>\u001b[0m \u001b[39mprint\u001b[39m(index,seqDocumento,\u001b[39mlen\u001b[39m(content),\u001b[39mlen\u001b[39m(out_str),outputs\u001b[39m.\u001b[39mlast_hidden_state[\u001b[39m0\u001b[39m]\u001b[39m.\u001b[39mshape)\n\u001b[1;32m     <a href='vscode-notebook-cell:/home/jadson/Documentos/jus-ai/main3.ipynb#X23sZmlsZQ%3D%3D?line=12'>13</a>\u001b[0m vetor \u001b[39m=\u001b[39m outputs\u001b[39m.\u001b[39mlast_hidden_state[\u001b[39m0\u001b[39m]\u001b[39m.\u001b[39mflatten()\u001b[39m.\u001b[39mdetach()\u001b[39m.\u001b[39mnumpy()\n",
      "File \u001b[0;32m~/anaconda3/envs/py/lib/python3.10/site-packages/torch/nn/modules/module.py:1501\u001b[0m, in \u001b[0;36mModule._call_impl\u001b[0;34m(self, *args, **kwargs)\u001b[0m\n\u001b[1;32m   1496\u001b[0m \u001b[39m# If we don't have any hooks, we want to skip the rest of the logic in\u001b[39;00m\n\u001b[1;32m   1497\u001b[0m \u001b[39m# this function, and just call forward.\u001b[39;00m\n\u001b[1;32m   1498\u001b[0m \u001b[39mif\u001b[39;00m \u001b[39mnot\u001b[39;00m (\u001b[39mself\u001b[39m\u001b[39m.\u001b[39m_backward_hooks \u001b[39mor\u001b[39;00m \u001b[39mself\u001b[39m\u001b[39m.\u001b[39m_backward_pre_hooks \u001b[39mor\u001b[39;00m \u001b[39mself\u001b[39m\u001b[39m.\u001b[39m_forward_hooks \u001b[39mor\u001b[39;00m \u001b[39mself\u001b[39m\u001b[39m.\u001b[39m_forward_pre_hooks\n\u001b[1;32m   1499\u001b[0m         \u001b[39mor\u001b[39;00m _global_backward_pre_hooks \u001b[39mor\u001b[39;00m _global_backward_hooks\n\u001b[1;32m   1500\u001b[0m         \u001b[39mor\u001b[39;00m _global_forward_hooks \u001b[39mor\u001b[39;00m _global_forward_pre_hooks):\n\u001b[0;32m-> 1501\u001b[0m     \u001b[39mreturn\u001b[39;00m forward_call(\u001b[39m*\u001b[39;49margs, \u001b[39m*\u001b[39;49m\u001b[39m*\u001b[39;49mkwargs)\n\u001b[1;32m   1502\u001b[0m \u001b[39m# Do not call functions when jit is used\u001b[39;00m\n\u001b[1;32m   1503\u001b[0m full_backward_hooks, non_full_backward_hooks \u001b[39m=\u001b[39m [], []\n",
      "File \u001b[0;32m~/anaconda3/envs/py/lib/python3.10/site-packages/transformers/models/big_bird/modeling_big_bird.py:2056\u001b[0m, in \u001b[0;36mBigBirdModel.forward\u001b[0;34m(self, input_ids, attention_mask, token_type_ids, position_ids, head_mask, inputs_embeds, encoder_hidden_states, encoder_attention_mask, past_key_values, use_cache, output_attentions, output_hidden_states, return_dict)\u001b[0m\n\u001b[1;32m   2054\u001b[0m \u001b[39mif\u001b[39;00m \u001b[39mhasattr\u001b[39m(\u001b[39mself\u001b[39m\u001b[39m.\u001b[39membeddings, \u001b[39m\"\u001b[39m\u001b[39mtoken_type_ids\u001b[39m\u001b[39m\"\u001b[39m):\n\u001b[1;32m   2055\u001b[0m     buffered_token_type_ids \u001b[39m=\u001b[39m \u001b[39mself\u001b[39m\u001b[39m.\u001b[39membeddings\u001b[39m.\u001b[39mtoken_type_ids[:, :seq_length]\n\u001b[0;32m-> 2056\u001b[0m     buffered_token_type_ids_expanded \u001b[39m=\u001b[39m buffered_token_type_ids\u001b[39m.\u001b[39;49mexpand(batch_size, seq_length)\n\u001b[1;32m   2057\u001b[0m     token_type_ids \u001b[39m=\u001b[39m buffered_token_type_ids_expanded\n\u001b[1;32m   2058\u001b[0m \u001b[39melse\u001b[39;00m:\n",
      "\u001b[0;31mRuntimeError\u001b[0m: The expanded size of the tensor (5724) must match the existing size (4096) at non-singleton dimension 1.  Target sizes: [1, 5724].  Tensor sizes: [1, 4096]"
     ]
    }
   ],
   "source": [
    "from tqdm import tqdm\n",
    "\n",
    "for index, content in tqdm(enumerate(decisions_description[\"content\"])):\n",
    "  if index >= 4 and index <= 100:\n",
    "    out_str = content\n",
    "    seqDocumento = int(decisions_description[\"ID\"][index])\n",
    "    \n",
    "    inputs = tokenizer(out_str, return_tensors=\"pt\")\n",
    "    outputs = model(**inputs)\n",
    "\n",
    "    print(index,seqDocumento,len(content),len(out_str),outputs.last_hidden_state[0].shape)\n",
    "\n",
    "    vetor = outputs.last_hidden_state[0].flatten().detach().numpy()\n",
    "    con.execute('INSERT INTO embedding (id,data) VALUES (?,?)', (seqDocumento,vetor))\n",
    "\n",
    "con.commit()"
   ]
  },
  {
   "cell_type": "code",
   "execution_count": 17,
   "metadata": {},
   "outputs": [
    {
     "data": {
      "text/html": [
       "<div>\n",
       "<style scoped>\n",
       "    .dataframe tbody tr th:only-of-type {\n",
       "        vertical-align: middle;\n",
       "    }\n",
       "\n",
       "    .dataframe tbody tr th {\n",
       "        vertical-align: top;\n",
       "    }\n",
       "\n",
       "    .dataframe thead th {\n",
       "        text-align: right;\n",
       "    }\n",
       "</style>\n",
       "<table border=\"1\" class=\"dataframe\">\n",
       "  <thead>\n",
       "    <tr style=\"text-align: right;\">\n",
       "      <th></th>\n",
       "      <th>id</th>\n",
       "      <th>norm</th>\n",
       "    </tr>\n",
       "  </thead>\n",
       "  <tbody>\n",
       "    <tr>\n",
       "      <th>0</th>\n",
       "      <td>127506614</td>\n",
       "      <td>344.751405</td>\n",
       "    </tr>\n",
       "    <tr>\n",
       "      <th>1</th>\n",
       "      <td>128070511</td>\n",
       "      <td>104.631807</td>\n",
       "    </tr>\n",
       "    <tr>\n",
       "      <th>2</th>\n",
       "      <td>130072596</td>\n",
       "      <td>212.710395</td>\n",
       "    </tr>\n",
       "    <tr>\n",
       "      <th>3</th>\n",
       "      <td>130527099</td>\n",
       "      <td>125.903486</td>\n",
       "    </tr>\n",
       "    <tr>\n",
       "      <th>4</th>\n",
       "      <td>131460066</td>\n",
       "      <td>236.974861</td>\n",
       "    </tr>\n",
       "    <tr>\n",
       "      <th>...</th>\n",
       "      <td>...</td>\n",
       "      <td>...</td>\n",
       "    </tr>\n",
       "    <tr>\n",
       "      <th>190</th>\n",
       "      <td>140050588</td>\n",
       "      <td>172.508452</td>\n",
       "    </tr>\n",
       "    <tr>\n",
       "      <th>191</th>\n",
       "      <td>140477975</td>\n",
       "      <td>190.283220</td>\n",
       "    </tr>\n",
       "    <tr>\n",
       "      <th>192</th>\n",
       "      <td>140508284</td>\n",
       "      <td>150.179740</td>\n",
       "    </tr>\n",
       "    <tr>\n",
       "      <th>193</th>\n",
       "      <td>140527996</td>\n",
       "      <td>143.797050</td>\n",
       "    </tr>\n",
       "    <tr>\n",
       "      <th>194</th>\n",
       "      <td>140664740</td>\n",
       "      <td>130.413980</td>\n",
       "    </tr>\n",
       "  </tbody>\n",
       "</table>\n",
       "<p>195 rows × 2 columns</p>\n",
       "</div>"
      ],
      "text/plain": [
       "            id        norm\n",
       "0    127506614  344.751405\n",
       "1    128070511  104.631807\n",
       "2    130072596  212.710395\n",
       "3    130527099  125.903486\n",
       "4    131460066  236.974861\n",
       "..         ...         ...\n",
       "190  140050588  172.508452\n",
       "191  140477975  190.283220\n",
       "192  140508284  150.179740\n",
       "193  140527996  143.797050\n",
       "194  140664740  130.413980\n",
       "\n",
       "[195 rows x 2 columns]"
      ]
     },
     "execution_count": 17,
     "metadata": {},
     "output_type": "execute_result"
    }
   ],
   "source": [
    "con.execute(\"SELECT * FROM embedding_norm\").df()"
   ]
  },
  {
   "cell_type": "code",
   "execution_count": 16,
   "metadata": {},
   "outputs": [
    {
     "data": {
      "application/vnd.jupyter.widget-view+json": {
       "model_id": "6194673a6e22441c83257fd2e873e801",
       "version_major": 2,
       "version_minor": 0
      },
      "text/plain": [
       "FloatProgress(value=0.0, layout=Layout(width='auto'), style=ProgressStyle(bar_color='black'))"
      ]
     },
     "metadata": {},
     "output_type": "display_data"
    },
    {
     "data": {
      "text/plain": [
       "<duckdb.duckdb.DuckDBPyConnection at 0x7f7f4c09ff70>"
      ]
     },
     "execution_count": 16,
     "metadata": {},
     "output_type": "execute_result"
    }
   ],
   "source": [
    "con.execute(\"\"\"\n",
    "WITH norms AS (\n",
    "    SELECT \n",
    "        id,\n",
    "        SQRT(SUM(POWER(val, 2))) AS norm\n",
    "    FROM \n",
    "    (\n",
    "        SELECT\n",
    "            id,\n",
    "            UNNEST(data) AS val\n",
    "        FROM \n",
    "            embedding\n",
    "    ) AS subquery\n",
    "    GROUP BY id\n",
    ")\n",
    "\n",
    "INSERT INTO embedding_norm (id, norm)\n",
    "SELECT id, norm\n",
    "FROM norms\n",
    "ON CONFLICT (id) \n",
    "DO UPDATE SET norm = EXCLUDED.norm;\n",
    "\"\"\")"
   ]
  },
  {
   "cell_type": "code",
   "execution_count": 18,
   "metadata": {},
   "outputs": [
    {
     "data": {
      "application/vnd.jupyter.widget-view+json": {
       "model_id": "f292e66e790d47ef92207f26d470fe32",
       "version_major": 2,
       "version_minor": 0
      },
      "text/plain": [
       "FloatProgress(value=0.0, layout=Layout(width='auto'), style=ProgressStyle(bar_color='black'))"
      ]
     },
     "metadata": {},
     "output_type": "display_data"
    },
    {
     "data": {
      "text/html": [
       "<div>\n",
       "<style scoped>\n",
       "    .dataframe tbody tr th:only-of-type {\n",
       "        vertical-align: middle;\n",
       "    }\n",
       "\n",
       "    .dataframe tbody tr th {\n",
       "        vertical-align: top;\n",
       "    }\n",
       "\n",
       "    .dataframe thead th {\n",
       "        text-align: right;\n",
       "    }\n",
       "</style>\n",
       "<table border=\"1\" class=\"dataframe\">\n",
       "  <thead>\n",
       "    <tr style=\"text-align: right;\">\n",
       "      <th></th>\n",
       "      <th>idA</th>\n",
       "      <th>idB</th>\n",
       "      <th>cosine_similarity</th>\n",
       "    </tr>\n",
       "  </thead>\n",
       "  <tbody>\n",
       "    <tr>\n",
       "      <th>0</th>\n",
       "      <td>137883071</td>\n",
       "      <td>138060974</td>\n",
       "      <td>1.0</td>\n",
       "    </tr>\n",
       "  </tbody>\n",
       "</table>\n",
       "</div>"
      ],
      "text/plain": [
       "         idA        idB  cosine_similarity\n",
       "0  137883071  138060974                1.0"
      ]
     },
     "execution_count": 18,
     "metadata": {},
     "output_type": "execute_result"
    }
   ],
   "source": [
    "con.execute(\"\"\"\n",
    "WITH DotProducts AS (\n",
    "    WITH expanded AS (\n",
    "        WITH norm_prox AS (\n",
    "          (SELECT id, norm\n",
    "          FROM embedding_norm\n",
    "          WHERE norm < 42\n",
    "          ORDER BY norm DESC\n",
    "          LIMIT 128)\n",
    "\n",
    "          UNION ALL\n",
    "\n",
    "          (SELECT id, norm\n",
    "          FROM embedding_norm\n",
    "          WHERE norm > 42\n",
    "          ORDER BY norm ASC\n",
    "          LIMIT 128)\n",
    "        )\n",
    "        SELECT\n",
    "            a.id AS idA,\n",
    "            b.id AS idB,\n",
    "            unnest(a_data.data) AS a_data,\n",
    "            unnest(b_data.data) AS b_data\n",
    "        FROM\n",
    "            norm_prox a\n",
    "        INNER JOIN\n",
    "            norm_prox b ON a.id < b.id\n",
    "        JOIN embedding a_data ON a.id = a_data.id\n",
    "        JOIN embedding b_data ON b.id = b_data.id\n",
    "    )\n",
    "    SELECT\n",
    "        idA,\n",
    "        idB,\n",
    "        sum(a_data * b_data) AS dot_product\n",
    "    FROM\n",
    "        expanded\n",
    "    GROUP BY\n",
    "        idA, idB\n",
    "),\n",
    "CosineSimilarities AS (\n",
    "    SELECT \n",
    "        d.idA,\n",
    "        d.idB,\n",
    "        CASE \n",
    "            WHEN n1.norm = 0 OR n2.norm = 0 THEN 0\n",
    "            ELSE d.dot_product / (n1.norm * n2.norm)\n",
    "        END AS cosine_similarity            \n",
    "    FROM \n",
    "        DotProducts d\n",
    "    JOIN \n",
    "        embedding_norm n1 ON d.idA = n1.id\n",
    "    JOIN \n",
    "        embedding_norm n2 ON d.idB = n2.id\n",
    "    WHERE \n",
    "        d.idA < d.idB\n",
    ")\n",
    "SELECT \n",
    "    idA,\n",
    "    idB,\n",
    "    cosine_similarity\n",
    "FROM \n",
    "    CosineSimilarities\n",
    "WHERE \n",
    "    cosine_similarity > 0.7;\n",
    "\"\"\").df()"
   ]
  },
  {
   "cell_type": "code",
   "execution_count": 19,
   "metadata": {},
   "outputs": [
    {
     "data": {
      "text/plain": [
       "738"
      ]
     },
     "execution_count": 19,
     "metadata": {},
     "output_type": "execute_result"
    }
   ],
   "source": [
    "gc.collect()"
   ]
  },
  {
   "cell_type": "code",
   "execution_count": 20,
   "metadata": {},
   "outputs": [
    {
     "data": {
      "text/plain": [
       "<duckdb.duckdb.DuckDBPyConnection at 0x7f7f4c09ff70>"
      ]
     },
     "execution_count": 20,
     "metadata": {},
     "output_type": "execute_result"
    }
   ],
   "source": [
    "con.commit()"
   ]
  },
  {
   "cell_type": "code",
   "execution_count": 58,
   "metadata": {},
   "outputs": [],
   "source": [
    "con.commit()\n",
    "con.close()"
   ]
  }
 ],
 "metadata": {
  "kernelspec": {
   "display_name": "py",
   "language": "python",
   "name": "python3"
  },
  "language_info": {
   "codemirror_mode": {
    "name": "ipython",
    "version": 3
   },
   "file_extension": ".py",
   "mimetype": "text/x-python",
   "name": "python",
   "nbconvert_exporter": "python",
   "pygments_lexer": "ipython3",
   "version": "3.8.18"
  },
  "orig_nbformat": 4
 },
 "nbformat": 4,
 "nbformat_minor": 2
}

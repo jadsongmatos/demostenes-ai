{
 "cells": [
  {
   "cell_type": "code",
   "execution_count": 10,
   "metadata": {},
   "outputs": [],
   "source": [
    "from transformers import AutoModelForTokenClassification, AutoTokenizer\n",
    "import torch\n",
    "import os\n",
    "import numpy as np\n",
    "import duckdb\n",
    "import pandas as pd\n",
    "from langchain.text_splitter import RecursiveCharacterTextSplitter\n",
    "from collections import defaultdict\n",
    "from tqdm import tqdm\n",
    "import copy\n",
    "#from difflib import SequenceMatcher\n",
    "#from collections import Counter\n",
    "#from itertools import chain"
   ]
  },
  {
   "cell_type": "code",
   "execution_count": null,
   "metadata": {},
   "outputs": [],
   "source": [
    "# Conectar (ou criar) um banco de dados\n",
    "con = duckdb.connect(database='jus.duckdb', read_only=False)"
   ]
  },
  {
   "cell_type": "code",
   "execution_count": null,
   "metadata": {},
   "outputs": [],
   "source": [
    "con.execute(\"CREATE TABLE metadadosPublicacao202202 AS SELECT * FROM read_json_auto('./data/202202-stj/metadadosPublicacao202202.json');\")"
   ]
  },
  {
   "cell_type": "code",
   "execution_count": null,
   "metadata": {},
   "outputs": [],
   "source": [
    "con.execute(\"DELETE FROM metadadosPublicacao202202 WHERE teor NOT IN ('Concedendo', 'Negando') or teor IS NULL;\")"
   ]
  },
  {
   "cell_type": "code",
   "execution_count": null,
   "metadata": {},
   "outputs": [],
   "source": [
    "model_name = \"Luciano/xlm-roberta-large-finetuned-lener-br\"\n",
    "model = AutoModelForTokenClassification.from_pretrained(model_name)\n",
    "tokenizer = AutoTokenizer.from_pretrained(model_name)\n",
    "\n",
    "text_splitter = RecursiveCharacterTextSplitter.from_huggingface_tokenizer(\n",
    "    tokenizer, chunk_size=512, chunk_overlap=256\n",
    ")"
   ]
  },
  {
   "cell_type": "code",
   "execution_count": null,
   "metadata": {},
   "outputs": [],
   "source": [
    "text = \"\"\"Acórdão de 2018 – Processo n. 1272/14T8SNT.LS1 – Secção.” 3Inequivocamente, inexistiu qualquer alteração ou mudança da configuração da relação jurídica entre as Partes Processo n. 251/11T8CSC.L S1 - 4 Secção Acordam na Secção Social do Supremo Tribunal de Justiça: AA intentou ação declarativa de condenação, sob a forma de processo comum contra COFAC – Cooperativa de Formação e Animação Cultural, CRL, pedindo se condene a R. a: \"a) Reconhecer a existência de um contrato de trabalho entre o Autor e a Ré desde 01/10/1999; b)\"\"\"\n",
    "\n",
    "inputs = tokenizer(text, return_tensors=\"pt\")\n",
    "inputs.input_ids.shape"
   ]
  },
  {
   "cell_type": "code",
   "execution_count": null,
   "metadata": {},
   "outputs": [],
   "source": [
    "outputs = model(**inputs)\n",
    "predictions = torch.argmax(outputs.logits, dim=2)\n",
    "outputs.logits.shape"
   ]
  },
  {
   "cell_type": "code",
   "execution_count": null,
   "metadata": {},
   "outputs": [],
   "source": [
    "np.array(predictions[0])"
   ]
  },
  {
   "cell_type": "code",
   "execution_count": null,
   "metadata": {},
   "outputs": [],
   "source": [
    "def encontrar_grupos(lista):\n",
    "    grupos = []\n",
    "    inicio = None\n",
    "    fim = None\n",
    "    for i, valor in enumerate(lista):\n",
    "        if valor == 11:\n",
    "            inicio = i\n",
    "        elif valor == 12 and inicio is not None:\n",
    "            fim = i\n",
    "        elif valor != 12 and inicio is not None and fim is not None:\n",
    "            fim = fim + 1\n",
    "            grupos.append((inicio, fim))\n",
    "            inicio = None\n",
    "            fim = None\n",
    "\n",
    "    return grupos"
   ]
  },
  {
   "cell_type": "code",
   "execution_count": null,
   "metadata": {},
   "outputs": [],
   "source": [
    "grupos = encontrar_grupos(np.array(predictions[0]))\n",
    "grupos"
   ]
  },
  {
   "cell_type": "code",
   "execution_count": null,
   "metadata": {},
   "outputs": [],
   "source": [
    "for grupo in grupos:\n",
    "  print(tokenizer.decode(inputs.input_ids[0][grupo[0]:grupo[1]]))"
   ]
  },
  {
   "cell_type": "code",
   "execution_count": null,
   "metadata": {},
   "outputs": [],
   "source": [
    "model.config.id2label"
   ]
  },
  {
   "cell_type": "code",
   "execution_count": null,
   "metadata": {},
   "outputs": [],
   "source": [
    "entities = [model.config.id2label[prediction] for prediction in predictions[0].tolist()]\n",
    "print(list(zip(text.split(), entities)))"
   ]
  },
  {
   "cell_type": "code",
   "execution_count": null,
   "metadata": {},
   "outputs": [],
   "source": [
    "data = con.execute(\"SELECT seqDocumento FROM metadadosPublicacao202202\").fetchnumpy()\n",
    "data[\"seqDocumento\"]"
   ]
  },
  {
   "cell_type": "code",
   "execution_count": null,
   "metadata": {},
   "outputs": [],
   "source": [
    "data[\"seqDocumento\"].size"
   ]
  },
  {
   "cell_type": "code",
   "execution_count": null,
   "metadata": {},
   "outputs": [],
   "source": [
    "file_paths = []  # para armazenar os caminhos completos dos arquivos\n",
    "file_names = []  # para armazenar apenas os nomes dos arquivos\n",
    "\n",
    "# caminhando através do diretório raiz e todos os seus subdiretórios\n",
    "for dirpath, dirnames, filenames in os.walk('./data/202202-stj/', topdown=True):\n",
    "    for filename in filenames:\n",
    "        if filename.endswith('.txt'):\n",
    "            full_path = os.path.join(dirpath, filename)\n",
    "            file_paths.append(full_path)\n",
    "            file_names.append(int(filename.split('.')[0]))"
   ]
  },
  {
   "cell_type": "code",
   "execution_count": null,
   "metadata": {},
   "outputs": [],
   "source": [
    "import difflib\n",
    "\n",
    "def merge_strings(s1, s2, threshold=0.8):\n",
    "    if len(s2) == 0:\n",
    "        return s1\n",
    "    \n",
    "    s1 = s1.lower()\n",
    "    s2 = s2.lower()\n",
    "    \n",
    "    # Inicializa o SequenceMatcher\n",
    "    s = difflib.SequenceMatcher(None, s1, s2)\n",
    "\n",
    "    # Encontra o bloco de correspondência mais longo\n",
    "    match = s.find_longest_match(0, len(s1), 0, len(s2))\n",
    "    # Checa se a correspondência é significativa\n",
    "    if match.size / len(s2) < threshold:\n",
    "        return s1 + \" | \" + s2\n",
    "\n",
    "    # Constrói a nova string usando a parte correspondente de s1 e o restante de s2\n",
    "    return s1[:match.a] + s2[match.b:]"
   ]
  },
  {
   "cell_type": "code",
   "execution_count": null,
   "metadata": {},
   "outputs": [],
   "source": [
    "jurisprudencias = ['g no REsp 1.563.235/', 'g no REsp 1.270.252/', 'g no REsp 1.563.235/', 'g no REsp 1.270.252/', 'RE 636.', 't no AREsp 1.631.348/', 'RE 636.', 't no AREsp 1.631.348/', 't no REsp 1.591.422/', 't no REsp 1.591.422/', 't no REsp 1.522.353/', 't no REsp 1.952.026/', 't no REsp 1.442.008/', 'RE 636.', 'RE 636.', 'JE 0807836-20.2018.4.05.8', 'JE 0801209-60.2014.4.05.', 'JE 0801209-60.2014.4.05.', 'mula 473 do S', 'mula 473 do S', 'RE no 136.236-', 'J 146', 'RE no 136.236-', 'J 146', 'Esp 328', 'Esp 403', 'Esp 328', 'Esp 403', 'são no 1.020/2000-TCU-Plen', 'são no 1.020/2000-TCU-Plen', 'MS 24.859-', 'g no REsp 1.563.235/', 'g no REsp 1.270.252/', 'g no REsp 1.563.235/', 'g no REsp 1.270.252/', 'RE 636.', 't no AREsp 1.631.348/', 'MS 29.025/', 'g no RE 1.281.817/', 'RE 817.338/', 't no REsp 1.522.353/', 't no REsp 1.952.026/', 't no REsp 1.442.008/', 'Processo Administrativo Disciplinar No 23076.000137/2018', 'PE no 1.133.0', 'Processo Administrativo Disciplinar No 23076.000137/2018', 'do de Segurança No 20.16', 'CU no 3088', 'RE 636.', 'JE 0807836-20.2018.4.05.8', 'RE 636.', 'JE 0807836-20.2018.4.05.8', 'JE 0801209-60.', 'JE 0801209-60.2014.4.05.', 't no REsp 1.551.126/', 't no REsp 1.551.126/', 't no AREsp 1.631.348/', 'mula 473 do Supremo Tribunal', 't no AREsp 1.631.348/', 'mula 473 do Supremo Tribunal', 'mula 473 do Supremo', 'mula 473 do Supremo Tribunal', 'dão TCU 2.161', 'g no REsp 1.551.065/', 'g no REsp 1.499.126/', 'cl nos EDcl no AgRg no REsp 1.285.268/', 'g no REsp 1.563.235/', 'g no REsp 1.563.235/', 'g no REsp. 1.314.843/', 'g no REsp. 1.257.473/', 'g no REsp. 1.166.120/', 'g no Ag.1.116.887/', 'g no Ag 1.342.657/', 'g no Ag 1.297.588/', 'g no REsp 1.270.252/', 'RE 636.', 't no AREsp 1.631.348/', 'do de Segurança 28.2', 'do de Segurança 28.2', 'MS 28.2', 'A 200910000001', 'MS 29.025/', 'MS 29.025/', 'g no RE 1.281.817/', 'aria no 1.104-GM', 'RE 817.338/', 't no REsp 1.442.008/', 't no REsp 1.442.008/', 't no REsp 1.952.026/', 'MULA 7/ST', 't no REsp 1.952.026/', 'MULA 7/ST', 't nos EDcl na AR 6.055/', 't nos EDcl na AR 6.055/', 'mula 7 do ST', 's 7/ST', 't no AREsp 1.163.957/', 't no REsp 1.522.353/', 't no REsp 1.522.353/', 't no RMS 44.511/', 't no RMS 44.511/', 'g no REsp 1400398/', 'g nos EDcl no AgRg no AREsp. 498.224/', 't no REsp 1344578/', 't no REsp 1.667.120/', 't no REsp 1.667.120/']\n",
    "\n",
    "result = jurisprudencias[0]\n",
    "\n",
    "for jurisprudencia in jurisprudencias:\n",
    "  result = merge_strings(result,jurisprudencia)\n",
    "\n",
    "result"
   ]
  },
  {
   "cell_type": "code",
   "execution_count": null,
   "metadata": {},
   "outputs": [],
   "source": [
    "def process_file(file_path,file_id):\n",
    "    with open(file_path, 'r') as f:\n",
    "        content = f.read()\n",
    "        texts = text_splitter.split_text(content)\n",
    "        jurisprudencias = np.array([])\n",
    "        #print(file_id,\"texts\",len(texts))\n",
    "        for i,text in enumerate(texts):\n",
    "            inputs = tokenizer(text, return_tensors=\"pt\")\n",
    "            #print(file_id,\"text\",i,inputs.input_ids[0].shape)\n",
    "            outputs = model(**inputs)\n",
    "            predictions = torch.argmax(outputs.logits, dim=2)\n",
    "            grupos = encontrar_grupos(np.array(predictions[0]))\n",
    "            #print(file_id,\"jurisprudencia\",len(grupos))\n",
    "            for grupo in grupos:\n",
    "                jurisprudencia = tokenizer.decode(inputs.input_ids[0][grupo[0]:grupo[1]])\n",
    "                jurisprudencias = np.append(jurisprudencias, jurisprudencia)\n",
    "                #print(file_id,jurisprudencia)\n",
    "        return jurisprudencias"
   ]
  },
  {
   "cell_type": "code",
   "execution_count": null,
   "metadata": {},
   "outputs": [],
   "source": [
    "jurisprudencias = []\n",
    "for i,doc in tqdm(enumerate(data[\"seqDocumento\"]), total=data[\"seqDocumento\"].size):\n",
    "  if i < 2000 and i >= 0:  \n",
    "    if doc in file_names:\n",
    "      jurisprudencias.append(np.unique(process_file(file_paths[file_names.index(doc)],doc)))"
   ]
  },
  {
   "cell_type": "code",
   "execution_count": 2,
   "metadata": {},
   "outputs": [],
   "source": [
    "import re\n",
    "\n",
    "def extrair_numero(texto):\n",
    "  return re.findall(r'\\d+', texto)[0].lstrip('0')\n",
    "  \n",
    "def n_sigla(texto):\n",
    "  text_clear = re.sub(r'\\.', '', texto)\n",
    "  result = re.findall(r'\\d*\\/[a-z]{2,3}', text_clear)\n",
    "  if len(result) == 0:\n",
    "    return text_clear\n",
    "  else:\n",
    "    return result[0]"
   ]
  },
  {
   "cell_type": "code",
   "execution_count": 3,
   "metadata": {},
   "outputs": [
    {
     "data": {
      "text/html": [
       "<div>\n",
       "<style scoped>\n",
       "    .dataframe tbody tr th:only-of-type {\n",
       "        vertical-align: middle;\n",
       "    }\n",
       "\n",
       "    .dataframe tbody tr th {\n",
       "        vertical-align: top;\n",
       "    }\n",
       "\n",
       "    .dataframe thead th {\n",
       "        text-align: right;\n",
       "    }\n",
       "</style>\n",
       "<table border=\"1\" class=\"dataframe\">\n",
       "  <thead>\n",
       "    <tr style=\"text-align: right;\">\n",
       "      <th></th>\n",
       "      <th>seqDocumento</th>\n",
       "      <th>ref</th>\n",
       "    </tr>\n",
       "  </thead>\n",
       "  <tbody>\n",
       "    <tr>\n",
       "      <th>0</th>\n",
       "      <td>144948780</td>\n",
       "      <td>A 200910000001130</td>\n",
       "    </tr>\n",
       "    <tr>\n",
       "      <th>1</th>\n",
       "      <td>144948780</td>\n",
       "      <td>CU no 308898</td>\n",
       "    </tr>\n",
       "    <tr>\n",
       "      <th>2</th>\n",
       "      <td>144948780</td>\n",
       "      <td>Esp 328391</td>\n",
       "    </tr>\n",
       "    <tr>\n",
       "      <th>3</th>\n",
       "      <td>144948780</td>\n",
       "      <td>Esp 403153</td>\n",
       "    </tr>\n",
       "    <tr>\n",
       "      <th>4</th>\n",
       "      <td>144948780</td>\n",
       "      <td>J 146/6</td>\n",
       "    </tr>\n",
       "    <tr>\n",
       "      <th>...</th>\n",
       "      <td>...</td>\n",
       "      <td>...</td>\n",
       "    </tr>\n",
       "    <tr>\n",
       "      <th>27171</th>\n",
       "      <td>145730312</td>\n",
       "      <td>do sumular n. 182 desta Corte Superior.</td>\n",
       "    </tr>\n",
       "    <tr>\n",
       "      <th>27172</th>\n",
       "      <td>145730312</td>\n",
       "      <td>do sumular n. 182 do STJ</td>\n",
       "    </tr>\n",
       "    <tr>\n",
       "      <th>27173</th>\n",
       "      <td>145730312</td>\n",
       "      <td>g nos EDcl no AREsp n. 1.785.474/SC</td>\n",
       "    </tr>\n",
       "    <tr>\n",
       "      <th>27174</th>\n",
       "      <td>145730312</td>\n",
       "      <td>mula n. 182 do STJ</td>\n",
       "    </tr>\n",
       "    <tr>\n",
       "      <th>27175</th>\n",
       "      <td>145730312</td>\n",
       "      <td>s n. 7 do STJ</td>\n",
       "    </tr>\n",
       "  </tbody>\n",
       "</table>\n",
       "<p>27176 rows × 2 columns</p>\n",
       "</div>"
      ],
      "text/plain": [
       "       seqDocumento                                      ref\n",
       "0         144948780                        A 200910000001130\n",
       "1         144948780                             CU no 308898\n",
       "2         144948780                               Esp 328391\n",
       "3         144948780                               Esp 403153\n",
       "4         144948780                                  J 146/6\n",
       "...             ...                                      ...\n",
       "27171     145730312  do sumular n. 182 desta Corte Superior.\n",
       "27172     145730312                 do sumular n. 182 do STJ\n",
       "27173     145730312      g nos EDcl no AREsp n. 1.785.474/SC\n",
       "27174     145730312                       mula n. 182 do STJ\n",
       "27175     145730312                            s n. 7 do STJ\n",
       "\n",
       "[27176 rows x 2 columns]"
      ]
     },
     "execution_count": 3,
     "metadata": {},
     "output_type": "execute_result"
    }
   ],
   "source": [
    "jurisprudencias = pd.read_csv(\"jurisprudencias0-2000.csv\")\n",
    "jurisprudencias['ref'] = jurisprudencias['ref'].astype(str)\n",
    "jurisprudencias"
   ]
  },
  {
   "cell_type": "code",
   "execution_count": 4,
   "metadata": {},
   "outputs": [
    {
     "name": "stderr",
     "output_type": "stream",
     "text": [
      "/tmp/ipykernel_39989/1664226564.py:2: SettingWithCopyWarning: \n",
      "A value is trying to be set on a copy of a slice from a DataFrame.\n",
      "Try using .loc[row_indexer,col_indexer] = value instead\n",
      "\n",
      "See the caveats in the documentation: https://pandas.pydata.org/pandas-docs/stable/user_guide/indexing.html#returning-a-view-versus-a-copy\n",
      "  jurisprudencias['ref_numers'] = jurisprudencias['ref'].apply(lambda x: extrair_numero(x))\n"
     ]
    },
    {
     "data": {
      "text/html": [
       "<div>\n",
       "<style scoped>\n",
       "    .dataframe tbody tr th:only-of-type {\n",
       "        vertical-align: middle;\n",
       "    }\n",
       "\n",
       "    .dataframe tbody tr th {\n",
       "        vertical-align: top;\n",
       "    }\n",
       "\n",
       "    .dataframe thead th {\n",
       "        text-align: right;\n",
       "    }\n",
       "</style>\n",
       "<table border=\"1\" class=\"dataframe\">\n",
       "  <thead>\n",
       "    <tr style=\"text-align: right;\">\n",
       "      <th></th>\n",
       "      <th>seqDocumento</th>\n",
       "      <th>ref</th>\n",
       "      <th>ref_numers</th>\n",
       "      <th>termo</th>\n",
       "    </tr>\n",
       "  </thead>\n",
       "  <tbody>\n",
       "    <tr>\n",
       "      <th>0</th>\n",
       "      <td>144948780</td>\n",
       "      <td>A 200910000001130</td>\n",
       "      <td>200910000001130</td>\n",
       "      <td>a 200910000001130 a 200910000001130 2009100000...</td>\n",
       "    </tr>\n",
       "    <tr>\n",
       "      <th>1</th>\n",
       "      <td>144948780</td>\n",
       "      <td>CU no 308898</td>\n",
       "      <td>308898</td>\n",
       "      <td>cu no 308898 cu no 308898 308898 308898</td>\n",
       "    </tr>\n",
       "    <tr>\n",
       "      <th>2</th>\n",
       "      <td>144948780</td>\n",
       "      <td>Esp 328391</td>\n",
       "      <td>328391</td>\n",
       "      <td>esp 328391 esp 328391 328391 328391</td>\n",
       "    </tr>\n",
       "    <tr>\n",
       "      <th>3</th>\n",
       "      <td>144948780</td>\n",
       "      <td>Esp 403153</td>\n",
       "      <td>403153</td>\n",
       "      <td>esp 403153 esp 403153 403153 403153</td>\n",
       "    </tr>\n",
       "    <tr>\n",
       "      <th>4</th>\n",
       "      <td>144948780</td>\n",
       "      <td>J 146/6</td>\n",
       "      <td>146</td>\n",
       "      <td>j 146/6 j 146/6 146 146</td>\n",
       "    </tr>\n",
       "    <tr>\n",
       "      <th>...</th>\n",
       "      <td>...</td>\n",
       "      <td>...</td>\n",
       "      <td>...</td>\n",
       "      <td>...</td>\n",
       "    </tr>\n",
       "    <tr>\n",
       "      <th>27113</th>\n",
       "      <td>145564564</td>\n",
       "      <td>t no REsp 1827460/MG</td>\n",
       "      <td>1827460</td>\n",
       "      <td>t no resp 1827460/mg 1827460/mg 1827460 1827460</td>\n",
       "    </tr>\n",
       "    <tr>\n",
       "      <th>27120</th>\n",
       "      <td>146032219</td>\n",
       "      <td>t no AREsp 1224156/SP</td>\n",
       "      <td>1224156</td>\n",
       "      <td>t no aresp 1224156/sp 1224156/sp 1224156 1224156</td>\n",
       "    </tr>\n",
       "    <tr>\n",
       "      <th>27121</th>\n",
       "      <td>146032219</td>\n",
       "      <td>t no AREsp 1317073/MS</td>\n",
       "      <td>1317073</td>\n",
       "      <td>t no aresp 1317073/ms 1317073/ms 1317073 1317073</td>\n",
       "    </tr>\n",
       "    <tr>\n",
       "      <th>27143</th>\n",
       "      <td>145495676</td>\n",
       "      <td>t no AREsp 1084864/SP</td>\n",
       "      <td>1084864</td>\n",
       "      <td>t no aresp 1084864/sp 1084864/sp 1084864 1084864</td>\n",
       "    </tr>\n",
       "    <tr>\n",
       "      <th>27144</th>\n",
       "      <td>145495676</td>\n",
       "      <td>t no AREsp 1106797/SP</td>\n",
       "      <td>1106797</td>\n",
       "      <td>t no aresp 1106797/sp 1106797/sp 1106797 1106797</td>\n",
       "    </tr>\n",
       "  </tbody>\n",
       "</table>\n",
       "<p>2831 rows × 4 columns</p>\n",
       "</div>"
      ],
      "text/plain": [
       "       seqDocumento                    ref       ref_numers  \\\n",
       "0         144948780      A 200910000001130  200910000001130   \n",
       "1         144948780           CU no 308898           308898   \n",
       "2         144948780             Esp 328391           328391   \n",
       "3         144948780             Esp 403153           403153   \n",
       "4         144948780                J 146/6              146   \n",
       "...             ...                    ...              ...   \n",
       "27113     145564564   t no REsp 1827460/MG          1827460   \n",
       "27120     146032219  t no AREsp 1224156/SP          1224156   \n",
       "27121     146032219  t no AREsp 1317073/MS          1317073   \n",
       "27143     145495676  t no AREsp 1084864/SP          1084864   \n",
       "27144     145495676  t no AREsp 1106797/SP          1106797   \n",
       "\n",
       "                                                   termo  \n",
       "0      a 200910000001130 a 200910000001130 2009100000...  \n",
       "1                cu no 308898 cu no 308898 308898 308898  \n",
       "2                    esp 328391 esp 328391 328391 328391  \n",
       "3                    esp 403153 esp 403153 403153 403153  \n",
       "4                                j 146/6 j 146/6 146 146  \n",
       "...                                                  ...  \n",
       "27113    t no resp 1827460/mg 1827460/mg 1827460 1827460  \n",
       "27120   t no aresp 1224156/sp 1224156/sp 1224156 1224156  \n",
       "27121   t no aresp 1317073/ms 1317073/ms 1317073 1317073  \n",
       "27143   t no aresp 1084864/sp 1084864/sp 1084864 1084864  \n",
       "27144   t no aresp 1106797/sp 1106797/sp 1106797 1106797  \n",
       "\n",
       "[2831 rows x 4 columns]"
      ]
     },
     "execution_count": 4,
     "metadata": {},
     "output_type": "execute_result"
    }
   ],
   "source": [
    "jurisprudencias = jurisprudencias[jurisprudencias['ref'].str.contains('\\d')]\n",
    "jurisprudencias['ref_numers'] = jurisprudencias['ref'].apply(lambda x: extrair_numero(x))\n",
    "jurisprudencias = jurisprudencias.drop_duplicates(subset=\"ref_numers\", keep='first')\n",
    "jurisprudencias['termo'] = jurisprudencias['ref'].str.lower().apply(lambda x: x+\" \"+n_sigla(x)+(\" \"+extrair_numero(x))*2)\n",
    "\n",
    "jurisprudencias"
   ]
  },
  {
   "cell_type": "code",
   "execution_count": 5,
   "metadata": {},
   "outputs": [
    {
     "data": {
      "text/html": [
       "<div>\n",
       "<style scoped>\n",
       "    .dataframe tbody tr th:only-of-type {\n",
       "        vertical-align: middle;\n",
       "    }\n",
       "\n",
       "    .dataframe tbody tr th {\n",
       "        vertical-align: top;\n",
       "    }\n",
       "\n",
       "    .dataframe thead th {\n",
       "        text-align: right;\n",
       "    }\n",
       "</style>\n",
       "<table border=\"1\" class=\"dataframe\">\n",
       "  <thead>\n",
       "    <tr style=\"text-align: right;\">\n",
       "      <th></th>\n",
       "      <th>seqDocumento</th>\n",
       "      <th>ref</th>\n",
       "      <th>ref_numers</th>\n",
       "      <th>termo</th>\n",
       "    </tr>\n",
       "  </thead>\n",
       "  <tbody>\n",
       "    <tr>\n",
       "      <th>11</th>\n",
       "      <td>144948780</td>\n",
       "      <td>MULA 7/STJ</td>\n",
       "      <td>7</td>\n",
       "      <td>mula 7/stj 7/stj 7 7</td>\n",
       "    </tr>\n",
       "  </tbody>\n",
       "</table>\n",
       "</div>"
      ],
      "text/plain": [
       "    seqDocumento         ref ref_numers                 termo\n",
       "11     144948780  MULA 7/STJ          7  mula 7/stj 7/stj 7 7"
      ]
     },
     "execution_count": 5,
     "metadata": {},
     "output_type": "execute_result"
    }
   ],
   "source": [
    "resultado = jurisprudencias[jurisprudencias['ref_numers'] == '7']\n",
    "resultado"
   ]
  },
  {
   "cell_type": "code",
   "execution_count": null,
   "metadata": {},
   "outputs": [],
   "source": [
    "con.execute(\"CREATE TABLE refs(id INT, data TEXT);\")\n",
    "con.execute(\"CREATE INDEX refs_index ON refs (id,data);\")"
   ]
  },
  {
   "cell_type": "code",
   "execution_count": 6,
   "metadata": {},
   "outputs": [],
   "source": [
    "import textdistance\n",
    "\n",
    "jaro_winkler = textdistance.JaroWinkler(external=True)\n",
    "damerau_levenshtein = textdistance.DamerauLevenshtein(external=True)\n",
    "def similar(s1, s2):\n",
    "    #sequence_matcher = SequenceMatcher(None, s1.lower(), s2.lower()).ratio() # 2957-2:16:09\n",
    "    return damerau_levenshtein.normalized_similarity(s1, s2)\n",
    "    #jaro_winkler_sim = textdistance.jaro_winkler.normalized_similarity(s1.lower(), s2.lower())\n",
    "    #return jaro_winkler.normalized_similarity(s1, s2)\n",
    "    #return jaro_winkler.normalized_distance(s1, s2)"
   ]
  },
  {
   "cell_type": "code",
   "execution_count": 147,
   "metadata": {},
   "outputs": [
    {
     "data": {
      "text/plain": [
       "0.9196428571428571"
      ]
     },
     "execution_count": 147,
     "metadata": {},
     "output_type": "execute_result"
    }
   ],
   "source": [
    "#similar(\"turma\",\"turma\")\n",
    "#similar(\"hc 598.051/sp da sexta turma\",\". 598.051/sp\") #\"hc 598.051/\"\n",
    "similar(\"esp 1785474/sc \"+\"1785474/sc \"*8,resultado.termo.values[0])"
   ]
  },
  {
   "cell_type": "code",
   "execution_count": 148,
   "metadata": {},
   "outputs": [
    {
     "data": {
      "text/plain": [
       "0.875"
      ]
     },
     "execution_count": 148,
     "metadata": {},
     "output_type": "execute_result"
    }
   ],
   "source": [
    "similar(\"esp 1785474/sc\",\"esp 111785474/sc\")"
   ]
  },
  {
   "cell_type": "code",
   "execution_count": 149,
   "metadata": {},
   "outputs": [
    {
     "data": {
      "text/plain": [
       "0.9285714285714286"
      ]
     },
     "execution_count": 149,
     "metadata": {},
     "output_type": "execute_result"
    }
   ],
   "source": [
    "similar(\"esp 1785474/sc\",\"esp 1785472/sc\")"
   ]
  },
  {
   "cell_type": "code",
   "execution_count": 7,
   "metadata": {},
   "outputs": [
    {
     "data": {
      "text/plain": [
       "2831"
      ]
     },
     "execution_count": 7,
     "metadata": {},
     "output_type": "execute_result"
    }
   ],
   "source": [
    "ref_unicos = jurisprudencias['termo'].unique()\n",
    "ref_unicos.size"
   ]
  },
  {
   "cell_type": "code",
   "execution_count": null,
   "metadata": {},
   "outputs": [],
   "source": [
    "con.execute(\"\"\"SELECT * FROM refs WHERE data = 'JE 0801209-60.2014' \"\"\").df()"
   ]
  },
  {
   "cell_type": "code",
   "execution_count": 8,
   "metadata": {},
   "outputs": [
    {
     "name": "stderr",
     "output_type": "stream",
     "text": [
      "  0%|          | 0/2899 [00:00<?, ?it/s]"
     ]
    },
    {
     "name": "stderr",
     "output_type": "stream",
     "text": [
      "100%|██████████| 2899/2899 [04:43<00:00, 10.23it/s]\n"
     ]
    }
   ],
   "source": [
    "import statistics\n",
    "\n",
    "grups_refs = [[ref_unicos[0]]]\n",
    "\n",
    "# para saber e ref pertence ao grupo calcular similadridade media de todos os elemtos do grupo\n",
    "\n",
    "for i,ref in tqdm(enumerate(ref_unicos), total=len(ref_unicos)):\n",
    "  for j,grup_refs in enumerate(grups_refs):\n",
    "    similar_refs = []\n",
    "    for k in range(len(grup_refs)): \n",
    "      similar_refs.append(similar(ref, grup_refs[k]))\n",
    "\n",
    "    media = statistics.mean(similar_refs)\n",
    "    if media > 0.80:\n",
    "      grups_refs[j].append(ref)\n",
    "      break\n",
    "\n",
    "  grups_refs.append([ref])"
   ]
  },
  {
   "cell_type": "code",
   "execution_count": 9,
   "metadata": {},
   "outputs": [],
   "source": [
    "grups_refs_norm = copy.deepcopy(grups_refs)\n",
    "for i,grup_refs in enumerate(grups_refs_norm):\n",
    "  for j,ref in enumerate(grup_refs):\n",
    "    grups_refs_norm[i][j] = jurisprudencias[jurisprudencias['termo'] == ref].ref.values[0]"
   ]
  },
  {
   "cell_type": "code",
   "execution_count": 55,
   "metadata": {},
   "outputs": [
    {
     "data": {
      "text/plain": [
       "2832"
      ]
     },
     "execution_count": 55,
     "metadata": {},
     "output_type": "execute_result"
    }
   ],
   "source": [
    "len(grups_refs_norm)"
   ]
  },
  {
   "cell_type": "code",
   "execution_count": 8,
   "metadata": {},
   "outputs": [
    {
     "name": "stderr",
     "output_type": "stream",
     "text": [
      "100%|██████████| 2831/2831 [01:05<00:00, 43.40it/s] \n"
     ]
    }
   ],
   "source": [
    "grups_refs = [ref_unicos[0]]\n",
    "\n",
    "for i,ref in tqdm(enumerate(ref_unicos), total=len(ref_unicos)):\n",
    "  for j,grup_refs in enumerate(grups_refs):\n",
    "    similar_refs = similar(grup_refs,ref)\n",
    "\n",
    "    if similar_refs > 0.85:\n",
    "      grups_refs[j] = grup_refs + \" | \" + ref\n",
    "      break\n",
    "\n",
    "  grups_refs.append(ref)"
   ]
  },
  {
   "cell_type": "code",
   "execution_count": 11,
   "metadata": {},
   "outputs": [],
   "source": [
    "grups_refs_norm = copy.deepcopy(grups_refs)\n",
    "for i,grup_refs in enumerate(grups_refs_norm):\n",
    "  grups_refs_norm[i] = grup_refs.split(\" | \")\n",
    "  \n",
    "for i,grup_refs in enumerate(grups_refs_norm):\n",
    "  for j,ref in enumerate(grup_refs):\n",
    "    grups_refs_norm[i][j] = jurisprudencias[jurisprudencias['termo'] == ref].ref.values[0]"
   ]
  },
  {
   "cell_type": "code",
   "execution_count": null,
   "metadata": {},
   "outputs": [],
   "source": [
    "import json\n",
    "\n",
    "with open('grups_refs.json', 'w') as arquivo_json:\n",
    "    json.dump(grups_refs_norm, arquivo_json)"
   ]
  },
  {
   "cell_type": "code",
   "execution_count": null,
   "metadata": {},
   "outputs": [],
   "source": [
    "# Abra o arquivo JSON em modo de leitura\n",
    "with open('grups_refs_jaro_winkler.json', 'r') as arquivo:\n",
    "    # Use a função json.load() para carregar o conteúdo do arquivo JSON em um objeto Python\n",
    "    grups_refs = json.load(arquivo)"
   ]
  },
  {
   "cell_type": "code",
   "execution_count": null,
   "metadata": {},
   "outputs": [],
   "source": [
    "#for i,doc in tqdm(enumerate(jurisprudencias['ref']), total=ref_unicos.size):\n",
    "for i,doc in enumerate(jurisprudencias['ref']):\n",
    "  print(i,doc)"
   ]
  },
  {
   "cell_type": "code",
   "execution_count": null,
   "metadata": {},
   "outputs": [],
   "source": [
    "# Aplanando a lista de listas\n",
    "#lista_aplanada = list(chain.from_iterable(jurisprudencias))\n",
    "\n",
    "lista_aplanda = jurisprudencias['ref']\n",
    "\n",
    "contagem = defaultdict(int)\n",
    "\n",
    "for i in tqdm(range(len(lista_aplanda))):\n",
    "    for j in range(i, len(lista_aplanda)):\n",
    "        #if similar(lista_aplanda[i], lista_aplanda[j]):\n",
    "        if lista_aplanda[i] == lista_aplanda[j]:\n",
    "            contagem[lista_aplanda[i]] += 1\n",
    "\n",
    "contagem"
   ]
  },
  {
   "cell_type": "code",
   "execution_count": null,
   "metadata": {},
   "outputs": [],
   "source": [
    "jurisprudencias['new_column'] = jurisprudencias['ref'].map(contagem)\n",
    "jurisprudencias"
   ]
  },
  {
   "cell_type": "code",
   "execution_count": null,
   "metadata": {},
   "outputs": [],
   "source": [
    "jurisprudencias = jurisprudencias.sort_values(by='new_column', ascending=False)\n",
    "jurisprudencias.to_csv('contagem_s_jurisprudencia.csv', index=False)\n",
    "jurisprudencias"
   ]
  },
  {
   "cell_type": "code",
   "execution_count": null,
   "metadata": {},
   "outputs": [],
   "source": [
    "import spacy"
   ]
  },
  {
   "cell_type": "code",
   "execution_count": null,
   "metadata": {},
   "outputs": [],
   "source": [
    "nlp = spacy.load('pt_core_news_lg')"
   ]
  },
  {
   "cell_type": "code",
   "execution_count": null,
   "metadata": {},
   "outputs": [],
   "source": [
    "doc = nlp(\"Exemplo de texto com algumas stopwords\")\n",
    "filtered_sentence = [token.text for token in doc if not token.is_stop]\n",
    "\" \".join(filtered_sentence)"
   ]
  },
  {
   "cell_type": "code",
   "execution_count": null,
   "metadata": {},
   "outputs": [],
   "source": [
    "def process_file(file_path,file_id):\n",
    "    with open(file_path, 'r') as f:\n",
    "        content = f.read()\n",
    "        doc = nlp(content)\n",
    "        content = \" \".join([token.text for token in doc if not token.is_stop])\n",
    "        texts = text_splitter.split_text(content)\n",
    "        jurisprudencias = np.array([])\n",
    "        print(file_id,\"texts\",len(texts))\n",
    "        for i,text in enumerate(texts):\n",
    "            inputs = tokenizer(text, return_tensors=\"pt\")\n",
    "            #print(file_id,\"text\",i,inputs.input_ids[0].shape)\n",
    "            outputs = model(**inputs)\n",
    "            predictions = torch.argmax(outputs.logits, dim=2)\n",
    "            grupos = encontrar_grupos(np.array(predictions[0]))\n",
    "            #print(file_id,\"jurisprudencia\",len(grupos))\n",
    "            for grupo in grupos:\n",
    "                jurisprudencia = tokenizer.decode(inputs.input_ids[0][grupo[0]:grupo[1]])\n",
    "                jurisprudencias = np.append(jurisprudencias, jurisprudencia)\n",
    "                #print(file_id,jurisprudencia)\n",
    "        return jurisprudencias"
   ]
  },
  {
   "cell_type": "code",
   "execution_count": null,
   "metadata": {},
   "outputs": [],
   "source": [
    "jurisprudencias = np.array([])\n",
    "for i,doc in enumerate(data[\"seqDocumento\"]):\n",
    "  if i < 10:  \n",
    "    if doc in file_names:\n",
    "      jurisprudencias = np.concatenate((jurisprudencias, process_file(file_paths[file_names.index(doc)],doc)))"
   ]
  },
  {
   "cell_type": "code",
   "execution_count": null,
   "metadata": {},
   "outputs": [],
   "source": [
    "jurisprudencias = np.unique(jurisprudencias)\n",
    "\"|\".join(jurisprudencias)"
   ]
  },
  {
   "cell_type": "code",
   "execution_count": null,
   "metadata": {},
   "outputs": [],
   "source": [
    "con.commit()"
   ]
  },
  {
   "cell_type": "code",
   "execution_count": null,
   "metadata": {},
   "outputs": [],
   "source": [
    "con.close()"
   ]
  }
 ],
 "metadata": {
  "kernelspec": {
   "display_name": "py",
   "language": "python",
   "name": "python3"
  },
  "language_info": {
   "codemirror_mode": {
    "name": "ipython",
    "version": 3
   },
   "file_extension": ".py",
   "mimetype": "text/x-python",
   "name": "python",
   "nbconvert_exporter": "python",
   "pygments_lexer": "ipython3",
   "version": "3.8.18"
  }
 },
 "nbformat": 4,
 "nbformat_minor": 2
}

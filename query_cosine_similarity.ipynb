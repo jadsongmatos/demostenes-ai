{
 "cells": [
  {
   "cell_type": "code",
   "execution_count": 1,
   "metadata": {},
   "outputs": [],
   "source": [
    "import duckdb"
   ]
  },
  {
   "cell_type": "code",
   "execution_count": 9,
   "metadata": {},
   "outputs": [],
   "source": [
    "con = duckdb.connect(database='jus.duckdb', read_only=False)"
   ]
  },
  {
   "cell_type": "code",
   "execution_count": 10,
   "metadata": {},
   "outputs": [
    {
     "data": {
      "text/plain": [
       "<duckdb.duckdb.DuckDBPyConnection at 0x7fb23e2274f0>"
      ]
     },
     "execution_count": 10,
     "metadata": {},
     "output_type": "execute_result"
    }
   ],
   "source": [
    "con.execute(\"CREATE TABLE BigBird(id INT PRIMARY KEY, data FLOAT8[]);\")"
   ]
  },
  {
   "cell_type": "code",
   "execution_count": 11,
   "metadata": {},
   "outputs": [
    {
     "data": {
      "text/plain": [
       "<duckdb.duckdb.DuckDBPyConnection at 0x7fb23e2274f0>"
      ]
     },
     "execution_count": 11,
     "metadata": {},
     "output_type": "execute_result"
    }
   ],
   "source": [
    "con.execute(\"CREATE TABLE BigBird_norm(id INT UNIQUE REFERENCES BigBird(id), norm FLOAT8);\")"
   ]
  },
  {
   "cell_type": "code",
   "execution_count": 12,
   "metadata": {},
   "outputs": [
    {
     "data": {
      "text/html": [
       "<div>\n",
       "<style scoped>\n",
       "    .dataframe tbody tr th:only-of-type {\n",
       "        vertical-align: middle;\n",
       "    }\n",
       "\n",
       "    .dataframe tbody tr th {\n",
       "        vertical-align: top;\n",
       "    }\n",
       "\n",
       "    .dataframe thead th {\n",
       "        text-align: right;\n",
       "    }\n",
       "</style>\n",
       "<table border=\"1\" class=\"dataframe\">\n",
       "  <thead>\n",
       "    <tr style=\"text-align: right;\">\n",
       "      <th></th>\n",
       "      <th>id</th>\n",
       "      <th>data</th>\n",
       "    </tr>\n",
       "  </thead>\n",
       "  <tbody>\n",
       "  </tbody>\n",
       "</table>\n",
       "</div>"
      ],
      "text/plain": [
       "Empty DataFrame\n",
       "Columns: [id, data]\n",
       "Index: []"
      ]
     },
     "execution_count": 12,
     "metadata": {},
     "output_type": "execute_result"
    }
   ],
   "source": [
    "data = con.execute(\"SELECT * FROM BigBird\").df()\n",
    "data"
   ]
  },
  {
   "cell_type": "code",
   "execution_count": 13,
   "metadata": {},
   "outputs": [
    {
     "data": {
      "text/plain": [
       "array([[0.        , 0.99779337, 0.97293301, 0.72446168],\n",
       "       [0.99779337, 0.        , 0.97266384, 0.69047619],\n",
       "       [0.97293301, 0.97266384, 0.        , 0.69006556],\n",
       "       [0.72446168, 0.69047619, 0.69006556, 0.        ]])"
      ]
     },
     "execution_count": 13,
     "metadata": {},
     "output_type": "execute_result"
    }
   ],
   "source": [
    "import pandas as pd\n",
    "import numpy as np\n",
    "\n",
    "# Exemplo de conjunto de dados\n",
    "dados = {\n",
    "    'x': [25, 29, 30,1],\n",
    "    'y': [3, 5, 6,0],\n",
    "    'z': [3, 4, -3,0],\n",
    "    'k': [1,0,0,1]\n",
    "}\n",
    "dados_selecionados = pd.DataFrame(dados)\n",
    "\n",
    "def cosine_similarity(A, B):\n",
    "\n",
    "    # Calcula o produto escalar\n",
    "    dot_product = np.dot(A, B)\n",
    "    \n",
    "    # Calcula as normas dos vetores\n",
    "    norm_A = np.linalg.norm(A)\n",
    "    norm_B = np.linalg.norm(B)\n",
    "    \n",
    "    if norm_A == 0 or norm_B == 0:\n",
    "        return 0.0\n",
    "    \n",
    "    # Calcula a similaridade de cosseno\n",
    "    cosine_sim = dot_product / (norm_A * norm_B)\n",
    "    \n",
    "    return cosine_sim\n",
    "\n",
    "# Calculando a similaridade entre candidatos\n",
    "num_candidatos = len(dados_selecionados)\n",
    "similaridades = np.zeros((num_candidatos, num_candidatos))\n",
    "\n",
    "for i in range(num_candidatos):\n",
    "    for j in range(i+1, num_candidatos):  # começar a partir de i+1 \n",
    "        sim = cosine_similarity(dados_selecionados.iloc[i], dados_selecionados.iloc[j])\n",
    "        similaridades[i][j] = sim\n",
    "        similaridades[j][i] = sim  # preenchendo a matriz simétrica\n",
    "\n",
    "similaridades"
   ]
  },
  {
   "cell_type": "code",
   "execution_count": 14,
   "metadata": {},
   "outputs": [
    {
     "data": {
      "text/plain": [
       "<duckdb.duckdb.DuckDBPyConnection at 0x7fb23e2274f0>"
      ]
     },
     "execution_count": 14,
     "metadata": {},
     "output_type": "execute_result"
    }
   ],
   "source": [
    "con.execute(\"\"\"\n",
    "INSERT INTO BigBird (id,data) VALUES\n",
    "\t(0,ARRAY[25.0,3.0,3.0,1.0]),\n",
    "\t(1,ARRAY[29.0,5.0,4.0,0.0]),\n",
    "\t(2,ARRAY[30.0,6.0,-3.0,0.0]),\n",
    "  (3,ARRAY[1.0,0.0,0.0,1.0])\n",
    ";\n",
    "\"\"\")"
   ]
  },
  {
   "cell_type": "code",
   "execution_count": 15,
   "metadata": {},
   "outputs": [
    {
     "data": {
      "text/plain": [
       "<duckdb.duckdb.DuckDBPyConnection at 0x7fb23e2274f0>"
      ]
     },
     "execution_count": 15,
     "metadata": {},
     "output_type": "execute_result"
    }
   ],
   "source": [
    "con.execute(\"\"\"\n",
    "WITH norms AS (\n",
    "    SELECT \n",
    "        id,\n",
    "        SQRT(SUM(POWER(val, 2))) AS norm\n",
    "    FROM \n",
    "    (\n",
    "        SELECT\n",
    "            id,\n",
    "            UNNEST(data) AS val\n",
    "        FROM \n",
    "            BigBird\n",
    "    ) AS subquery\n",
    "    GROUP BY id\n",
    ")\n",
    "\n",
    "INSERT INTO BigBird_norm (id, norm)\n",
    "SELECT id, norm\n",
    "FROM norms\n",
    "ON CONFLICT (id) \n",
    "DO UPDATE SET norm = EXCLUDED.norm;\n",
    "\n",
    "\"\"\")"
   ]
  },
  {
   "cell_type": "code",
   "execution_count": 16,
   "metadata": {},
   "outputs": [
    {
     "data": {
      "text/html": [
       "<div>\n",
       "<style scoped>\n",
       "    .dataframe tbody tr th:only-of-type {\n",
       "        vertical-align: middle;\n",
       "    }\n",
       "\n",
       "    .dataframe tbody tr th {\n",
       "        vertical-align: top;\n",
       "    }\n",
       "\n",
       "    .dataframe thead th {\n",
       "        text-align: right;\n",
       "    }\n",
       "</style>\n",
       "<table border=\"1\" class=\"dataframe\">\n",
       "  <thead>\n",
       "    <tr style=\"text-align: right;\">\n",
       "      <th></th>\n",
       "      <th>id</th>\n",
       "      <th>norm</th>\n",
       "    </tr>\n",
       "  </thead>\n",
       "  <tbody>\n",
       "    <tr>\n",
       "      <th>0</th>\n",
       "      <td>0</td>\n",
       "      <td>25.377155</td>\n",
       "    </tr>\n",
       "    <tr>\n",
       "      <th>1</th>\n",
       "      <td>1</td>\n",
       "      <td>29.698485</td>\n",
       "    </tr>\n",
       "    <tr>\n",
       "      <th>2</th>\n",
       "      <td>2</td>\n",
       "      <td>30.740852</td>\n",
       "    </tr>\n",
       "    <tr>\n",
       "      <th>3</th>\n",
       "      <td>3</td>\n",
       "      <td>1.414214</td>\n",
       "    </tr>\n",
       "  </tbody>\n",
       "</table>\n",
       "</div>"
      ],
      "text/plain": [
       "   id       norm\n",
       "0   0  25.377155\n",
       "1   1  29.698485\n",
       "2   2  30.740852\n",
       "3   3   1.414214"
      ]
     },
     "execution_count": 16,
     "metadata": {},
     "output_type": "execute_result"
    }
   ],
   "source": [
    "con.execute(\"SELECT * FROM BigBird_norm\").df()"
   ]
  },
  {
   "cell_type": "code",
   "execution_count": 17,
   "metadata": {},
   "outputs": [
    {
     "data": {
      "text/html": [
       "<div>\n",
       "<style scoped>\n",
       "    .dataframe tbody tr th:only-of-type {\n",
       "        vertical-align: middle;\n",
       "    }\n",
       "\n",
       "    .dataframe tbody tr th {\n",
       "        vertical-align: top;\n",
       "    }\n",
       "\n",
       "    .dataframe thead th {\n",
       "        text-align: right;\n",
       "    }\n",
       "</style>\n",
       "<table border=\"1\" class=\"dataframe\">\n",
       "  <thead>\n",
       "    <tr style=\"text-align: right;\">\n",
       "      <th></th>\n",
       "      <th>idA</th>\n",
       "      <th>idB</th>\n",
       "      <th>cosine_similarity</th>\n",
       "    </tr>\n",
       "  </thead>\n",
       "  <tbody>\n",
       "    <tr>\n",
       "      <th>0</th>\n",
       "      <td>0</td>\n",
       "      <td>1</td>\n",
       "      <td>0.997793</td>\n",
       "    </tr>\n",
       "    <tr>\n",
       "      <th>1</th>\n",
       "      <td>0</td>\n",
       "      <td>2</td>\n",
       "      <td>0.972933</td>\n",
       "    </tr>\n",
       "    <tr>\n",
       "      <th>2</th>\n",
       "      <td>0</td>\n",
       "      <td>3</td>\n",
       "      <td>0.724462</td>\n",
       "    </tr>\n",
       "    <tr>\n",
       "      <th>3</th>\n",
       "      <td>1</td>\n",
       "      <td>2</td>\n",
       "      <td>0.972664</td>\n",
       "    </tr>\n",
       "    <tr>\n",
       "      <th>4</th>\n",
       "      <td>1</td>\n",
       "      <td>3</td>\n",
       "      <td>0.690476</td>\n",
       "    </tr>\n",
       "    <tr>\n",
       "      <th>5</th>\n",
       "      <td>2</td>\n",
       "      <td>3</td>\n",
       "      <td>0.690066</td>\n",
       "    </tr>\n",
       "  </tbody>\n",
       "</table>\n",
       "</div>"
      ],
      "text/plain": [
       "   idA  idB  cosine_similarity\n",
       "0    0    1           0.997793\n",
       "1    0    2           0.972933\n",
       "2    0    3           0.724462\n",
       "3    1    2           0.972664\n",
       "4    1    3           0.690476\n",
       "5    2    3           0.690066"
      ]
     },
     "execution_count": 17,
     "metadata": {},
     "output_type": "execute_result"
    }
   ],
   "source": [
    "con.execute(\"\"\"\n",
    "WITH DotProducts AS (\n",
    "    WITH expanded AS (\n",
    "        SELECT\n",
    "            a.id AS idA,\n",
    "            b.id AS idB,\n",
    "            unnest(a.data) AS a_data,\n",
    "            unnest(b.data) AS b_data,\n",
    "            row_number() OVER(PARTITION BY a.id, b.id ORDER BY a.id) as rn\n",
    "        FROM\n",
    "            BigBird a\n",
    "        CROSS JOIN\n",
    "            BigBird b\n",
    "        WHERE\n",
    "            a.id < b.id\n",
    "    )\n",
    "\n",
    "    SELECT\n",
    "        idA,\n",
    "        idB,\n",
    "        sum(a_data * b_data) AS dot_product\n",
    "    FROM\n",
    "        expanded\n",
    "    GROUP BY\n",
    "        idA, idB\n",
    "                \n",
    "    )\n",
    "SELECT \n",
    "    d.idA,\n",
    "    d.idB,\n",
    "    CASE \n",
    "        WHEN n1.norm = 0 OR n2.norm = 0 THEN 0\n",
    "        ELSE d.dot_product / (n1.norm * n2.norm)\n",
    "    END AS cosine_similarity\n",
    "FROM \n",
    "    DotProducts d\n",
    "JOIN \n",
    "    BigBird_norm n1 ON d.idA = n1.id\n",
    "JOIN \n",
    "    BigBird_norm n2 ON d.idB = n2.id;\n",
    "\"\"\").df()"
   ]
  },
  {
   "cell_type": "code",
   "execution_count": 18,
   "metadata": {},
   "outputs": [
    {
     "data": {
      "text/plain": [
       "array([[0.        , 0.99779337, 0.97293301, 0.72446168],\n",
       "       [0.99779337, 0.        , 0.97266384, 0.69047619],\n",
       "       [0.97293301, 0.97266384, 0.        , 0.69006556],\n",
       "       [0.72446168, 0.69047619, 0.69006556, 0.        ]])"
      ]
     },
     "execution_count": 18,
     "metadata": {},
     "output_type": "execute_result"
    }
   ],
   "source": [
    "similaridades"
   ]
  },
  {
   "cell_type": "code",
   "execution_count": 32,
   "metadata": {},
   "outputs": [
    {
     "data": {
      "text/plain": [
       "{'idA': array([0, 0, 0, 1, 1, 2], dtype=int32),\n",
       " 'idB': array([1, 2, 3, 2, 3, 3], dtype=int32),\n",
       " 'cosine_similarity': array([0.99779337, 0.97293301, 0.72446168, 0.97266384, 0.69047619,\n",
       "        0.69006556])}"
      ]
     },
     "execution_count": 32,
     "metadata": {},
     "output_type": "execute_result"
    }
   ],
   "source": [
    "con.execute(query_cosine_similarity).fetchnumpy()"
   ]
  },
  {
   "cell_type": "code",
   "execution_count": 35,
   "metadata": {},
   "outputs": [
    {
     "data": {
      "text/plain": [
       "array([[0.        , 0.99779337, 0.97293301, 0.72446168],\n",
       "       [0.99779337, 0.        , 0.97266384, 0.69047619],\n",
       "       [0.97293301, 0.97266384, 0.        , 0.69006556],\n",
       "       [0.72446168, 0.69047619, 0.69006556, 0.        ]])"
      ]
     },
     "execution_count": 35,
     "metadata": {},
     "output_type": "execute_result"
    }
   ],
   "source": [
    "similaridades"
   ]
  },
  {
   "cell_type": "code",
   "execution_count": 19,
   "metadata": {},
   "outputs": [
    {
     "data": {
      "text/plain": [
       "<duckdb.duckdb.DuckDBPyConnection at 0x7fb23e2274f0>"
      ]
     },
     "execution_count": 19,
     "metadata": {},
     "output_type": "execute_result"
    }
   ],
   "source": [
    "con.execute(\"drop table BigBird_norm\")"
   ]
  },
  {
   "cell_type": "code",
   "execution_count": 20,
   "metadata": {},
   "outputs": [
    {
     "data": {
      "text/plain": [
       "<duckdb.duckdb.DuckDBPyConnection at 0x7fb23e2274f0>"
      ]
     },
     "execution_count": 20,
     "metadata": {},
     "output_type": "execute_result"
    }
   ],
   "source": [
    "con.execute(\"drop table BigBird\")"
   ]
  },
  {
   "cell_type": "code",
   "execution_count": 45,
   "metadata": {},
   "outputs": [],
   "source": [
    "con.close()"
   ]
  }
 ],
 "metadata": {
  "kernelspec": {
   "display_name": "py",
   "language": "python",
   "name": "python3"
  },
  "language_info": {
   "codemirror_mode": {
    "name": "ipython",
    "version": 3
   },
   "file_extension": ".py",
   "mimetype": "text/x-python",
   "name": "python",
   "nbconvert_exporter": "python",
   "pygments_lexer": "ipython3",
   "version": "3.10.9"
  },
  "orig_nbformat": 4
 },
 "nbformat": 4,
 "nbformat_minor": 2
}

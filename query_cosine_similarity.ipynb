{
 "cells": [
  {
   "cell_type": "code",
   "execution_count": 1,
   "metadata": {},
   "outputs": [],
   "source": [
    "import duckdb\n",
    "import numpy as np"
   ]
  },
  {
   "cell_type": "code",
   "execution_count": 25,
   "metadata": {},
   "outputs": [],
   "source": [
    "con = duckdb.connect(database='jus.duckdb', read_only=False)"
   ]
  },
  {
   "cell_type": "code",
   "execution_count": 45,
   "metadata": {},
   "outputs": [
    {
     "data": {
      "text/plain": [
       "'CREATE TABLE BigBird(id INT, col_0 FLOAT8, col_1 FLOAT8, col_2 FLOAT8, col_3 FLOAT8);'"
      ]
     },
     "execution_count": 45,
     "metadata": {},
     "output_type": "execute_result"
    }
   ],
   "source": [
    "table = f\"CREATE TABLE BigBird(id INT, {', '.join([f'col_{j} FLOAT8' for j in range(4)])});\"\n",
    "table"
   ]
  },
  {
   "cell_type": "code",
   "execution_count": 46,
   "metadata": {},
   "outputs": [
    {
     "data": {
      "text/plain": [
       "<duckdb.DuckDBPyConnection at 0x7fdd6463fa70>"
      ]
     },
     "execution_count": 46,
     "metadata": {},
     "output_type": "execute_result"
    }
   ],
   "source": [
    "con.execute(table)"
   ]
  },
  {
   "cell_type": "code",
   "execution_count": null,
   "metadata": {},
   "outputs": [],
   "source": [
    "concedendo_label = 1\n",
    "negando_label = 0"
   ]
  },
  {
   "cell_type": "code",
   "execution_count": 34,
   "metadata": {},
   "outputs": [
    {
     "data": {
      "text/plain": [
       "{'id': array([], dtype=int32),\n",
       " 'col_0': array([], dtype=float64),\n",
       " 'col_1': array([], dtype=float64),\n",
       " 'col_2': array([], dtype=float64),\n",
       " 'col_3': array([], dtype=float64)}"
      ]
     },
     "execution_count": 34,
     "metadata": {},
     "output_type": "execute_result"
    }
   ],
   "source": [
    "data = con.execute(\"SELECT * FROM BigBird\").fetchnumpy()\n",
    "data"
   ]
  },
  {
   "cell_type": "code",
   "execution_count": 35,
   "metadata": {},
   "outputs": [
    {
     "data": {
      "text/plain": [
       "array([[0.        , 0.99779337, 0.97293301, 0.72446168],\n",
       "       [0.99779337, 0.        , 0.97266384, 0.69047619],\n",
       "       [0.97293301, 0.97266384, 0.        , 0.69006556],\n",
       "       [0.72446168, 0.69047619, 0.69006556, 0.        ]])"
      ]
     },
     "execution_count": 35,
     "metadata": {},
     "output_type": "execute_result"
    }
   ],
   "source": [
    "import pandas as pd\n",
    "import numpy as np\n",
    "\n",
    "# Exemplo de conjunto de dados\n",
    "dados = {\n",
    "    'x': [25, 29, 30,1],\n",
    "    'y': [3, 5, 6,0],\n",
    "    'z': [3, 4, -3,0],\n",
    "    'k': [1,0,0,1]\n",
    "}\n",
    "dados_selecionados = pd.DataFrame(dados)\n",
    "\n",
    "def cosine_similarity(A, B):\n",
    "\n",
    "    # Calcula o produto escalar\n",
    "    dot_product = np.dot(A, B)\n",
    "    \n",
    "    # Calcula as normas dos vetores\n",
    "    norm_A = np.linalg.norm(A)\n",
    "    norm_B = np.linalg.norm(B)\n",
    "    \n",
    "    if norm_A == 0 or norm_B == 0:\n",
    "        return 0.0\n",
    "    \n",
    "    # Calcula a similaridade de cosseno\n",
    "    cosine_sim = dot_product / (norm_A * norm_B)\n",
    "    \n",
    "    return cosine_sim\n",
    "\n",
    "# Calculando a similaridade entre candidatos\n",
    "num_candidatos = len(dados_selecionados)\n",
    "similaridades = np.zeros((num_candidatos, num_candidatos))\n",
    "\n",
    "for i in range(num_candidatos):\n",
    "    for j in range(i+1, num_candidatos):  # começar a partir de i+1 \n",
    "        sim = cosine_similarity(dados_selecionados.iloc[i], dados_selecionados.iloc[j])\n",
    "        similaridades[i][j] = sim\n",
    "        similaridades[j][i] = sim  # preenchendo a matriz simétrica\n",
    "\n",
    "similaridades"
   ]
  },
  {
   "cell_type": "code",
   "execution_count": 47,
   "metadata": {},
   "outputs": [
    {
     "data": {
      "text/plain": [
       "<duckdb.DuckDBPyConnection at 0x7fdd6463fa70>"
      ]
     },
     "execution_count": 47,
     "metadata": {},
     "output_type": "execute_result"
    }
   ],
   "source": [
    "con.execute(\"\"\"\n",
    "INSERT INTO BigBird (id,col_0,col_1,col_2,col_3) VALUES\n",
    "\t(0,25.0,3.0,3.0,1.0),\n",
    "\t(1,29.0,5.0,4.0,0.0),\n",
    "\t(2,30.0,6.0,-3.0,0.0),\n",
    "  (3,1.0,0.0,0.0,1.0)\n",
    ";\n",
    "\"\"\")"
   ]
  },
  {
   "cell_type": "code",
   "execution_count": 41,
   "metadata": {},
   "outputs": [
    {
     "name": "stdout",
     "output_type": "stream",
     "text": [
      "\n",
      "WITH Norms AS (\n",
      "    SELECT \n",
      "        id,\n",
      "        SQRT(\n",
      "            col_0*col_0+col_1*col_1+col_2*col_2+col_3*col_3\n",
      "            ) AS norm\n",
      "    FROM \n",
      "        BigBird\n",
      "),\n",
      "DotProducts AS (\n",
      "    SELECT \n",
      "        a.id AS idA,\n",
      "        b.id AS idB,\n",
      "        SUM(\n",
      "            a.col_0*b.col_0+a.col_1*b.col_1+a.col_2*b.col_2+a.col_3*b.col_3\n",
      "            ) AS dot_product\n",
      "    FROM \n",
      "        BigBird a\n",
      "    CROSS JOIN \n",
      "        BigBird b\n",
      "    WHERE \n",
      "        a.id < b.id\n",
      "    GROUP BY \n",
      "        a.id, b.id\n",
      ")\n",
      "SELECT \n",
      "    d.idA,\n",
      "    d.idB,\n",
      "    CASE \n",
      "        WHEN n1.norm = 0 OR n2.norm = 0 THEN 0\n",
      "        ELSE d.dot_product / (n1.norm * n2.norm)\n",
      "    END AS cosine_similarity\n",
      "FROM \n",
      "    DotProducts d\n",
      "JOIN \n",
      "    Norms n1 ON d.idA = n1.id\n",
      "JOIN \n",
      "    Norms n2 ON d.idB = n2.id;\n",
      "\n"
     ]
    }
   ],
   "source": [
    "query_cosine_similarity = f\"\"\"\n",
    "WITH Norms AS (\n",
    "    SELECT \n",
    "        id,\n",
    "        SQRT(\n",
    "            {'+'.join([f'col_{j}*col_{j}' for j in range(4)])}\n",
    "            ) AS norm\n",
    "    FROM \n",
    "        BigBird\n",
    "),\n",
    "DotProducts AS (\n",
    "    SELECT \n",
    "        a.id AS idA,\n",
    "        b.id AS idB,\n",
    "        SUM(\n",
    "            {'+'.join([f'a.col_{j}*b.col_{j}' for j in range(4)])}\n",
    "            ) AS dot_product\n",
    "    FROM \n",
    "        BigBird a\n",
    "    CROSS JOIN \n",
    "        BigBird b\n",
    "    WHERE \n",
    "        a.id < b.id\n",
    "    GROUP BY \n",
    "        a.id, b.id\n",
    ")\n",
    "SELECT \n",
    "    d.idA,\n",
    "    d.idB,\n",
    "    CASE \n",
    "        WHEN n1.norm = 0 OR n2.norm = 0 THEN 0\n",
    "        ELSE d.dot_product / (n1.norm * n2.norm)\n",
    "    END AS cosine_similarity\n",
    "FROM \n",
    "    DotProducts d\n",
    "JOIN \n",
    "    Norms n1 ON d.idA = n1.id\n",
    "JOIN \n",
    "    Norms n2 ON d.idB = n2.id;\n",
    "\"\"\"\n",
    "print(query_cosine_similarity)"
   ]
  },
  {
   "cell_type": "code",
   "execution_count": 48,
   "metadata": {},
   "outputs": [
    {
     "data": {
      "text/plain": [
       "{'idA': array([0, 0, 0, 1, 1, 2], dtype=int32),\n",
       " 'idB': array([1, 2, 3, 2, 3, 3], dtype=int32),\n",
       " 'cosine_similarity': array([0.99779337, 0.97293301, 0.72446168, 0.97266384, 0.69047619,\n",
       "        0.69006556])}"
      ]
     },
     "execution_count": 48,
     "metadata": {},
     "output_type": "execute_result"
    }
   ],
   "source": [
    "con.execute(query_cosine_similarity).fetchnumpy()"
   ]
  },
  {
   "cell_type": "code",
   "execution_count": 43,
   "metadata": {},
   "outputs": [
    {
     "data": {
      "text/plain": [
       "array([[0.        , 0.99779337, 0.97293301, 0.72446168],\n",
       "       [0.99779337, 0.        , 0.97266384, 0.69047619],\n",
       "       [0.97293301, 0.97266384, 0.        , 0.69006556],\n",
       "       [0.72446168, 0.69047619, 0.69006556, 0.        ]])"
      ]
     },
     "execution_count": 43,
     "metadata": {},
     "output_type": "execute_result"
    }
   ],
   "source": [
    "similaridades"
   ]
  },
  {
   "cell_type": "code",
   "execution_count": 49,
   "metadata": {},
   "outputs": [
    {
     "data": {
      "text/plain": [
       "<duckdb.DuckDBPyConnection at 0x7fdd6463fa70>"
      ]
     },
     "execution_count": 49,
     "metadata": {},
     "output_type": "execute_result"
    }
   ],
   "source": [
    "con.execute(\"drop table BigBird\")"
   ]
  },
  {
   "cell_type": "code",
   "execution_count": null,
   "metadata": {},
   "outputs": [],
   "source": [
    "con.close()"
   ]
  }
 ],
 "metadata": {
  "kernelspec": {
   "display_name": "py",
   "language": "python",
   "name": "python3"
  },
  "language_info": {
   "codemirror_mode": {
    "name": "ipython",
    "version": 3
   },
   "file_extension": ".py",
   "mimetype": "text/x-python",
   "name": "python",
   "nbconvert_exporter": "python",
   "pygments_lexer": "ipython3",
   "version": "3.10.9"
  },
  "orig_nbformat": 4
 },
 "nbformat": 4,
 "nbformat_minor": 2
}

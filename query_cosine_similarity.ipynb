{
 "cells": [
  {
   "cell_type": "code",
   "execution_count": 2,
   "metadata": {},
   "outputs": [],
   "source": [
    "import duckdb\n",
    "import numpy as np"
   ]
  },
  {
   "cell_type": "code",
   "execution_count": 46,
   "metadata": {},
   "outputs": [],
   "source": [
    "con = duckdb.connect(database='jus.duckdb', read_only=False)"
   ]
  },
  {
   "cell_type": "code",
   "execution_count": 44,
   "metadata": {},
   "outputs": [
    {
     "data": {
      "text/plain": [
       "<duckdb.DuckDBPyConnection at 0x7fdc051d92b0>"
      ]
     },
     "execution_count": 44,
     "metadata": {},
     "output_type": "execute_result"
    }
   ],
   "source": [
    "con.execute(f\"CREATE TABLE BigBird(id INT PRIMARY KEY, {', '.join([f'col_{j} FLOAT8' for j in range(4)])});\")"
   ]
  },
  {
   "cell_type": "code",
   "execution_count": 49,
   "metadata": {},
   "outputs": [
    {
     "data": {
      "text/plain": [
       "<duckdb.DuckDBPyConnection at 0x7fdc3692b070>"
      ]
     },
     "execution_count": 49,
     "metadata": {},
     "output_type": "execute_result"
    }
   ],
   "source": [
    "con.execute(\"CREATE TABLE BigBird(id INT PRIMARY KEY, data FLOAT8[]);\")"
   ]
  },
  {
   "cell_type": "code",
   "execution_count": 72,
   "metadata": {},
   "outputs": [
    {
     "ename": "CatalogException",
     "evalue": "Catalog Error: Table with name \"BigBird_norm\" already exists!",
     "output_type": "error",
     "traceback": [
      "\u001b[0;31m---------------------------------------------------------------------------\u001b[0m",
      "\u001b[0;31mCatalogException\u001b[0m                          Traceback (most recent call last)",
      "\u001b[1;32m/home/jadson/Documentos/jus-ai/query_cosine_similarity.ipynb Cell 5\u001b[0m line \u001b[0;36m1\n\u001b[0;32m----> <a href='vscode-notebook-cell:/home/jadson/Documentos/jus-ai/query_cosine_similarity.ipynb#W4sZmlsZQ%3D%3D?line=0'>1</a>\u001b[0m con\u001b[39m.\u001b[39;49mexecute(\u001b[39m\"\u001b[39;49m\u001b[39mCREATE TABLE BigBird_norm(id INT UNIQUE REFERENCES BigBird(id), norm FLOAT8);\u001b[39;49m\u001b[39m\"\u001b[39;49m)\n",
      "\u001b[0;31mCatalogException\u001b[0m: Catalog Error: Table with name \"BigBird_norm\" already exists!"
     ]
    }
   ],
   "source": [
    "con.execute(\"CREATE TABLE BigBird_norm(id INT UNIQUE REFERENCES BigBird(id), norm FLOAT8);\")"
   ]
  },
  {
   "cell_type": "code",
   "execution_count": null,
   "metadata": {},
   "outputs": [],
   "source": [
    "concedendo_label = 1\n",
    "negando_label = 0"
   ]
  },
  {
   "cell_type": "code",
   "execution_count": 60,
   "metadata": {},
   "outputs": [
    {
     "data": {
      "text/plain": [
       "{'id': array([0, 1, 2, 3], dtype=int32),\n",
       " 'data': array([list([25.0, 3.0, 3.0, 1.0]), list([29.0, 5.0, 4.0, 0.0]),\n",
       "        list([30.0, 6.0, -3.0, 0.0]), list([1.0, 0.0, 0.0, 1.0])],\n",
       "       dtype=object)}"
      ]
     },
     "execution_count": 60,
     "metadata": {},
     "output_type": "execute_result"
    }
   ],
   "source": [
    "data = con.execute(\"SELECT * FROM BigBird\").fetchnumpy()\n",
    "data"
   ]
  },
  {
   "cell_type": "code",
   "execution_count": 77,
   "metadata": {},
   "outputs": [
    {
     "data": {
      "text/plain": [
       "array([[0.        , 0.99779337, 0.97293301, 0.72446168],\n",
       "       [0.99779337, 0.        , 0.97266384, 0.69047619],\n",
       "       [0.97293301, 0.97266384, 0.        , 0.69006556],\n",
       "       [0.72446168, 0.69047619, 0.69006556, 0.        ]])"
      ]
     },
     "execution_count": 77,
     "metadata": {},
     "output_type": "execute_result"
    }
   ],
   "source": [
    "import pandas as pd\n",
    "import numpy as np\n",
    "\n",
    "# Exemplo de conjunto de dados\n",
    "dados = {\n",
    "    'x': [25, 29, 30,1],\n",
    "    'y': [3, 5, 6,0],\n",
    "    'z': [3, 4, -3,0],\n",
    "    'k': [1,0,0,1]\n",
    "}\n",
    "dados_selecionados = pd.DataFrame(dados)\n",
    "\n",
    "def cosine_similarity(A, B):\n",
    "\n",
    "    # Calcula o produto escalar\n",
    "    dot_product = np.dot(A, B)\n",
    "    \n",
    "    # Calcula as normas dos vetores\n",
    "    norm_A = np.linalg.norm(A)\n",
    "    norm_B = np.linalg.norm(B)\n",
    "    \n",
    "    if norm_A == 0 or norm_B == 0:\n",
    "        return 0.0\n",
    "    \n",
    "    # Calcula a similaridade de cosseno\n",
    "    cosine_sim = dot_product / (norm_A * norm_B)\n",
    "    \n",
    "    return cosine_sim\n",
    "\n",
    "# Calculando a similaridade entre candidatos\n",
    "num_candidatos = len(dados_selecionados)\n",
    "similaridades = np.zeros((num_candidatos, num_candidatos))\n",
    "\n",
    "for i in range(num_candidatos):\n",
    "    for j in range(i+1, num_candidatos):  # começar a partir de i+1 \n",
    "        sim = cosine_similarity(dados_selecionados.iloc[i], dados_selecionados.iloc[j])\n",
    "        similaridades[i][j] = sim\n",
    "        similaridades[j][i] = sim  # preenchendo a matriz simétrica\n",
    "\n",
    "similaridades"
   ]
  },
  {
   "cell_type": "code",
   "execution_count": 37,
   "metadata": {},
   "outputs": [
    {
     "data": {
      "text/plain": [
       "<duckdb.DuckDBPyConnection at 0x7fdc24d23670>"
      ]
     },
     "execution_count": 37,
     "metadata": {},
     "output_type": "execute_result"
    }
   ],
   "source": [
    "con.execute(\"\"\"\n",
    "INSERT INTO BigBird (id,col_0,col_1,col_2,col_3) VALUES\n",
    "\t(0,25.0,3.0,3.0,1.0),\n",
    "\t(1,29.0,5.0,4.0,0.0),\n",
    "\t(2,30.0,6.0,-3.0,0.0),\n",
    "  (3,1.0,0.0,0.0,1.0)\n",
    ";\n",
    "\"\"\")"
   ]
  },
  {
   "cell_type": "code",
   "execution_count": 38,
   "metadata": {},
   "outputs": [
    {
     "data": {
      "text/plain": [
       "{'id': array([0, 1, 2, 3], dtype=int32),\n",
       " 'norm': array([25.37715508, 29.69848481, 30.7408523 ,  1.41421356])}"
      ]
     },
     "execution_count": 38,
     "metadata": {},
     "output_type": "execute_result"
    }
   ],
   "source": [
    "con.execute(f\"\"\"\n",
    "    SELECT \n",
    "        id,\n",
    "        SQRT(\n",
    "            {'+'.join([f'col_{j}*col_{j}' for j in range(4)])}\n",
    "        ) AS norm\n",
    "    FROM BigBird         \n",
    "\"\"\").fetchnumpy()"
   ]
  },
  {
   "cell_type": "code",
   "execution_count": 24,
   "metadata": {},
   "outputs": [
    {
     "data": {
      "text/plain": [
       "{'Count': masked_array(data=[4],\n",
       "              mask=[False],\n",
       "        fill_value=999999)}"
      ]
     },
     "execution_count": 24,
     "metadata": {},
     "output_type": "execute_result"
    }
   ],
   "source": [
    "con.execute(f\"\"\"\n",
    "WITH norms AS (\n",
    "    SELECT \n",
    "        id,\n",
    "        SQRT(\n",
    "            {'+'.join([f'col_{j}*col_{j}' for j in range(4)])}\n",
    "        ) AS norm\n",
    "    FROM BigBird\n",
    ")\n",
    "\n",
    "INSERT INTO BigBird_norm (id, norm)\n",
    "SELECT id, norm\n",
    "FROM norms\n",
    "\n",
    "ON CONFLICT (id) \n",
    "DO UPDATE SET norm = EXCLUDED.norm;            \n",
    "\"\"\").fetchnumpy()"
   ]
  },
  {
   "cell_type": "code",
   "execution_count": 50,
   "metadata": {},
   "outputs": [
    {
     "data": {
      "text/plain": [
       "<duckdb.DuckDBPyConnection at 0x7fdc3692b070>"
      ]
     },
     "execution_count": 50,
     "metadata": {},
     "output_type": "execute_result"
    }
   ],
   "source": [
    "con.execute(\"\"\"\n",
    "INSERT INTO BigBird (id,data) VALUES\n",
    "\t(0,ARRAY[25.0,3.0,3.0,1.0]),\n",
    "\t(1,ARRAY[29.0,5.0,4.0,0.0]),\n",
    "\t(2,ARRAY[30.0,6.0,-3.0,0.0]),\n",
    "  (3,ARRAY[1.0,0.0,0.0,1.0])\n",
    ";\n",
    "\"\"\")"
   ]
  },
  {
   "cell_type": "code",
   "execution_count": 70,
   "metadata": {},
   "outputs": [
    {
     "data": {
      "text/plain": [
       "{'id': array([0, 1, 2, 3], dtype=int32),\n",
       " 'norm': array([25.37715508, 29.69848481, 30.7408523 ,  1.41421356])}"
      ]
     },
     "execution_count": 70,
     "metadata": {},
     "output_type": "execute_result"
    }
   ],
   "source": [
    "con.execute(\"\"\"\n",
    "SELECT \n",
    "    id,\n",
    "    SQRT(SUM(POWER(val, 2))) AS norm\n",
    "FROM \n",
    "    BigBird,\n",
    "    LATERAL UNNEST(data) AS t(val)\n",
    "GROUP BY \n",
    "    id;\n",
    "\"\"\").fetchnumpy()"
   ]
  },
  {
   "cell_type": "code",
   "execution_count": 73,
   "metadata": {},
   "outputs": [
    {
     "data": {
      "text/plain": [
       "{'Count': masked_array(data=[4],\n",
       "              mask=[False],\n",
       "        fill_value=999999)}"
      ]
     },
     "execution_count": 73,
     "metadata": {},
     "output_type": "execute_result"
    }
   ],
   "source": [
    "con.execute(\"\"\"\n",
    "WITH norms AS (\n",
    "  SELECT \n",
    "      id,\n",
    "      SQRT(SUM(POWER(val, 2))) AS norm\n",
    "  FROM \n",
    "      BigBird,\n",
    "      LATERAL UNNEST(data) AS t(val)\n",
    "  GROUP BY \n",
    "      id\n",
    ")\n",
    "INSERT INTO BigBird_norm (id, norm)\n",
    "SELECT id, norm\n",
    "FROM norms\n",
    "\n",
    "ON CONFLICT (id) \n",
    "DO UPDATE SET norm = EXCLUDED.norm; \n",
    "\"\"\").fetchnumpy()  "
   ]
  },
  {
   "cell_type": "code",
   "execution_count": 74,
   "metadata": {},
   "outputs": [
    {
     "data": {
      "text/plain": [
       "{'id': array([0, 1, 2, 3], dtype=int32),\n",
       " 'norm': array([25.37715508, 29.69848481, 30.7408523 ,  1.41421356])}"
      ]
     },
     "execution_count": 74,
     "metadata": {},
     "output_type": "execute_result"
    }
   ],
   "source": [
    "con.execute(\"SELECT * FROM BigBird_norm\").fetchnumpy()"
   ]
  },
  {
   "cell_type": "code",
   "execution_count": 41,
   "metadata": {},
   "outputs": [
    {
     "name": "stdout",
     "output_type": "stream",
     "text": [
      "SELECT \n",
      "    a.id AS idA,\n",
      "    b.id AS idB,\n",
      "    SUM(\n",
      "        a.col_0*b.col_0+a.col_1*b.col_1+a.col_2*b.col_2+a.col_3*b.col_3\n",
      "        ) AS dot_product\n",
      "FROM \n",
      "    BigBird a\n",
      "CROSS JOIN \n",
      "    BigBird b\n",
      "WHERE \n",
      "    a.id < b.id\n",
      "GROUP BY \n",
      "    a.id, b.id\n"
     ]
    }
   ],
   "source": [
    "print(f\"\"\"SELECT \n",
    "    a.id AS idA,\n",
    "    b.id AS idB,\n",
    "    SUM(\n",
    "        {'+'.join([f'a.col_{j}*b.col_{j}' for j in range(4)])}\n",
    "        ) AS dot_product\n",
    "FROM \n",
    "    BigBird a\n",
    "CROSS JOIN \n",
    "    BigBird b\n",
    "WHERE \n",
    "    a.id < b.id\n",
    "GROUP BY \n",
    "    a.id, b.id\"\"\")"
   ]
  },
  {
   "cell_type": "code",
   "execution_count": 75,
   "metadata": {},
   "outputs": [
    {
     "data": {
      "text/plain": [
       "{'idA': array([0, 0, 0, 1, 1, 2], dtype=int32),\n",
       " 'idB': array([1, 2, 3, 2, 3, 3], dtype=int32),\n",
       " 'dot_product': array([752., 759.,  26., 888.,  29.,  30.])}"
      ]
     },
     "execution_count": 75,
     "metadata": {},
     "output_type": "execute_result"
    }
   ],
   "source": [
    "con.execute(\"\"\"\n",
    "WITH expanded AS (\n",
    "    SELECT\n",
    "        a.id AS idA,\n",
    "        b.id AS idB,\n",
    "        unnest(a.data) AS a_data,\n",
    "        unnest(b.data) AS b_data,\n",
    "        row_number() OVER(PARTITION BY a.id, b.id ORDER BY a.id) as rn\n",
    "    FROM\n",
    "        BigBird a\n",
    "    CROSS JOIN\n",
    "        BigBird b\n",
    "    WHERE\n",
    "        a.id < b.id\n",
    ")\n",
    "\n",
    "SELECT\n",
    "    idA,\n",
    "    idB,\n",
    "    sum(a_data * b_data) AS dot_product\n",
    "FROM\n",
    "    expanded\n",
    "GROUP BY\n",
    "    idA, idB\n",
    "\"\"\").fetchnumpy()"
   ]
  },
  {
   "cell_type": "code",
   "execution_count": 76,
   "metadata": {},
   "outputs": [
    {
     "data": {
      "text/plain": [
       "{'idA': array([0, 0, 0, 1, 1, 2], dtype=int32),\n",
       " 'idB': array([1, 2, 3, 2, 3, 3], dtype=int32),\n",
       " 'cosine_similarity': array([0.99779337, 0.97293301, 0.72446168, 0.97266384, 0.69047619,\n",
       "        0.69006556])}"
      ]
     },
     "execution_count": 76,
     "metadata": {},
     "output_type": "execute_result"
    }
   ],
   "source": [
    "con.execute(\"\"\"\n",
    "WITH DotProducts AS (\n",
    "    WITH expanded AS (\n",
    "        SELECT\n",
    "            a.id AS idA,\n",
    "            b.id AS idB,\n",
    "            unnest(a.data) AS a_data,\n",
    "            unnest(b.data) AS b_data,\n",
    "            row_number() OVER(PARTITION BY a.id, b.id ORDER BY a.id) as rn\n",
    "        FROM\n",
    "            BigBird a\n",
    "        CROSS JOIN\n",
    "            BigBird b\n",
    "        WHERE\n",
    "            a.id < b.id\n",
    "    )\n",
    "\n",
    "    SELECT\n",
    "        idA,\n",
    "        idB,\n",
    "        sum(a_data * b_data) AS dot_product\n",
    "    FROM\n",
    "        expanded\n",
    "    GROUP BY\n",
    "        idA, idB\n",
    "                \n",
    "    )\n",
    "SELECT \n",
    "    d.idA,\n",
    "    d.idB,\n",
    "    CASE \n",
    "        WHEN n1.norm = 0 OR n2.norm = 0 THEN 0\n",
    "        ELSE d.dot_product / (n1.norm * n2.norm)\n",
    "    END AS cosine_similarity\n",
    "FROM \n",
    "    DotProducts d\n",
    "JOIN \n",
    "    BigBird_norm n1 ON d.idA = n1.id\n",
    "JOIN \n",
    "    BigBird_norm n2 ON d.idB = n2.id;\n",
    "\"\"\").fetchnumpy()"
   ]
  },
  {
   "cell_type": "code",
   "execution_count": 78,
   "metadata": {},
   "outputs": [
    {
     "data": {
      "text/plain": [
       "array([[0.        , 0.99779337, 0.97293301, 0.72446168],\n",
       "       [0.99779337, 0.        , 0.97266384, 0.69047619],\n",
       "       [0.97293301, 0.97266384, 0.        , 0.69006556],\n",
       "       [0.72446168, 0.69047619, 0.69006556, 0.        ]])"
      ]
     },
     "execution_count": 78,
     "metadata": {},
     "output_type": "execute_result"
    }
   ],
   "source": [
    "similaridades"
   ]
  },
  {
   "cell_type": "code",
   "execution_count": 31,
   "metadata": {},
   "outputs": [
    {
     "name": "stdout",
     "output_type": "stream",
     "text": [
      "\n",
      "WITH DotProducts AS (\n",
      "    SELECT \n",
      "        a.id AS idA,\n",
      "        b.id AS idB,\n",
      "        SUM(\n",
      "            a.col_0*b.col_0+a.col_1*b.col_1+a.col_2*b.col_2+a.col_3*b.col_3\n",
      "            ) AS dot_product\n",
      "    FROM \n",
      "        BigBird a\n",
      "    CROSS JOIN \n",
      "        BigBird b\n",
      "    WHERE \n",
      "        a.id < b.id\n",
      "    GROUP BY \n",
      "        a.id, b.id\n",
      ")\n",
      "SELECT \n",
      "    d.idA,\n",
      "    d.idB,\n",
      "    CASE \n",
      "        WHEN n1.norm = 0 OR n2.norm = 0 THEN 0\n",
      "        ELSE d.dot_product / (n1.norm * n2.norm)\n",
      "    END AS cosine_similarity\n",
      "FROM \n",
      "    DotProducts d\n",
      "JOIN \n",
      "    BigBird_norm n1 ON d.idA = n1.id\n",
      "JOIN \n",
      "    BigBird_norm n2 ON d.idB = n2.id;\n",
      "\n"
     ]
    }
   ],
   "source": [
    "query_cosine_similarity = f\"\"\"\n",
    "WITH DotProducts AS (\n",
    "    SELECT \n",
    "        a.id AS idA,\n",
    "        b.id AS idB,\n",
    "        SUM(\n",
    "            {'+'.join([f'a.col_{j}*b.col_{j}' for j in range(4)])}\n",
    "            ) AS dot_product\n",
    "    FROM \n",
    "        BigBird a\n",
    "    CROSS JOIN \n",
    "        BigBird b\n",
    "    WHERE \n",
    "        a.id < b.id\n",
    "    GROUP BY \n",
    "        a.id, b.id\n",
    ")\n",
    "SELECT \n",
    "    d.idA,\n",
    "    d.idB,\n",
    "    CASE \n",
    "        WHEN n1.norm = 0 OR n2.norm = 0 THEN 0\n",
    "        ELSE d.dot_product / (n1.norm * n2.norm)\n",
    "    END AS cosine_similarity\n",
    "FROM \n",
    "    DotProducts d\n",
    "JOIN \n",
    "    BigBird_norm n1 ON d.idA = n1.id\n",
    "JOIN \n",
    "    BigBird_norm n2 ON d.idB = n2.id;\n",
    "\"\"\"\n",
    "print(query_cosine_similarity)"
   ]
  },
  {
   "cell_type": "code",
   "execution_count": 32,
   "metadata": {},
   "outputs": [
    {
     "data": {
      "text/plain": [
       "{'idA': array([0, 0, 0, 1, 1, 2], dtype=int32),\n",
       " 'idB': array([1, 2, 3, 2, 3, 3], dtype=int32),\n",
       " 'cosine_similarity': array([0.99779337, 0.97293301, 0.72446168, 0.97266384, 0.69047619,\n",
       "        0.69006556])}"
      ]
     },
     "execution_count": 32,
     "metadata": {},
     "output_type": "execute_result"
    }
   ],
   "source": [
    "con.execute(query_cosine_similarity).fetchnumpy()"
   ]
  },
  {
   "cell_type": "code",
   "execution_count": 35,
   "metadata": {},
   "outputs": [
    {
     "data": {
      "text/plain": [
       "array([[0.        , 0.99779337, 0.97293301, 0.72446168],\n",
       "       [0.99779337, 0.        , 0.97266384, 0.69047619],\n",
       "       [0.97293301, 0.97266384, 0.        , 0.69006556],\n",
       "       [0.72446168, 0.69047619, 0.69006556, 0.        ]])"
      ]
     },
     "execution_count": 35,
     "metadata": {},
     "output_type": "execute_result"
    }
   ],
   "source": [
    "similaridades"
   ]
  },
  {
   "cell_type": "code",
   "execution_count": 79,
   "metadata": {},
   "outputs": [
    {
     "data": {
      "text/plain": [
       "<duckdb.DuckDBPyConnection at 0x7fdc3692b070>"
      ]
     },
     "execution_count": 79,
     "metadata": {},
     "output_type": "execute_result"
    }
   ],
   "source": [
    "con.execute(\"drop table BigBird_norm\")"
   ]
  },
  {
   "cell_type": "code",
   "execution_count": 80,
   "metadata": {},
   "outputs": [
    {
     "data": {
      "text/plain": [
       "<duckdb.DuckDBPyConnection at 0x7fdc3692b070>"
      ]
     },
     "execution_count": 80,
     "metadata": {},
     "output_type": "execute_result"
    }
   ],
   "source": [
    "con.execute(\"drop table BigBird\")"
   ]
  },
  {
   "cell_type": "code",
   "execution_count": 45,
   "metadata": {},
   "outputs": [],
   "source": [
    "con.close()"
   ]
  }
 ],
 "metadata": {
  "kernelspec": {
   "display_name": "py",
   "language": "python",
   "name": "python3"
  },
  "language_info": {
   "codemirror_mode": {
    "name": "ipython",
    "version": 3
   },
   "file_extension": ".py",
   "mimetype": "text/x-python",
   "name": "python",
   "nbconvert_exporter": "python",
   "pygments_lexer": "ipython3",
   "version": "3.10.9"
  },
  "orig_nbformat": 4
 },
 "nbformat": 4,
 "nbformat_minor": 2
}

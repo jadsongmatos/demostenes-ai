{
 "cells": [
  {
   "cell_type": "code",
   "execution_count": 33,
   "metadata": {},
   "outputs": [],
   "source": [
    "import duckdb\n",
    "from sklearn.preprocessing import LabelEncoder"
   ]
  },
  {
   "cell_type": "code",
   "execution_count": 5,
   "metadata": {},
   "outputs": [],
   "source": [
    "# Conectar (ou criar) um banco de dados\n",
    "con = duckdb.connect(database='jus.duckdb', read_only=False)"
   ]
  },
  {
   "cell_type": "code",
   "execution_count": 6,
   "metadata": {},
   "outputs": [
    {
     "data": {
      "text/plain": [
       "<duckdb.DuckDBPyConnection at 0x7f109c99c7b0>"
      ]
     },
     "execution_count": 6,
     "metadata": {},
     "output_type": "execute_result"
    }
   ],
   "source": [
    "# Ler os dados do arquivo JSON e criar uma tabela temporária\n",
    "con.execute(\"\"\"\n",
    "    CREATE TABLE decisions AS SELECT * FROM read_json_auto('./data/202202-stj/metadadosPublicacao202202.json');\n",
    "\"\"\")"
   ]
  },
  {
   "cell_type": "code",
   "execution_count": 44,
   "metadata": {},
   "outputs": [
    {
     "data": {
      "text/html": [
       "<div>\n",
       "<style scoped>\n",
       "    .dataframe tbody tr th:only-of-type {\n",
       "        vertical-align: middle;\n",
       "    }\n",
       "\n",
       "    .dataframe tbody tr th {\n",
       "        vertical-align: top;\n",
       "    }\n",
       "\n",
       "    .dataframe thead th {\n",
       "        text-align: right;\n",
       "    }\n",
       "</style>\n",
       "<table border=\"1\" class=\"dataframe\">\n",
       "  <thead>\n",
       "    <tr style=\"text-align: right;\">\n",
       "      <th></th>\n",
       "      <th>seqDocumento</th>\n",
       "      <th>teor</th>\n",
       "    </tr>\n",
       "  </thead>\n",
       "  <tbody>\n",
       "    <tr>\n",
       "      <th>0</th>\n",
       "      <td>144948780</td>\n",
       "      <td>Concedendo</td>\n",
       "    </tr>\n",
       "    <tr>\n",
       "      <th>1</th>\n",
       "      <td>145620297</td>\n",
       "      <td>Concedendo</td>\n",
       "    </tr>\n",
       "    <tr>\n",
       "      <th>2</th>\n",
       "      <td>139579332</td>\n",
       "      <td>Concedendo</td>\n",
       "    </tr>\n",
       "    <tr>\n",
       "      <th>3</th>\n",
       "      <td>141816757</td>\n",
       "      <td>Concedendo</td>\n",
       "    </tr>\n",
       "    <tr>\n",
       "      <th>4</th>\n",
       "      <td>144148942</td>\n",
       "      <td>Concedendo</td>\n",
       "    </tr>\n",
       "    <tr>\n",
       "      <th>...</th>\n",
       "      <td>...</td>\n",
       "      <td>...</td>\n",
       "    </tr>\n",
       "    <tr>\n",
       "      <th>61361</th>\n",
       "      <td>144531393</td>\n",
       "      <td>Concedendo</td>\n",
       "    </tr>\n",
       "    <tr>\n",
       "      <th>61362</th>\n",
       "      <td>143092827</td>\n",
       "      <td>Concedendo</td>\n",
       "    </tr>\n",
       "    <tr>\n",
       "      <th>61363</th>\n",
       "      <td>142924179</td>\n",
       "      <td>Concedendo</td>\n",
       "    </tr>\n",
       "    <tr>\n",
       "      <th>61364</th>\n",
       "      <td>145440916</td>\n",
       "      <td>Concedendo</td>\n",
       "    </tr>\n",
       "    <tr>\n",
       "      <th>61365</th>\n",
       "      <td>144826578</td>\n",
       "      <td>Concedendo</td>\n",
       "    </tr>\n",
       "  </tbody>\n",
       "</table>\n",
       "<p>61366 rows × 2 columns</p>\n",
       "</div>"
      ],
      "text/plain": [
       "       seqDocumento        teor\n",
       "0         144948780  Concedendo\n",
       "1         145620297  Concedendo\n",
       "2         139579332  Concedendo\n",
       "3         141816757  Concedendo\n",
       "4         144148942  Concedendo\n",
       "...             ...         ...\n",
       "61361     144531393  Concedendo\n",
       "61362     143092827  Concedendo\n",
       "61363     142924179  Concedendo\n",
       "61364     145440916  Concedendo\n",
       "61365     144826578  Concedendo\n",
       "\n",
       "[61366 rows x 2 columns]"
      ]
     },
     "execution_count": 44,
     "metadata": {},
     "output_type": "execute_result"
    }
   ],
   "source": [
    "data = con.execute(\"SELECT seqDocumento,teor FROM decisions\").df()\n",
    "data"
   ]
  },
  {
   "cell_type": "code",
   "execution_count": 35,
   "metadata": {},
   "outputs": [
    {
     "data": {
      "text/html": [
       "<div>\n",
       "<style scoped>\n",
       "    .dataframe tbody tr th:only-of-type {\n",
       "        vertical-align: middle;\n",
       "    }\n",
       "\n",
       "    .dataframe tbody tr th {\n",
       "        vertical-align: top;\n",
       "    }\n",
       "\n",
       "    .dataframe thead th {\n",
       "        text-align: right;\n",
       "    }\n",
       "</style>\n",
       "<table border=\"1\" class=\"dataframe\">\n",
       "  <thead>\n",
       "    <tr style=\"text-align: right;\">\n",
       "      <th></th>\n",
       "      <th>seqDocumento</th>\n",
       "      <th>processo</th>\n",
       "      <th>teor</th>\n",
       "    </tr>\n",
       "  </thead>\n",
       "  <tbody>\n",
       "    <tr>\n",
       "      <th>0</th>\n",
       "      <td>144948780</td>\n",
       "      <td>REsp 1890871</td>\n",
       "      <td>1</td>\n",
       "    </tr>\n",
       "    <tr>\n",
       "      <th>1</th>\n",
       "      <td>145620297</td>\n",
       "      <td>HC 695900</td>\n",
       "      <td>1</td>\n",
       "    </tr>\n",
       "    <tr>\n",
       "      <th>2</th>\n",
       "      <td>139579332</td>\n",
       "      <td>HC 695866</td>\n",
       "      <td>1</td>\n",
       "    </tr>\n",
       "    <tr>\n",
       "      <th>3</th>\n",
       "      <td>141816757</td>\n",
       "      <td>Rcl 42334</td>\n",
       "      <td>1</td>\n",
       "    </tr>\n",
       "    <tr>\n",
       "      <th>4</th>\n",
       "      <td>144148942</td>\n",
       "      <td>HC 697730</td>\n",
       "      <td>1</td>\n",
       "    </tr>\n",
       "    <tr>\n",
       "      <th>...</th>\n",
       "      <td>...</td>\n",
       "      <td>...</td>\n",
       "      <td>...</td>\n",
       "    </tr>\n",
       "    <tr>\n",
       "      <th>61361</th>\n",
       "      <td>144531393</td>\n",
       "      <td>REsp 1228590</td>\n",
       "      <td>1</td>\n",
       "    </tr>\n",
       "    <tr>\n",
       "      <th>61362</th>\n",
       "      <td>143092827</td>\n",
       "      <td>REsp 1210458</td>\n",
       "      <td>1</td>\n",
       "    </tr>\n",
       "    <tr>\n",
       "      <th>61363</th>\n",
       "      <td>142924179</td>\n",
       "      <td>EREsp 1163268</td>\n",
       "      <td>1</td>\n",
       "    </tr>\n",
       "    <tr>\n",
       "      <th>61364</th>\n",
       "      <td>145440916</td>\n",
       "      <td>AR 3998</td>\n",
       "      <td>1</td>\n",
       "    </tr>\n",
       "    <tr>\n",
       "      <th>61365</th>\n",
       "      <td>144826578</td>\n",
       "      <td>REsp 1042009</td>\n",
       "      <td>1</td>\n",
       "    </tr>\n",
       "  </tbody>\n",
       "</table>\n",
       "<p>61366 rows × 3 columns</p>\n",
       "</div>"
      ],
      "text/plain": [
       "       seqDocumento           processo  teor\n",
       "0         144948780   REsp 1890871         1\n",
       "1         145620297     HC 695900          1\n",
       "2         139579332     HC 695866          1\n",
       "3         141816757    Rcl 42334           1\n",
       "4         144148942     HC 697730          1\n",
       "...             ...                ...   ...\n",
       "61361     144531393   REsp 1228590         1\n",
       "61362     143092827   REsp 1210458         1\n",
       "61363     142924179  EREsp 1163268         1\n",
       "61364     145440916     AR 3998            1\n",
       "61365     144826578   REsp 1042009         1\n",
       "\n",
       "[61366 rows x 3 columns]"
      ]
     },
     "execution_count": 35,
     "metadata": {},
     "output_type": "execute_result"
    }
   ],
   "source": [
    "teor_type = LabelEncoder()\n",
    "data['teor'] = teor_type.fit_transform(data['teor'])\n",
    "data"
   ]
  },
  {
   "cell_type": "code",
   "execution_count": 42,
   "metadata": {},
   "outputs": [
    {
     "data": {
      "text/plain": [
       "array([0, 1, 2, 3, 4, 5, 6, 7, 8, 9])"
      ]
     },
     "execution_count": 42,
     "metadata": {},
     "output_type": "execute_result"
    }
   ],
   "source": [
    "teor_type.classes_"
   ]
  }
 ],
 "metadata": {
  "kernelspec": {
   "display_name": "py",
   "language": "python",
   "name": "python3"
  },
  "language_info": {
   "codemirror_mode": {
    "name": "ipython",
    "version": 3
   },
   "file_extension": ".py",
   "mimetype": "text/x-python",
   "name": "python",
   "nbconvert_exporter": "python",
   "pygments_lexer": "ipython3",
   "version": "3.10.9"
  },
  "orig_nbformat": 4
 },
 "nbformat": 4,
 "nbformat_minor": 2
}

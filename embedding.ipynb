{
 "cells": [
  {
   "cell_type": "code",
   "execution_count": 1,
   "metadata": {},
   "outputs": [],
   "source": [
    "import duckdb\n",
    "from transformers import BigBirdModel, BigBirdTokenizerFast\n",
    "from tqdm import tqdm"
   ]
  },
  {
   "cell_type": "code",
   "execution_count": 2,
   "metadata": {},
   "outputs": [],
   "source": [
    "tokenizer = BigBirdTokenizerFast.from_pretrained(\n",
    "    \"google/bigbird-roberta-base\")  # large\n",
    "model = BigBirdModel.from_pretrained(\"google/bigbird-roberta-base\",\n",
    "                                     attention_type=\"original_full\"\n",
    "                                     #attention_type=\"block_sparse\"\n",
    "                                     )"
   ]
  },
  {
   "cell_type": "code",
   "execution_count": 2,
   "metadata": {},
   "outputs": [],
   "source": [
    "# Conectar (ou criar) um banco de dados\n",
    "con = duckdb.connect(database='jus4.duckdb', read_only=False)"
   ]
  },
  {
   "cell_type": "code",
   "execution_count": 3,
   "metadata": {},
   "outputs": [
    {
     "data": {
      "text/html": [
       "<div>\n",
       "<style scoped>\n",
       "    .dataframe tbody tr th:only-of-type {\n",
       "        vertical-align: middle;\n",
       "    }\n",
       "\n",
       "    .dataframe tbody tr th {\n",
       "        vertical-align: top;\n",
       "    }\n",
       "\n",
       "    .dataframe thead th {\n",
       "        text-align: right;\n",
       "    }\n",
       "</style>\n",
       "<table border=\"1\" class=\"dataframe\">\n",
       "  <thead>\n",
       "    <tr style=\"text-align: right;\">\n",
       "      <th></th>\n",
       "      <th>ID</th>\n",
       "      <th>content</th>\n",
       "      <th>summarize</th>\n",
       "    </tr>\n",
       "  </thead>\n",
       "  <tbody>\n",
       "    <tr>\n",
       "      <th>0</th>\n",
       "      <td>145522785</td>\n",
       "      <td>EMENT\\nADMINISTRATIVE. COMPETITION POLICY CONF...</td>\n",
       "      <td>Gulliver explains the conflict between the Fed...</td>\n",
       "    </tr>\n",
       "    <tr>\n",
       "      <th>1</th>\n",
       "      <td>145501377</td>\n",
       "      <td>DECISION &gt; It is treated of habeas corpus impe...</td>\n",
       "      <td>the court decides that it is proper for Valter...</td>\n",
       "    </tr>\n",
       "    <tr>\n",
       "      <th>2</th>\n",
       "      <td>145496750</td>\n",
       "      <td>DECISION&lt;br&gt; It is considered a special appeal...</td>\n",
       "      <td>In this special appeal, the Appellate Court co...</td>\n",
       "    </tr>\n",
       "    <tr>\n",
       "      <th>3</th>\n",
       "      <td>146037675</td>\n",
       "      <td>DECISION&lt;br&gt; It is considered an ordinary appe...</td>\n",
       "      <td>the author defends an ordinary appeal brought ...</td>\n",
       "    </tr>\n",
       "    <tr>\n",
       "      <th>4</th>\n",
       "      <td>145049719</td>\n",
       "      <td>DECISION&lt;br&gt; It is treated of habeas corpus im...</td>\n",
       "      <td>Gulliver defends Oscarino's recognition of him...</td>\n",
       "    </tr>\n",
       "    <tr>\n",
       "      <th>...</th>\n",
       "      <td>...</td>\n",
       "      <td>...</td>\n",
       "      <td>...</td>\n",
       "    </tr>\n",
       "    <tr>\n",
       "      <th>267</th>\n",
       "      <td>145633556</td>\n",
       "      <td>DECISION is dealt with by the STATE OF SÃO PAU...</td>\n",
       "      <td>Gulliver argues that the State's decision to d...</td>\n",
       "    </tr>\n",
       "    <tr>\n",
       "      <th>268</th>\n",
       "      <td>143697533</td>\n",
       "      <td>DECISION&lt;br&gt; This is the case of the Court of ...</td>\n",
       "      <td>Gulliver defends the use of photographs as evi...</td>\n",
       "    </tr>\n",
       "    <tr>\n",
       "      <th>269</th>\n",
       "      <td>145050021</td>\n",
       "      <td>DECISION&lt;br&gt; This is the case of a misconduct ...</td>\n",
       "      <td>This paper focuses on the case of Elenice Mari...</td>\n",
       "    </tr>\n",
       "    <tr>\n",
       "      <th>270</th>\n",
       "      <td>145717143</td>\n",
       "      <td>DECISION&lt;br&gt;1. Take care of agravo interposed ...</td>\n",
       "      <td>In this case, it is sufficient to prove that t...</td>\n",
       "    </tr>\n",
       "    <tr>\n",
       "      <th>271</th>\n",
       "      <td>145495303</td>\n",
       "      <td>DECISION&lt;br&gt;1. Take care of agravo interposed ...</td>\n",
       "      <td>the court decides that a special appeal must b...</td>\n",
       "    </tr>\n",
       "  </tbody>\n",
       "</table>\n",
       "<p>272 rows × 3 columns</p>\n",
       "</div>"
      ],
      "text/plain": [
       "            ID                                            content  \\\n",
       "0    145522785  EMENT\\nADMINISTRATIVE. COMPETITION POLICY CONF...   \n",
       "1    145501377  DECISION > It is treated of habeas corpus impe...   \n",
       "2    145496750  DECISION<br> It is considered a special appeal...   \n",
       "3    146037675  DECISION<br> It is considered an ordinary appe...   \n",
       "4    145049719  DECISION<br> It is treated of habeas corpus im...   \n",
       "..         ...                                                ...   \n",
       "267  145633556  DECISION is dealt with by the STATE OF SÃO PAU...   \n",
       "268  143697533  DECISION<br> This is the case of the Court of ...   \n",
       "269  145050021  DECISION<br> This is the case of a misconduct ...   \n",
       "270  145717143  DECISION<br>1. Take care of agravo interposed ...   \n",
       "271  145495303  DECISION<br>1. Take care of agravo interposed ...   \n",
       "\n",
       "                                             summarize  \n",
       "0    Gulliver explains the conflict between the Fed...  \n",
       "1    the court decides that it is proper for Valter...  \n",
       "2    In this special appeal, the Appellate Court co...  \n",
       "3    the author defends an ordinary appeal brought ...  \n",
       "4    Gulliver defends Oscarino's recognition of him...  \n",
       "..                                                 ...  \n",
       "267  Gulliver argues that the State's decision to d...  \n",
       "268  Gulliver defends the use of photographs as evi...  \n",
       "269  This paper focuses on the case of Elenice Mari...  \n",
       "270  In this case, it is sufficient to prove that t...  \n",
       "271  the court decides that a special appeal must b...  \n",
       "\n",
       "[272 rows x 3 columns]"
      ]
     },
     "execution_count": 3,
     "metadata": {},
     "output_type": "execute_result"
    }
   ],
   "source": [
    "decisions_description = con.execute(\"SELECT * FROM decisions_description\").df()\n",
    "decisions_description"
   ]
  },
  {
   "cell_type": "code",
   "execution_count": null,
   "metadata": {},
   "outputs": [],
   "source": [
    "#import spacy\n",
    "#nlp = spacy.load('pt_core_news_lg')"
   ]
  },
  {
   "cell_type": "code",
   "execution_count": 6,
   "metadata": {},
   "outputs": [],
   "source": [
    "inputs = tokenizer(\"the court decides that it is proper for Valter\", return_tensors=\"pt\")\n",
    "outputs = model(**inputs)"
   ]
  },
  {
   "cell_type": "code",
   "execution_count": 7,
   "metadata": {},
   "outputs": [
    {
     "data": {
      "text/plain": [
       "torch.Size([12, 768])"
      ]
     },
     "execution_count": 7,
     "metadata": {},
     "output_type": "execute_result"
    }
   ],
   "source": [
    "outputs.last_hidden_state[0].shape"
   ]
  },
  {
   "cell_type": "code",
   "execution_count": 10,
   "metadata": {},
   "outputs": [
    {
     "data": {
      "text/plain": [
       "torch.Size([9216])"
      ]
     },
     "execution_count": 10,
     "metadata": {},
     "output_type": "execute_result"
    }
   ],
   "source": [
    "vetor_achatado = outputs.last_hidden_state[0].flatten()\n",
    "vetor_achatado.shape"
   ]
  },
  {
   "cell_type": "code",
   "execution_count": 11,
   "metadata": {},
   "outputs": [
    {
     "data": {
      "text/plain": [
       "torch.Size([12, 768])"
      ]
     },
     "execution_count": 11,
     "metadata": {},
     "output_type": "execute_result"
    }
   ],
   "source": [
    "vetor_original = vetor_achatado.reshape(-1, 768)\n",
    "vetor_original.shape"
   ]
  },
  {
   "cell_type": "code",
   "execution_count": null,
   "metadata": {},
   "outputs": [],
   "source": [
    "con.execute(\"CREATE TABLE embedding(id INT UNIQUE PRIMARY KEY, data FLOAT8[]);\")"
   ]
  },
  {
   "cell_type": "code",
   "execution_count": null,
   "metadata": {},
   "outputs": [],
   "source": [
    "for index, content in tqdm(enumerate(decisions_description[\"summarize\"]), total=decisions_description[\"ID\"].size):  \n",
    "  inputs = tokenizer(content, return_tensors=\"pt\")\n",
    "  outputs = model(**inputs)\n",
    "\n",
    "  vetor = outputs.last_hidden_state[0].flatten().detach().numpy()\n",
    "  con.execute('INSERT INTO embedding (id,data) VALUES (?,?)', (int(decisions_description[\"ID\"][index]),vetor))\n",
    "\n",
    "con.commit()"
   ]
  },
  {
   "cell_type": "code",
   "execution_count": 11,
   "metadata": {},
   "outputs": [
    {
     "data": {
      "text/plain": [
       "<duckdb.duckdb.DuckDBPyConnection at 0x7f616b52fe30>"
      ]
     },
     "execution_count": 11,
     "metadata": {},
     "output_type": "execute_result"
    }
   ],
   "source": [
    "con.execute(\"\"\"\n",
    "CREATE TABLE embedding_norm(\n",
    "    id INT UNIQUE REFERENCES embedding(id),\n",
    "    norm FLOAT8\n",
    ");\n",
    "\"\"\")\n",
    "con.execute(\"CREATE INDEX embedding_norm_index ON embedding_norm (norm);\")"
   ]
  },
  {
   "cell_type": "code",
   "execution_count": 10,
   "metadata": {},
   "outputs": [
    {
     "data": {
      "text/plain": [
       "<duckdb.duckdb.DuckDBPyConnection at 0x7f616b52fe30>"
      ]
     },
     "execution_count": 10,
     "metadata": {},
     "output_type": "execute_result"
    }
   ],
   "source": [
    "con.execute(\"drop table embedding_norm\")"
   ]
  },
  {
   "cell_type": "code",
   "execution_count": 16,
   "metadata": {},
   "outputs": [
    {
     "data": {
      "text/html": [
       "<div>\n",
       "<style scoped>\n",
       "    .dataframe tbody tr th:only-of-type {\n",
       "        vertical-align: middle;\n",
       "    }\n",
       "\n",
       "    .dataframe tbody tr th {\n",
       "        vertical-align: top;\n",
       "    }\n",
       "\n",
       "    .dataframe thead th {\n",
       "        text-align: right;\n",
       "    }\n",
       "</style>\n",
       "<table border=\"1\" class=\"dataframe\">\n",
       "  <thead>\n",
       "    <tr style=\"text-align: right;\">\n",
       "      <th></th>\n",
       "      <th>id</th>\n",
       "      <th>norm</th>\n",
       "    </tr>\n",
       "  </thead>\n",
       "  <tbody>\n",
       "    <tr>\n",
       "      <th>0</th>\n",
       "      <td>145613114</td>\n",
       "      <td>143.773278</td>\n",
       "    </tr>\n",
       "    <tr>\n",
       "      <th>1</th>\n",
       "      <td>146031494</td>\n",
       "      <td>193.246068</td>\n",
       "    </tr>\n",
       "    <tr>\n",
       "      <th>2</th>\n",
       "      <td>144239525</td>\n",
       "      <td>108.100366</td>\n",
       "    </tr>\n",
       "    <tr>\n",
       "      <th>3</th>\n",
       "      <td>145185793</td>\n",
       "      <td>167.892896</td>\n",
       "    </tr>\n",
       "    <tr>\n",
       "      <th>4</th>\n",
       "      <td>145522785</td>\n",
       "      <td>365.619710</td>\n",
       "    </tr>\n",
       "    <tr>\n",
       "      <th>...</th>\n",
       "      <td>...</td>\n",
       "      <td>...</td>\n",
       "    </tr>\n",
       "    <tr>\n",
       "      <th>267</th>\n",
       "      <td>145613136</td>\n",
       "      <td>219.633012</td>\n",
       "    </tr>\n",
       "    <tr>\n",
       "      <th>268</th>\n",
       "      <td>146030861</td>\n",
       "      <td>145.658971</td>\n",
       "    </tr>\n",
       "    <tr>\n",
       "      <th>269</th>\n",
       "      <td>145089879</td>\n",
       "      <td>185.467047</td>\n",
       "    </tr>\n",
       "    <tr>\n",
       "      <th>270</th>\n",
       "      <td>143130016</td>\n",
       "      <td>114.084902</td>\n",
       "    </tr>\n",
       "    <tr>\n",
       "      <th>271</th>\n",
       "      <td>145634044</td>\n",
       "      <td>170.259154</td>\n",
       "    </tr>\n",
       "  </tbody>\n",
       "</table>\n",
       "<p>272 rows × 2 columns</p>\n",
       "</div>"
      ],
      "text/plain": [
       "            id        norm\n",
       "0    145613114  143.773278\n",
       "1    146031494  193.246068\n",
       "2    144239525  108.100366\n",
       "3    145185793  167.892896\n",
       "4    145522785  365.619710\n",
       "..         ...         ...\n",
       "267  145613136  219.633012\n",
       "268  146030861  145.658971\n",
       "269  145089879  185.467047\n",
       "270  143130016  114.084902\n",
       "271  145634044  170.259154\n",
       "\n",
       "[272 rows x 2 columns]"
      ]
     },
     "execution_count": 16,
     "metadata": {},
     "output_type": "execute_result"
    }
   ],
   "source": [
    "con.execute(\"SELECT * FROM embedding_norm\").df()"
   ]
  },
  {
   "cell_type": "code",
   "execution_count": 13,
   "metadata": {},
   "outputs": [
    {
     "data": {
      "application/vnd.jupyter.widget-view+json": {
       "model_id": "81820493fbc44b5a927f1ad1f6b8724e",
       "version_major": 2,
       "version_minor": 0
      },
      "text/plain": [
       "FloatProgress(value=0.0, layout=Layout(width='auto'), style=ProgressStyle(bar_color='black'))"
      ]
     },
     "metadata": {},
     "output_type": "display_data"
    },
    {
     "data": {
      "text/plain": [
       "<duckdb.duckdb.DuckDBPyConnection at 0x7f616b52fe30>"
      ]
     },
     "execution_count": 13,
     "metadata": {},
     "output_type": "execute_result"
    }
   ],
   "source": [
    "con.execute(\"\"\"\n",
    "WITH norms AS (\n",
    "    SELECT \n",
    "        id,\n",
    "        SQRT(SUM(POWER(val, 2))) AS norm\n",
    "    FROM \n",
    "    (\n",
    "        SELECT\n",
    "            id,\n",
    "            UNNEST(data) AS val\n",
    "        FROM \n",
    "            embedding\n",
    "    ) AS subquery\n",
    "    GROUP BY id\n",
    ")\n",
    "            \n",
    "INSERT INTO embedding_norm (id, norm)\n",
    "SELECT DISTINCT id, norm\n",
    "FROM norms;\n",
    "\"\"\")\n",
    "con.commit()"
   ]
  },
  {
   "cell_type": "code",
   "execution_count": 15,
   "metadata": {},
   "outputs": [
    {
     "data": {
      "application/vnd.jupyter.widget-view+json": {
       "model_id": "6a45f42743884779ad7b184b0ccd9a66",
       "version_major": 2,
       "version_minor": 0
      },
      "text/plain": [
       "FloatProgress(value=0.0, layout=Layout(width='auto'), style=ProgressStyle(bar_color='black'))"
      ]
     },
     "metadata": {},
     "output_type": "display_data"
    },
    {
     "data": {
      "text/html": [
       "<div>\n",
       "<style scoped>\n",
       "    .dataframe tbody tr th:only-of-type {\n",
       "        vertical-align: middle;\n",
       "    }\n",
       "\n",
       "    .dataframe tbody tr th {\n",
       "        vertical-align: top;\n",
       "    }\n",
       "\n",
       "    .dataframe thead th {\n",
       "        text-align: right;\n",
       "    }\n",
       "</style>\n",
       "<table border=\"1\" class=\"dataframe\">\n",
       "  <thead>\n",
       "    <tr style=\"text-align: right;\">\n",
       "      <th></th>\n",
       "      <th>idA</th>\n",
       "      <th>idB</th>\n",
       "      <th>cosine_similarity</th>\n",
       "    </tr>\n",
       "  </thead>\n",
       "  <tbody>\n",
       "    <tr>\n",
       "      <th>0</th>\n",
       "      <td>145050015</td>\n",
       "      <td>145495279</td>\n",
       "      <td>1.0</td>\n",
       "    </tr>\n",
       "    <tr>\n",
       "      <th>1</th>\n",
       "      <td>145049719</td>\n",
       "      <td>146029836</td>\n",
       "      <td>1.0</td>\n",
       "    </tr>\n",
       "    <tr>\n",
       "      <th>2</th>\n",
       "      <td>145259043</td>\n",
       "      <td>145613118</td>\n",
       "      <td>1.0</td>\n",
       "    </tr>\n",
       "  </tbody>\n",
       "</table>\n",
       "</div>"
      ],
      "text/plain": [
       "         idA        idB  cosine_similarity\n",
       "0  145050015  145495279                1.0\n",
       "1  145049719  146029836                1.0\n",
       "2  145259043  145613118                1.0"
      ]
     },
     "execution_count": 15,
     "metadata": {},
     "output_type": "execute_result"
    }
   ],
   "source": [
    "con.execute(\"\"\"\n",
    "WITH DotProducts AS (\n",
    "    WITH expanded AS (\n",
    "        WITH norm_prox AS (\n",
    "          (SELECT id, norm\n",
    "          FROM embedding_norm\n",
    "          WHERE norm < 42\n",
    "          ORDER BY norm DESC\n",
    "          LIMIT 128)\n",
    "\n",
    "          UNION ALL\n",
    "\n",
    "          (SELECT id, norm\n",
    "          FROM embedding_norm\n",
    "          WHERE norm > 42\n",
    "          ORDER BY norm ASC\n",
    "          LIMIT 128)\n",
    "        )\n",
    "        SELECT\n",
    "            a.id AS idA,\n",
    "            b.id AS idB,\n",
    "            unnest(a_data.data) AS a_data,\n",
    "            unnest(b_data.data) AS b_data\n",
    "        FROM\n",
    "            norm_prox a\n",
    "        INNER JOIN\n",
    "            norm_prox b ON a.id < b.id\n",
    "        JOIN embedding a_data ON a.id = a_data.id\n",
    "        JOIN embedding b_data ON b.id = b_data.id\n",
    "    )\n",
    "    SELECT\n",
    "        idA,\n",
    "        idB,\n",
    "        sum(a_data * b_data) AS dot_product\n",
    "    FROM\n",
    "        expanded\n",
    "    GROUP BY\n",
    "        idA, idB\n",
    "),\n",
    "CosineSimilarities AS (\n",
    "    SELECT \n",
    "        d.idA,\n",
    "        d.idB,\n",
    "        CASE \n",
    "            WHEN n1.norm = 0 OR n2.norm = 0 THEN 0\n",
    "            ELSE d.dot_product / (n1.norm * n2.norm)\n",
    "        END AS cosine_similarity            \n",
    "    FROM \n",
    "        DotProducts d\n",
    "    JOIN \n",
    "        embedding_norm n1 ON d.idA = n1.id\n",
    "    JOIN \n",
    "        embedding_norm n2 ON d.idB = n2.id\n",
    "    WHERE \n",
    "        d.idA < d.idB\n",
    ")\n",
    "SELECT \n",
    "    idA,\n",
    "    idB,\n",
    "    cosine_similarity\n",
    "FROM \n",
    "    CosineSimilarities\n",
    "WHERE \n",
    "    cosine_similarity > 0.7;\n",
    "\"\"\").df()"
   ]
  },
  {
   "cell_type": "code",
   "execution_count": 17,
   "metadata": {},
   "outputs": [],
   "source": [
    "con.close()"
   ]
  }
 ],
 "metadata": {
  "kernelspec": {
   "display_name": "py",
   "language": "python",
   "name": "python3"
  },
  "language_info": {
   "codemirror_mode": {
    "name": "ipython",
    "version": 3
   },
   "file_extension": ".py",
   "mimetype": "text/x-python",
   "name": "python",
   "nbconvert_exporter": "python",
   "pygments_lexer": "ipython3",
   "version": "3.8.18"
  },
  "orig_nbformat": 4
 },
 "nbformat": 4,
 "nbformat_minor": 2
}

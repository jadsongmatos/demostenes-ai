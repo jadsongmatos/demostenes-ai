{
 "cells": [
  {
   "cell_type": "code",
   "execution_count": 1,
   "metadata": {},
   "outputs": [
    {
     "name": "stderr",
     "output_type": "stream",
     "text": [
      "2023-09-26 23:40:50.438229: I tensorflow/core/platform/cpu_feature_guard.cc:182] This TensorFlow binary is optimized to use available CPU instructions in performance-critical operations.\n",
      "To enable the following instructions: SSE4.1 SSE4.2 AVX FMA, in other operations, rebuild TensorFlow with the appropriate compiler flags.\n"
     ]
    }
   ],
   "source": [
    "import duckdb\n",
    "import numpy as np\n",
    "from transformers import  DistilBertModel, BigBirdModel, BigBirdTokenizerFast , DistilBertTokenizerFast\n",
    "from langchain.text_splitter import RecursiveCharacterTextSplitter"
   ]
  },
  {
   "cell_type": "code",
   "execution_count": 2,
   "metadata": {},
   "outputs": [],
   "source": [
    "con = duckdb.connect(database='jus.duckdb', read_only=False)"
   ]
  },
  {
   "cell_type": "code",
   "execution_count": 3,
   "metadata": {},
   "outputs": [
    {
     "ename": "CatalogException",
     "evalue": "Catalog Error: Table with name \"decisions_vector\" already exists!",
     "output_type": "error",
     "traceback": [
      "\u001b[0;31m---------------------------------------------------------------------------\u001b[0m",
      "\u001b[0;31mCatalogException\u001b[0m                          Traceback (most recent call last)",
      "\u001b[1;32m/home/jadson/Documentos/jus-ai/bert.ipynb Cell 3\u001b[0m line \u001b[0;36m2\n\u001b[1;32m      <a href='vscode-notebook-cell:/home/jadson/Documentos/jus-ai/bert.ipynb#W2sZmlsZQ%3D%3D?line=0'>1</a>\u001b[0m \u001b[39m# tabela de texto dos juiz\u001b[39;00m\n\u001b[0;32m----> <a href='vscode-notebook-cell:/home/jadson/Documentos/jus-ai/bert.ipynb#W2sZmlsZQ%3D%3D?line=1'>2</a>\u001b[0m con\u001b[39m.\u001b[39;49mexecute(\u001b[39m\"\"\"\u001b[39;49m\n\u001b[1;32m      <a href='vscode-notebook-cell:/home/jadson/Documentos/jus-ai/bert.ipynb#W2sZmlsZQ%3D%3D?line=2'>3</a>\u001b[0m \u001b[39m  CREATE TABLE decisions_vector (\u001b[39;49m\n\u001b[1;32m      <a href='vscode-notebook-cell:/home/jadson/Documentos/jus-ai/bert.ipynb#W2sZmlsZQ%3D%3D?line=3'>4</a>\u001b[0m \u001b[39m    ID INT PRIMARY KEY,\u001b[39;49m\n\u001b[1;32m      <a href='vscode-notebook-cell:/home/jadson/Documentos/jus-ai/bert.ipynb#W2sZmlsZQ%3D%3D?line=4'>5</a>\u001b[0m \u001b[39m    content TEXT,\u001b[39;49m\n\u001b[1;32m      <a href='vscode-notebook-cell:/home/jadson/Documentos/jus-ai/bert.ipynb#W2sZmlsZQ%3D%3D?line=5'>6</a>\u001b[0m \u001b[39m  );\u001b[39;49m\n\u001b[1;32m      <a href='vscode-notebook-cell:/home/jadson/Documentos/jus-ai/bert.ipynb#W2sZmlsZQ%3D%3D?line=6'>7</a>\u001b[0m \u001b[39m\"\"\"\u001b[39;49m)\n",
      "\u001b[0;31mCatalogException\u001b[0m: Catalog Error: Table with name \"decisions_vector\" already exists!"
     ]
    }
   ],
   "source": [
    "# tabela de texto dos juiz\n",
    "con.execute(\"\"\"\n",
    "  CREATE TABLE decisions_vector (\n",
    "    ID INT PRIMARY KEY,\n",
    "    content TEXT,\n",
    "  );\n",
    "\"\"\")"
   ]
  },
  {
   "cell_type": "code",
   "execution_count": null,
   "metadata": {},
   "outputs": [],
   "source": [
    "concedendo_label = 1\n",
    "negando_label = 0"
   ]
  },
  {
   "cell_type": "code",
   "execution_count": 4,
   "metadata": {},
   "outputs": [],
   "source": [
    "data = con.execute(\"SELECT * FROM decisions_description\").fetchnumpy()"
   ]
  },
  {
   "cell_type": "code",
   "execution_count": 5,
   "metadata": {},
   "outputs": [
    {
     "data": {
      "text/plain": [
       "array([121184492, 122027196, 123312824, ..., 145089835, 145511648,\n",
       "       145508379], dtype=int32)"
      ]
     },
     "execution_count": 5,
     "metadata": {},
     "output_type": "execute_result"
    }
   ],
   "source": [
    "data[\"ID\"]"
   ]
  },
  {
   "cell_type": "code",
   "execution_count": 6,
   "metadata": {},
   "outputs": [
    {
     "data": {
      "text/plain": [
       "array(['DECISION > It is treated of habeas corpus impetrado for the benefit of Valter de Oliveira Albano - fulfilling penalty in the Center for Resocialization of Lins/SP, currently in closed regime, with the end of the sentence provided for 19/3/2027 -, pointing itself as coactor body maintaining the Court of Justice of São Paulo, which ordered the HC no. 21346-19-77.20 The judgment has this issue (f. 82):<br>HABEAS CORPUS - CRIMINAL EXECUTION - Impetration aiming at granting home imprisonment by integrating risk group, carrier of hypertension - Impossibility - Absence of cabal proof that the prison unit that houses it does not have adequate structure to keep it, nor to offer it,47 if necessary, the appropriate treatment Recommendation No 62 of the CNJ which has no binding character - Implementation of measures To contain the spread of the disease in prison units - Sentenced to serve a closed sentence, which is why it does not fall within the taxable hypotheses provided for in Art. 117 of the Criminal Execution Law - No unlawful constraint - Denyed order.<br> In this Superior Court, the State Public Defender is, in summary, granted the injunction and, at the end, the order of habeas corpus to defer home imprisonment or early exit to the patient, based on the arts. 1st, caput and p. single, incise I, and 5th, incise I, b, final part, both of Recommendation No 62/2020, of the CNJ, and Arts. 1st, III (p. of the dignity of the human person), and 5th, XXXV (p. of the judicial inadequacy), of the CF (f. 12). As we know, the World Health Organization recognized that the outbreak of the new coronavirus (2019-nCov) constitutes a Public Health Emergency of International Importance (ESPII), on January 30, 2020 and, on March 11, 2020, characterized it as pandemic, being necessary the special look for people who fall into the risk group and, above all, the people who are infected with enough disease. * Thus, those with chronic respiratory diseases, diabetes, chronic heart disease, people with HIV, hypertension, people with chronic kidney failure, cancer or other diseases that weaken the immune system are even more exposed to the dangers of the disease and must be the priority target of policies aimed at mitigating the effects of pan<demia, as the Court of Justice of São Paulo acknowledged by Provence n. 2545/2020 of the Superior Council. That is the situation of the person arrested, the other applicant. In addition to the low self-immunity of persons arrested is the lack of adequate food, difficulty in the dispensing of medicine, little or no medical follow-up, poor conditions of housing of the cells and common prison sites, lack of bath water heating and restriction of access to basic hygiene and cleaning material, inherent in the Brazilian prison system. * This framework makes it essential for the release of these people, under penalty of condemning them to death in the prison system, which is obviously sealed by the Federal Constitution. In fact, the Court of Justice of São Paulo itself edited, through the Superior Council of the Magistrature, the provision No. 2546/2020, determining the release of adolescents who fall within these groups, recognizing the need for emptying to the maximum of the units that cost people. > The correct determination must, with greater reason, be applied to the prison system, because the conditions of the prisons are incomparably worse than those found in the CASA Foundation. In this sense, including Recommendation No 62/2020, of the National Council of Justice:<br> .. <br> Therefore, the well-known and demonstrated precariousness of prison facilities and their inadequacy to the needs of hygiene and health to prevent contamination and dissemination of the disease demonstrate the disproportionality of the prison, and cause the prison to extract the constitutional limits of the intervention XLart. <br> .. <br>Logo, the applicant\\'s home arrest must be granted.<br>À fl 99, so I crashed:<br> Before making any decision in this writ, we request information to the Judgement of the 1st Criminal Court of the Lins/SP District, within 72 hours, as to the alleged in the initial, as well as requesting, to the prison establishment where the patient Valter de Oliveira Albano is segregated, the following information: 1) its current health status, especially if it is inserted in the risk group described in the National Recommendation n. 62/20 The request must be accompanied by a copy of the petition of fls. 3/12.<br>After, the autos are returned.<br> On 14/9/2020, the Law of the 1st Criminal Court of the Lins/SP District has provided this information (fls. 201/202 - our purpose):<br> .. <br> . The patient Valter de Oliveira Albano is serving at the Lins Resocialization Center, currently under closed regime, with the end of fulfillment of the sentence scheduled for 19/3/2027.<br> The patient, with a request for conversion of regime, from the closed to home imprisonment, in accordance with Article 318, II, of the Code of Criminal Procedure and Provence 62 of the CN-19, in the face of the new wave of contamination by CObr>VIDV. The Public Prosecutor opined that the request was rejected. * By decision of 3/6/2020, the application was dismissed, for the absence of legal requirements. This happened because the patient did not prove the alleged fragilized immune system, due to severe arterial hypertension. And, on the other hand, the Lins Resocialization Center has satisfactory medical care and good hygiene conditions, and there is no news that there is contamination by COVID-19 in the prison unit; besides the patient is 41 years old.<br> I also emphasize that the patient had already entered with another request, through constituted lawyer, aiming at the granting of house arrest, which was registered under no. 1001702-70.20208.26.0322. In this case, by decision of 27/5/2020, the request was rejected, also because of the absence of legal requirements; because the patient did not prove to be extremely debilitated because of serious illness; because the patient did not prove to take more risk of contamination by the IOC-19 within the prison unit than was inserted in the social environment, since the risk is general and for all; and because the sentence is stuck in place that does not fall. The Court of Justice of São Paulo for assessment in 23/7/207/. In summary cognition judgment, it appears inviable to accept the pretension, because the alleged constraint is not presented with the sharpness impressed in the initial, especially because theinstance of origin mentioned that the patient did not compromise the alleged fragilized immune system, as a result of severe arterial hypertension. And, on the other hand, the Lins Resocialization Center has satisfactory medical care and good hygiene conditions, and there is no news that there is contamination by COVID-19 in the prison unit; in addition to the patient having 41 years of age(fls. 201/202 - our griffin). Apart from this, the persecuted precautionary providence is unquestionably satisfying for its definitive effects, at the time of its duration, necessarily resulting from the deconstitution of the effectiveness of the contested act, implying its acceptance usurpation of the competence of the collegiate body, prohibited from the Rapporteur. Such the context, I prudently reserve the definitive pronouncement for the appropriate time.<br> I therefore urge the injunction. * the Federal Public Ministry (f. 213/226), the Federal Prosecutor’s Office (Federal Public Ministry) noted the lack of knowledge of the habrbeas corpus. The irresignation does not deserve to prosper. * To the pleas in the injunction, I add these words of the Deputy General of the Republic Raquel Elias Ferreira Dodge, which, by the accuracy and clarity of the explicit elements and by being in perfect harmony with the jurisprudential orientation of this Superior Court, also adopted as a reason to decide (fls. 230/231- our prerogative):<br> . <br> According to the recent National Recommendation No. 62/20 Let\\'s see:<br> .. Art. 5. Recommend to magistrates competently on the criminal execution which, with a view to the reduction of epidemiological risks and in compliance with the local context of the spread of the virus, consider the following measures:<br> .. <br>III - grant of house arrest in relation to all persons arrested in compliance with penalty in open and semi-open regime, subject to conditions to be defined by the execution judge-19;br< According to the information provided by the Court of origin, the Lins Resocialization Center has satisfactory medical assistance and good hygiene conditions, and there is no news that there is communication by the IOC-19 in the prison unit. In addition, the patient is young, aged 41, not in the age range of risk. It should be noted that the above-mentioned Health Recommendation depends on each specific case and cannot be deferred in order to aggravate public safety, according to the CNJ. There is therefore the need for the judge to consider between these two legal goods (right to health and public safety) in the specific case. * At the point, the weightings of Minister Rogerio Schietti are relevant: \"the crisis of the new coronavirus must always be taken into account in the analysis of the claims of release of prisoners, but, inevidently, it is not a free pass for the release of all, because the right of the collective to see preserved social peace, which does not fall apart from the idea that the system of criminal justice is to be effective, of collective conduct.\" The same opportune direction also mentions these precedents: AgRg no HC no. 701.582/SP, Minister Reynaldo Soares da Fonseca, Quinta Turma, DJe 12/11/2021; AgRg no HC no. 696.422/MS, Minister Rogerio Schietti Cruz, Friday 2020 Publish yourself.<br>EMENT<br>HABEAS CORPUS. PENAL EXECUTION. SAFETY REGIME. PLEITO DEPRISÃO DOMICILIAR. CONTAGIO RISCO. _ RECOMMENDATION N. 62/2020 OF THE CNJ. AUSENCE OF DEBILITY COMPROVATION IN THE HEALTH STATE OR MEDICAL IMPOSSIBILITY IN THE PRISIONAL UNITY. _ ILEGAL CONSTRUCTION NOT EVIDENTED.<br> Order dismissed.',\n",
       "       \"DECISION<br> It is considered a special appeal brought by CCX IMOBILIARY INPREENDATIONS LTDA on the basis of Article 105(a and c of incise III of the Federal Constitution, challenging the judgment delivered by the Court of Justice of the State of Santa Catarina, thus emented (e-STJ, p. 339):<br> CIBLE REPORT. CONTRACT RESOLUTION _ _ _ REQUERIDA RECOURSE. _ RECOGNIZATION OF THE ABUSIVITY OF CLÁUSULA ON THE PROROGATION OF THE PRAZY OF ENTIRE WITHOUT SPECIFIC DATA. NO COMPETITION. LOGIC-SYSTEMATIC INTERPRETATION OF INICIAL PETITION. AUSENCE OF TRANSGRESSION TO THE PRINCIPLE OF ADSTRITION OR CONGRUENCE. PRECEDENTES OF THE COURT OF JUSTICE. CONSUMER DEFENS CODE APPLICATION. ACHIEVEMENT OF THE IMPORTANT WITH THE ONLY PROPOSAL OF INVESTMENT INAPTED TO DENATURAL THE CONDITION OF VULNERABILITY OF COMPRANT PROMISSIONALSHABITUALITY. OR PROFESSIONAL ASPIRATION. TECHNICAL HIPOSSUFFICIENCY TO THE CHARACTERISTICS OF INCORPORATION. INVERSION OF THE OWN OF THE ACERTED PROVISION. CONTRACTUAL INADIMPLEMENT. MORA ATRIBUTED TO THE OCORRENCE OF CHUVAS FORTES AND THE DECAPITAL ESCASSE ANSWER THE ECONOMIC CRISE. INSUBSISTENCE. PREVISIBLE FACTS TO ACTIVITY AND THE DONEGE RISCO. Cage PRECEDENTES. AUSENCE of INCORPORATION REGISTRY TO THE DATE OF THE PUBLIC OFFER AND SUBSCRIPTION OF THE PARTICULAR INSTRUMENT. CONDENATION TO THE EQUIVALENT MULTA PAYMENT 50%(CINQUENT BY CENT) VALORES RECEBIDOS. EXEGESE OF ARTS. 32 And 35, CAPUT, §§ 4 and 5 of LEI No. 4.591/1964. _ _ Oh, my God. Clear. PROPERTY RECURSO<br> There were no opposite declaration embargoes. * In its recursal reasons (e-STJ, fls. 356-362), the recurring party supports the existence of violations of Articles 413 of the Civil Code and 35, §§ 4 and 5 of Law No. 4.591/64, defending the possibility of equitable reduction of the percentage established under criminal clause. It also points to a jurisprudential divergence with STJ judges on the subject. (e-STJ). Admitted to the processing of the resource at source, depending on the decision of fls. 441-443 (e-STJ), the defendants ascended to this Court.<br> It is the report.<br>Decido.<br> This feature deserves to thrive.<br>1. In fact, the Court of First Instance concluded that the value of the fine applied was not possible, since the percentage is due to the legal forecast itself. (e-STJ, fl. 350):<br> Finally, the applicant seeks to reduce the value of the fine, since the absence of registration of the incorporation did not represent any prejudice to the appeals, especially because they chose to resolve the contract.<br> Thus, the situation falls within the scope of Article 4(1) of the judgment. * Although this Rapporteurship has already pointed out the possibility of equitablely reducing the level of the sanction (AC No. 0309704-47.2016.8.24.0005, deBalneário Camboriú, j. 16-4-2019), the understanding in this Fifth Chamber of Civil Law was established in the purpose that, as the index of thelegislation itself goes down to the judge exercising any valuation on thegravity of the censorship. The following judgments are cited: AC no.0329070-86.2014.8.24.0023 of Capital, Rel. Luiz Cézar Medeiros, j.10-12-2019; AC no. 0319036-18.2015.8.24.0023 of Capital, Rel< Claudia Lambert de Faria, j. 3-12-2019. CIVIL DIRECT. SPECIAL RECOURSE. INDICATION OF VIOLATE LEGAL PROVISIONS. HAPPY. SÚMULA 284/STF. PREQUESTIONATION. AUSENCE. SÚMULA 282/STF. IMOBILIARY INCORPORATION DEVER OF THE INCORPORADOR REGISTRATION INCORPORATION. 50% MULTA (CINQUENTS BY CENT) VALOR PAGO. EQUITATIVE REDUCTION, BASED IN ART. 413 CC/02. POSSIBILITY.<br>1. Action of an obligation to make, by means of which it is intended to regulate the construction and condominium before the respective real estate record, as well as the repair of material damage and the compensation of moral damage, in addition to the conviction to the payment of the fine provided for in Art. 35, § 5, of Law 4.591/64.<br>2. Action supported on 10/04/2015. Special appeal completed on 10/09/2018. Judgment: CPC/2015.<br>3. The recursal purpose is to define whether it is possible, based on Art.413 of the CC/02, the equitable reduction of the fine provided for in Art. 35, § 5, of Law 4.591/64.<br>4. The special feature cannot be known when the express indication of the violated legal device is absent.<br>5. The absence of a decision on the legal devices indicated as violates prevents the knowledge of the special feature.<br>6. The fine stipulated by Art. 35, § 5, of Law 4.591/64 is a criminal clause inserted in the contract between the incorporator and the acquirer, subjecting, therefore, to the Civil Code devices which have the limitations of the penal clause.<br>7. In the present case, there is a matter of temporal right to be sanctioned, because the fine provided for in Law 4.591/64 is prior to the provisions of the Civil Code relating to the criminal clause. Thus, the principle of the later law derogates the previous one (lex posterior derrogat priori).<br>8. In view of the fact that the recursal purpose of this appeal is solely to define the possibility of the equitable reduction of the fine provided for in special law, on the basis of Article 413 of the CC/02, it is imperative to return the self to the Court of origin so that, in the light of the understanding established in the present self, the penalty, in the concrete case, must be considered manifestly excessive, in view of the nature and purpose of the business. > 9. Special feature partially known and provided in this extension.<br>(REsp 1799881/RJ, Rel. Minister NANCY ANDRIGHI, TURMA TERCEIRA, judged on 02/04/2019, DJe 04/04/2019)<br> The similar situation already appreciated by the 4th Class of this Court:<br>RECURSO ESPECIAL. _ INOBSERVANCE. _ AUSENCE. SUMMARY 07/STJ. PRESCRITION. DECENAL PRACE. ART. SÚMULA 83/STJ. _ _ THE COMMUNITY OF ARTICLES 412 AND 413 OF CC/2002. PARCIALMENT RESOURSE PROVITED.<br>1. The alleged violation of Article 535 of the CPC is not glimpsed, since it does not characterize, by itself, omission, contradiction or obscurity the fact that the court has adopted another plea which is not defended by the party.<br>2. The revision of the fundamentals that led to the completion of the local Court, with regard to the non-setting of defense in view of the lack of oral proof, would require the examination of the fiat-probatory set, which is sealed in the special instance, according to the content of the statement of the Sumula 7/STJ.<br>3. In relation to the action aimed at civil reparation for damages arising from the non-compliance with contractual obligation, the understanding of this Superior Court is firm to be declining the prescriptional deadline, according to Article 205 of the Civil Code. Sumula 83/STJ.<br>4. The fixing of the penal clause may not be indistinct to the contractor's fault, since the legal order provides for imperative and cogent standards, which have the purpose of safeguarding the weakest part of the contract, such as Article 412 of the CC/2002. Although there is no possibility of determining the exclusion of the fine, since this would discharacterize the impositive pretension of the legislator, it is appropriate to apply the approach outlined by Art. 413 of the Civil Code, in which the equitable reduction of the amount is contemplated, if excessive, by the judge, taking into account the nature and purpose of the legal business. Special appeal partially provided.<br>(REsp 1520327/SP, Rel. Minister LUIS FELIPE SALOMÃO, QUARTA TURMA, judged on 05/05/2016, DJe 27/05/2016)<br> Accordingly, the Court’s view at the point denies the orientation established in this Superior Court on the matter, and must prosper the applicant’s irresignation to reform the judgment under appeal. * In this context, admitting the possibility of equitable reduction of the fine in the light of Article 413 of the Civil Code, it is necessary to return the right to the Court of origin so that, in the light of the understanding signed in the present selfs, the penalty, in the concrete case, must be considered manifestly excessive, in view of the nature and purpose of the business, in order to justify its reduction. <br>2. From the foregoing, on the basis of Art. 932 of the New Code of Civil Procedure c/c Súmula 568/STJ, I provide the special remedy to determine the return of the autos to the local Court, so that the same verifies whether, in the concrete case, the same amount reached manifestly excessive, given the nature and purpose of the business<.br>Publy.\",\n",
       "       'DECISION<br> It is considered an ordinary appeal in a security order brought by ELAINE CRISTINA GONCALVES VELOZA, on the basis of Article 105, II, b, of the Federal Constitution, against the v. judgment of the eg. Court of Justice of the State of São Paulo. <br>Constance of this procedural notebook which, at the origin, the recurring ora filed extraordinary usucapião action, claiming to be possessive of the integrality of the property object of the action, which was \"acquired by its grandparents on 11/06/1969, according to Private Purchase and Sales Promise Agreement\", fl. 13.br<> Still in the postulative phase, the MM Law Judge of the 2nd Public Registry Court of the Central Civil Forum of the District of São Paulo - SP determined the amendment of the initial petition, within 15 days, fls. 22-27.<br> The author, then, opposed declaration embargoes, to the argument that the \"decision determined the amendment to the initial petition in a generic way, without detailing the documents. The declaration embargoes were rejected on the grounds that \"the guerrilla decision was sufficiently clear as to the determinations necessary for the continuation of the proceeding, thus taking into account the command inserted in Article 321 of the CPC, so that it is for the part, in view of the documents already presented and of the corrections requested, to comply with the judicial command within the time indicated, not being able to speak in omission, contradiction or obscurity to ensejar the present. Inconformed with the decisum, the author held a warrant of security with an injunction request, stating that aMMa. Law Judge \"determined the amendment to the initial petition in a generic interlocutory decision of 6 (six) laudas, highlighted in 22 (twenty-two) items that indicate possible missing documents in the action of usucapião\". It held that the coatora authority supplied its liquid right and right to have a decision based on the legal determination of Article 321 of the Civil Procedure Code, which governs \"the obligation of the magistrate to accurately indicate what must be corrected or supplemented.\" The urgent measure was rejected by the plea that \"there are no clearing of the necessary requirements for the granting of the pleiterate injunction, especially in the light of the thesis in the 988 signed by the Superior Court of Justice in the systematic trial of repetitive resources, and the imminence of risk of damage to the impetant is not sufficient to comply with the relevant items of the questioned decision\", p. 33. In examining the question, the Court of Justice denies security in accordance with the judgment thus emented:<br>\"CYVEL SECURITY MARKET. Usucapião - Decision determining amendment to the Initial with 22 (twenty-two) generic content items and in part, supposedly inapplicable to the specific case Hypothesis that does not prevent the processing of the done Absence of violation of net and certain law of the Impetrante, at least in endoprocessual question - Decision maintained _ On the grounds of this ordinary security order appeal, the applicant alleges, in summary, that both the decision appointed and the act co-actor whereas the judgment under appeal \"does not observe the legal criterion determined by the Civil Procedure Code,\" p. 59.<br> Summarizes the argument in the sense that \"in accordance with Article 321 of the Civil Procedure Code, the decision determining the amendment to the initial shall accurately indicate what should be corrected. It argues that the decision of the judgment of the first degree to \"improved of joining the missing document, since there are items that even maintain relationship with the specific case of the selfs, such as free justice\". The autos amounted to this eg. Corte.<br>Insted to manifest, d. Federal Prosecutor, by the in. Sub-Procurer-General of the Republic, Dr.José Bonifácio Borges de Andrada, manifested itself by the negative action, fls. 78-81. Decide.<br> The security warrant is constitutional action directed to the protection of liquid law and certain proper of the impetrant against abusive or unlawful act of public authority or legal entity agent in the exercise of the tasks of the Public Power (CF, art. 5o, LXIX), cannot, as a rule, be used as a recursal judant. The heroic remedy has a specific procedure, provided for in Law 12,016/2009, which provides for the possibility of granting injunction. CPC rules are therefore subsidiary application. For this reason, Art. 5, II of the former Security Mandate Law (Law 1.533/51) stated that \"there will be no warrant of security when it comes to an order or judicial decision when there is a remedy provided for in the procedural laws or may be modified by means of correction\". <br> Also, the current Law of the Security Mandate (Law 12,016/2009), in its article 5, II, discipline that \"will not be granted a warrant of security when it comes to a judicial decision of which it is subject to a suspensive remedy\", and in that same sense the content of the Suffula 267/STF: \"It is not a warrant of security against judicial action that is liable to appeal or correction.\" The caselaw of the Superior Court of Justice has admitted that the judicial act contains an unlawful or teratology act, violating the right and right of the party. Check out: INTERNATIONAL DATA IN ORDINARY RESOURCES IN SECURITY MARKET. JUDICIAL ACT. PROVISIONAL PROCEDURE PROCEDURE (CPC/2015, ARTS. 381 383). _ IRRECORRIVE DECISION (CPC/2015, ART. 382, § 4). _ FOOD. _ _ CITATION POSTERIOR. POSSIBILITY (CPC/1973, ARTs. 804 And 811). DEFESA MARKET INEXISTANCE. _ MATERIAL JULGADA COISA INEXISTANCE. PRODUCATION POSSIBILITY OF OTHER PROVISIONS FOR THE INTERESTED. NULITY OF PERICIAL PROVISION. DECISION OF DISCUSSION IN THE PROCEDURE. MATERIA BEING ARGUAD IN THE PRINCIPAL ACTION. ILEGALITY MANIFEST AUSENCE OR THERATOLOGY. _ _ (b) judicial decision against which no appeal falls; Hypothesis in which the contested judicial act was rendered in an early production procedure of proof, when it was already regulated by the Code of Civil Procedure of 2015, in which it is seen that no appeal is due (CPC/2015, Art. 382, § 4o) in the procedure.3. \"For the early production of proof, dismissed injunction (art.804), no prior citation of the required is required, since the precedence in the practice of the act stems from the very nature of the injunction, and the subsequent citation is provided in Article 811 of the CPC.\" (Resp 94.579/BA, Minister RUY ROSADO DE AGUIAR, QUARTA TURMA, judged on 17/09/1996, DJ of 29/10/1996, p. 41.656).4. In accordance with the consolidated jurisprudence of this Court, \"The decision given in the precautionary action of early production of evidence is merely homologatory, which does not produce material judgment, admitting that the possible criticisms of the expert reports are carried out in the main documents, an opportunity in which the Magistrate will make the proper valuation of the evidence\" (Resp 1.191.622/MT, Minister MASSAMI UYEDA, TERCEIRA TURMA, judged on 25/10/2011, DJe of 08/11/2011.5. However, this is an irrecorable judicial decision, taking an exceptional chance of a security warrant against judicial action, there is, in the case, teratology or manifest illegality.6. Security down. (AgInt no EDcl no RMS 61.128/GO, Minister RAUL ARAÚJO, QUARTA TURMA, judged on 06/10/2020, DJe 16/10/2020, g.n.)<br> In this context, the impetration of a security warrant against judicial act, the content of the doctrine and jurisprudence, is rendered exceptional, admitting only in extraordinary hypotheses, namely: the judicial decision manifestly illegal or terbid. The exceptionality, in the hypothesis, is present in the selfs. * As reported, the security warrant, from which the present ordinary resource originates, points as a coator act to obscure determination of the MMa. Law Judge of the 2nd Registry Court Central Forum Publics Cible of the Comarca of São Paulo - SP of amendment to the original petition of extraordinary usucapião, within 15 days.<br> The eg. Court of First Instance held that the contested judgment did not infringe the net and certain rights of the complainant in accordance with the judgment thus based: This is Security Command Cible of original competence, in which, the Impetrante alleges that it assisted the \"Uucapião Action\", being that the Co-author Authority, in deliberating on the Initial determined the fulfilment of 22 (twenty-two) items for the receipt of the latter, and the regular continuation of the Done. Decision to the concrete case. The reason for the \"mandamus\", the security postulated does not comprise acceptance.<br> In which case the decision does not allow to qualify as abstract and generic, with details not clarified in the information provided to the fls. 37/38, in fact, such facts can not be analyzed with exacerbation to the point of considering violation of the net law and certain compliance with the * However, it remained uncontroversial in the Autos that some of the 22 (twenty-two) items in the Decision apply to the case, which also demonstrates the relevance as determined by the Co-author Authority. * In fact, or at least, there is no evidence of an offence to the net and certain right of the Impetrante, which would only eventually occur, in the thesis, with the determination of the fulfilment of a certain measure inapplicable to the concrete case, in a specific way, under penalty of refusal of the initial petition, a stage not yet verified in the Autos.br Thus, as exposed, \"maximum date\" of rigor the maintenance of r. decision questioned\" (fls. 48-49)<br> Ajurisprudence of the STJ, since the Buzaid Code, is in the sense that the determination of amendment to the initial petition is appropriate when it does not allow the understanding of the extent of the controversy and so that the essential document is added to the purpose of the action. * In this sense:<br>CIVIL. INTERNAL AGREEMENT IN THE SPECIAL RESOURCE. THE NCPC EGIDE. ACTIVITY OF EXIGINING ARTICLE VIOLATION ACCOUNTS 1,022 and 489 NCPC. EXISTENCY OF AUTHONOMOUS AND SUFFICENT FUNDS OF THE RECORRED JUDGMENT NOT SPECIFICATIONS IN APELO NOBRE. APPLICATION OF THE SUMMARY No. 283 OF THE MANTID STF. _ INTELLIGENCE OF ART. _ ACTIVITIES OF EXIGINTERSES PROCESSUAL PRESENT. RECALLING JURISPRUDENCIAL ENTRY IN THE SCOPE OF THE JULGADORA TURMA. INTERNAL AGREEMENT NOT PROVIDED.<br>(.)4. In the line of the STJ jurisprudence, verifying the judge that the initial petition does not meet the requirements required by Arts. 319 and 320 of the NCPC (Arts. 282 and 283 of the CPC/73) or that it presents defects and irregularities capable of hindering the merit judgment, it will determine that the author will issue or complete it. If he does not comply with the diligence, the judge will dismiss the initial petition. Precedents.<br>(.)6. Internal application not provided.<br>(AgInt no REsp 1750363/DF, Rel.Ministro MOURA RIBEIRO, TERCEIRA TURMA, DJe 16/11/2020, g.n.)<br> Regarding the theme, the Code of Civil Procedure is precedent:<br>Art. 319. the initial petition will indicate:<br>I - the judgment to which it is addressed;<br>II - the names, the prenames, the civil state, the existence of a stable union, the profession, the number of registration in the Register of Physical Persons or in the National Register of the Legal Person, the electronic address, the domicile and the residence of the author and the defendant;< If you do not have the information provided for in section II, the author may, in the initial petition, request the judge to obtain the necessary measures. The initial petition shall not be rejected if, in spite of the lack of information referred to in paragraph II, it is possible to quote the defendant. The initial petition will be instructed with the documents necessary for the purpose of the action.<br>Art. 321. The judge, when verifying that the initial petition does not meet the requirements of Arts. 319 and 320 or that it presents defects and irregularities capable of hindering the merits judgment, will determine that the author, within 15 (fifteen) days, emends or completes it, accurately indicating what should be corrected or completed. If the author does not comply with the diligence, the judge will dismiss the initial petition. * Under the aegis of the Democratic State of Law and Constitutional procedural law, the civil process serves as a tool of coherence and as indicative standard of objective rules, conducting a formally just and isonomic process, repelling subjective and variable conduct of the legal rite, stewing just decisions. The Court of First Instance is entitled to assess the presence of the conditions of action, procedural assumptions and other circumstances which enable the regular procedure to be carried out. In the event of a failure, irregularity or gap in the initial petition, the Judge shall grant a period of 15 days for the author to issue the petition or to complete it, \"indicating precisely what must be corrected or completed,\" under penalty of indeferment of the exordiale, consequently of termination of the proceedings without merit resolution, in accordance with Article 321, paragraph only c/c Article 485, incise Ibr. As we have seen from the above transcript, the legal procedural norm expressly determines the caselaw that indicates \"precisely\" i.e. accurately, clearly, objectively, clairvoyant, which should the party correct or complementary.<br> There is, therefore, a net and certain right guaranteed in the procedural law to the jurisdiction. Right as to the existence, delimited as to the extension and fit to be exercised in accordance with the law. In this way, the judicial act ordering the amendment to the initial by means of a preconceived and obscure formula, without the necessary clarity and accuracy guaranteed in law, violates that net and right law, because it should necessarily indicate clearly and accurately the vices to be sanctioned, drawing on the constitutional requirement of motivation provided for in Article 93, IX, of the CF.br> Thus, contrary to what is understood by the ordinary instances, in a process based on the collaboration, the order of amendment to the initial petition cannot have abstraction and generality contours, launched in imprecise, bureaucratic and adrede standard text written by the magistrate, without due consideration for the party to remain a specific case. Such conduct only conflicted jurisdiction and its patron, leaving aside to understand what should be sanctioned and without advancing what will come in the sequence, stewarding insecurity, imposing subjectivism to the course of the process, obligating the production of unnecessary procedural acts and establishing a riteineficial and uncertain, impossibilitying the appropriate defense of the questioned law. In the context of the modern civil proceedings, the amendment of the initial petition is the subjective right of the author, enabling corrections and complements to be adequately opportunized to the party, the principles of cooperation and the use of procedural acts, insculpted in the articles. 6o, 139<, IX, 276 and 282, in addition to the cogent rule of art. * Accordingly, there is an exceptional hypothesis, applicable to the dewrit impetration against judicial act, since the contested decision is manifestly unlawful in determining the amendment to the initial in a generic and abstract way, without accurately stating, as requested by the impetrant in its declaration embargoes, which should be done, in line with the dictates of Article 321 of the CPC/2015. In the light of the foregoing, the ordinary appeal is brought before the Court, in order to reform the judgment under appeal and grant the Pleiterate Security, so that the coator authority proceeds to the suitability of the order of amendment to the initial petition of the action of usucapio, in compliance with the dictates of Article 321 of the Civil Procedure Code. Post yourself.',\n",
       "       ...,\n",
       "       'DECISION<br> By understanding that better examination of the matter is necessary, I provide the agravo to determine its renewal as a special resource.<br> Post yourself.',\n",
       "       'DECISION<br> By understanding that better examination of the matter is necessary, I provide the agravo to determine its renewal as a special resource.<br> Post yourself.',\n",
       "       'The Court of Justice of the Court of Justice of the European Communities In this context, considering that the defendants were evacuated shortly after the practice of delitiva, to ensure the application of the criminal law and also a wrong criminal statement- which, in the conduct of the jurisdiction of the Jury, extends until the plenary session-, I impose on the pronouncements the observance of the following precautionary measures (Có20 Penal Process Code, articles 319, I, III and IV, and 320 useful). \" It is argued that, unobstant the pronunciation decision occurred in January 2014, its preclusion only occurred in July 2018, due to the interposition of successive resources in the Superior Instances by the defense of the Patient\" (f. 58).<br> The plenary session was redesigned for the day 22/09/202020, \"because it is the same date of the session of another process to which the same answer\". Unconformed,impetrouhabeas corpusna Cortea quo, who denied the order. This is the menu of the judge (f. 55):<br>\"HABEAS CORPUS. ARTICLE 121, § 2, I And IV, DO CP. PRODUCTION. IMPETRACTING THE REVOGATION OF CAUTELAR MEASURES IMPLEMENTED TO THE CAPITAL BY THE JUDGMENT \"WHERE\", ALEGATING YOUR DIANT DENECESSITY OF THE EXCESSIVE DEMORE IN THE TRAMITATION OF THE FEITE. The final judgment was presented in the judgment of the Court of Justice of the Court of Justice of the Court of Justice of the Court of Justice of the Court of Justice of the Court of Justice of the Court of Justice of the Court of Justice of the Court of Justice of the Court of Justice of the Court of Justice of the Court of Justice of the Court of Justice of the Court of Justice of the Court of Appeals * Lastly, he stressed the redesignation of the plenary session for 22/09/2020 because it was the same date of the session of another process to which it responds. * It should be noted that, although duly subpoenaed, the defence did not have to justify the failure to comply with the previously decreed measures, and its revocation was premature. It is also noteworthy that the pronunciation decision occurred in January 2014, its preclusion only occurred in July 2018, due to the interposition of successive resources in Superior Instances for the defense of the patient. * Thus, it is observed the regular processing of the done, absent inertia or desydia of the Judge said coator, pointing out that the over-term is only illegal when unjustified resulting from negligence, displicence or error of the floor judgment, which is not observed \"in casu\". Absence of the alleged unlawful constraint.<br> Order known and denigrated.<br>Irresigned, the Appellant renews in this Court the request for revocation of the various precautionary measures of the prison, since \"elapsed more than 6 (six) years since the imposition of the precautionary measures, its effect was lost, in view of excessive delay in the prosecution of the criminal action\". 2195-2198 and 2201-2218. In support of the information provided by the first-degree Magistrate to fls. 2202-2203, on 21/7/2020, a new decision on the pertinence/need to maintain the precautionary measures was terminated. * There is no news about the state Court’s subsequent statement on the defendant decisum, this Court of Justice is unable to address the issue, under penalty of inappropriate withdrawal of proceedings. By the way, mutatis mutandis:<br>\" REGIMENTAL AGREEMENT IN THE ORDINARY RESOURCE IN HABEAS CORPUS. OFFER TO THE PRINCIPLE OF COLEGIALITY. INEXISTANCE.ART. 34, XVIII, \"B\" of the RISTJ. SÚMULA 568/STJ. QUALIFICED HOMICIDE. RAZOABILITY. HEALTH MEASURES OF THE PRISON. INSTANCE SUPRESSION. REGIMENTAL AGREEMENT DEPROVED. In the case of the plea in law of several injunctions in the prison, it must be pointed out that such a matter was not assessed by the eg. Court of origin, in the judgment under appeal, which is why this Court is unable to carry out such an analysis, under penalty of undue withdrawal of proceedings. \"AgRg no RHC 152.790/PE, Minister JESUÍNO RISSATO (DESEMBARGADOR CONVOCADO DO TJDFT), QUINTA TURMA, judged on 28/09/2021, DJe 05/10/2021.)<br>No more, I stress that, carried out procedural consultation on the site of the Tribunal of the State of Rio de Janeiro, it is found in the procedural progress that was designated the date of 20/07/2022. Before the above, DO NOT KNOW the ordinary resource in habeas corpus.<br> Post yourself. Intimate yourself.<br>EMENT<br> ORDINARY ORDINARY ORDER BODIES. QUALIFICED DUPLAMENT HOMICIDE. _ SUBJECTIVE SUBSTITUTION OF THE CUSTODIA FOR ALTERNATIVE CAUTELARY MEASURES. INSURGENCE REGULATION OF CAUTELARY MEASURES SUPERIENT DECISION OF PRIMEIRO GRAU ACERCA OF THE NECESSITY AND ADEQUATION OF ALLUDIDATED MEASURES. MANIFESTATION INEXISTANCE ON THE THEME OF THE ORIGIN COURT. INSTANCE SUPRESSION. NOT KNOWLED.'],\n",
       "      dtype=object)"
      ]
     },
     "execution_count": 6,
     "metadata": {},
     "output_type": "execute_result"
    }
   ],
   "source": [
    "data[\"content\"]"
   ]
  },
  {
   "cell_type": "code",
   "execution_count": 7,
   "metadata": {},
   "outputs": [
    {
     "data": {
      "text/plain": [
       "array(['Gulliver argues that the prison system is inherently precarious because it lacks adequate food, medical care, and proper sanitation. The patient, Valter de Albano, has requested for conversion from prison to home, but the prison authorities have rejected his request due to the absence of legally required requirements. Furthermore, the patient\\'s condition is not as dire as those described in the national recommendation for release.\\nthe authorities decide to take measures against the new encephalovirus in order to reduce the risk of spread and to ensure that the population does not get sick. The authorities also decide to grant house arrest to persons arrested in accordance with the provisions of the Articles of Confederation. According to the news, the prison has good medical assistance and hygiene conditions, but there is no communication from the IoC-19 in the cell. Furthermore, the patient\\'s age is young and not in the \"age range of risk.\" This means that the authorities need to consider both the right to health and the public safety when deciding whether or not to release prisoners.',\n",
       "       'In this special appeal, a citizen appeals against the judgment of the State Court. The court has rejected the proposal to reduce the amount of the fine due to the absence of the registry of the contract. It is decided that the penalty should be reduced in accordance with the provisions of law 4.591-64, which provide for the reduction of the penalty as a result of an error in the construction or purchase of property. The purpose of the appeal is to determine whether it can be reduced by amending Article 42, Section 5 of Law 5.001-16, so as to compensate for the additional burden caused by the fact that there is no indication of the legal device violated. If the evidence does not point out the violation, the court will not know about it. Therefore, it is necessary to return the person to the court of origin because the penalty must be considered \"Manifestly excessive.\"\\nthe court argues that the penalty should be lowered in order to ensure that the contract is not in jeopardy. If the penalty is too high, it must be returned to the court.',\n",
       "       'the author defends an ordinary appeal brought by Constance Fernandes against a judgment of the Federal Court. The court has decided to amend the initial petition with twenty-two items that indicate missing documents. Constance contends that the decision made by the magistrate did not comply with the legal requirements of the Article 321 \"Circulation Procedure\" and that there are no clearer requirements for the grant of injunction since the case is so complex. However, the court does not believe that the original decision should have been modified because there are other items that maintain relationship with free justice. It also rejects the warrant of security granted by the Constitution as a means of preventing impetrants from acting as recursive judants.\\nthe author argues that the security warrant granted by the authorities to amend the initial petition within 15 days does not violate the rights of the aggrieved impetrante. Instead, the court considers the merits of the case and decides that the author must issue or complete the original petition within fifteen days. The author must also submit the necessary documents in order to meet the requirements set forth in the Constitution. If the judge does not approve the initial document, then the author will be dismissed from the proceeding. This is an important step in the civil process because it serves as \"a tool ofcoherence\" and \"as indicative standards of objective rules.\" Therefore, the Court has the right to determine whether the initial Petition meets the requirements stipulated in the Articles of Confederation. However, when the Author fails to comply with the required diligence, the Judge will dismiss the Petition.\\nPost yourself, self-effacing.',\n",
       "       ..., None, None, None], dtype=object)"
      ]
     },
     "execution_count": 7,
     "metadata": {},
     "output_type": "execute_result"
    }
   ],
   "source": [
    "data[\"summarize\"].data"
   ]
  },
  {
   "cell_type": "code",
   "execution_count": 8,
   "metadata": {},
   "outputs": [
    {
     "data": {
      "text/plain": [
       "5805"
      ]
     },
     "execution_count": 8,
     "metadata": {},
     "output_type": "execute_result"
    }
   ],
   "source": [
    "data[\"ID\"].size"
   ]
  },
  {
   "cell_type": "code",
   "execution_count": 9,
   "metadata": {},
   "outputs": [
    {
     "data": {
      "text/plain": [
       "186592"
      ]
     },
     "execution_count": 9,
     "metadata": {},
     "output_type": "execute_result"
    }
   ],
   "source": [
    "# Vamos usar numpy.vectorize para aplicar len (comprimento de string) a cada elemento do array\n",
    "len_vectorized = np.vectorize(len)\n",
    "\n",
    "# Aplicar a função vetorizada ao array de strings para obter um array de comprimentos\n",
    "array_len = len_vectorized(data[\"content\"])\n",
    "\n",
    "# Encontrar o índice do maior comprimento\n",
    "index_of_max = np.argmax(array_len)\n",
    "\n",
    "# Usar o índice para encontrar a string mais longa\n",
    "longest_str = data[\"content\"][index_of_max]\n",
    "\n",
    "len(longest_str)"
   ]
  },
  {
   "cell_type": "code",
   "execution_count": 10,
   "metadata": {},
   "outputs": [
    {
     "data": {
      "application/vnd.jupyter.widget-view+json": {
       "model_id": "f0fedbd49a6a4d8ba18113465f4f9474",
       "version_major": 2,
       "version_minor": 0
      },
      "text/plain": [
       "Downloading (…)okenizer_config.json:   0%|          | 0.00/943 [00:00<?, ?B/s]"
      ]
     },
     "metadata": {},
     "output_type": "display_data"
    },
    {
     "data": {
      "application/vnd.jupyter.widget-view+json": {
       "model_id": "4667b8096cbe4dbe8136962202a786a6",
       "version_major": 2,
       "version_minor": 0
      },
      "text/plain": [
       "Downloading spiece.model:   0%|          | 0.00/846k [00:00<?, ?B/s]"
      ]
     },
     "metadata": {},
     "output_type": "display_data"
    },
    {
     "data": {
      "application/vnd.jupyter.widget-view+json": {
       "model_id": "1c3beb7e9b694c1fbb253bd8eed88d78",
       "version_major": 2,
       "version_minor": 0
      },
      "text/plain": [
       "Downloading (…)cial_tokens_map.json:   0%|          | 0.00/775 [00:00<?, ?B/s]"
      ]
     },
     "metadata": {},
     "output_type": "display_data"
    }
   ],
   "source": [
    "tokenizer = BigBirdTokenizerFast.from_pretrained(\"google/bigbird-roberta-large\") # large\n",
    "model = BigBirdModel.from_pretrained(\"google/bigbird-roberta-large\",attention_type=\"block_sparse\")\n",
    "\n",
    "text_splitter = RecursiveCharacterTextSplitter.from_huggingface_tokenizer(\n",
    "    tokenizer, chunk_size=4096, chunk_overlap=10 #86683 4096\n",
    ")"
   ]
  },
  {
   "cell_type": "code",
   "execution_count": 11,
   "metadata": {},
   "outputs": [
    {
     "name": "stdout",
     "output_type": "stream",
     "text": [
      "13\n",
      "torch.Size([1, 3806, 1024])\n"
     ]
    }
   ],
   "source": [
    "texts = text_splitter.split_text(longest_str)\n",
    "print(len(texts))\n",
    "\n",
    "inputs = tokenizer(texts[0], return_tensors=\"pt\")\n",
    "outputs = model(**inputs)\n",
    "\n",
    "last_hidden_states = outputs.last_hidden_state\n",
    "\n",
    "print(last_hidden_states.shape)"
   ]
  },
  {
   "cell_type": "code",
   "execution_count": null,
   "metadata": {},
   "outputs": [],
   "source": [
    "con.close()"
   ]
  }
 ],
 "metadata": {
  "kernelspec": {
   "display_name": "py",
   "language": "python",
   "name": "python3"
  },
  "language_info": {
   "codemirror_mode": {
    "name": "ipython",
    "version": 3
   },
   "file_extension": ".py",
   "mimetype": "text/x-python",
   "name": "python",
   "nbconvert_exporter": "python",
   "pygments_lexer": "ipython3",
   "version": "3.10.9"
  },
  "orig_nbformat": 4
 },
 "nbformat": 4,
 "nbformat_minor": 2
}
